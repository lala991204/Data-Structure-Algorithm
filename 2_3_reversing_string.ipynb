{
  "nbformat": 4,
  "nbformat_minor": 0,
  "metadata": {
    "colab": {
      "name": "2.3_reversing_string.ipynb",
      "provenance": [],
      "collapsed_sections": [],
      "authorship_tag": "ABX9TyOm2pyB5IdJFwwj+yduxHr3",
      "include_colab_link": true
    },
    "kernelspec": {
      "name": "python3",
      "display_name": "Python 3"
    },
    "language_info": {
      "name": "python"
    }
  },
  "cells": [
    {
      "cell_type": "markdown",
      "metadata": {
        "id": "view-in-github",
        "colab_type": "text"
      },
      "source": [
        "<a href=\"https://colab.research.google.com/github/lala991204/Data-Structure-Algorithm/blob/master/2_3_reversing_string.ipynb\" target=\"_parent\"><img src=\"https://colab.research.google.com/assets/colab-badge.svg\" alt=\"Open In Colab\"/></a>"
      ]
    },
    {
      "cell_type": "markdown",
      "source": [
        "파이썬은 원시 바이트를 처리하는 데 사용할 수 있는 데이터 타입으로 불변 타입의 바이트(byte)(문자열 타입과 유사) 와\n",
        "가변 타입의 바이트 배열(bytearray)(리스트 타입과 유사)을 제공함.\n",
        "두 타입 모두 0~255 범위의 부호 없는 8비트 정수 시퀀스로 이루어짐."
      ],
      "metadata": {
        "id": "MhX2CB76ps6o"
      }
    },
    {
      "cell_type": "code",
      "execution_count": null,
      "metadata": {
        "colab": {
          "base_uri": "https://localhost:8080/"
        },
        "id": "kEXYkwAenstr",
        "outputId": "4ff480d0-16fa-4c2b-c6ca-735fd657d30a"
      },
      "outputs": [
        {
          "output_type": "stream",
          "name": "stdout",
          "text": [
            "b'\\x01\\x02\\x03\\xff'\n",
            "bytearray(b'\\x01\\x02\\x03\\xff')\n",
            "bytearray(b'\\x01\\x7f\\x03\\xff')\n"
          ]
        }
      ],
      "source": [
        "blist = [1, 2, 3, 255]\n",
        "the_bytes = bytes(blist)\n",
        "print(the_bytes)\n",
        "\n",
        "the_byte_array = bytearray(blist)\n",
        "print(the_byte_array)\n",
        "\n",
        "# the_bytes[1] = 127    # 불변(immutable)     # 오류 뜸.\n",
        "\n",
        "the_byte_array[1] = 127       # 가변(mutable)\n",
        "print(the_byte_array)"
      ]
    },
    {
      "cell_type": "code",
      "source": [
        "x = 4\n",
        "print(1 << x)      # 1(2진수로 바꿈)을 x번 만큼 왼쪽으로 이동한다는 의미 ((없는 자리수는 0으로 채움))\n",
        "\n",
        "x = 8\n",
        "print(x & (x-1))   # x와 (x-1)를 2진수로 바꾼 뒤, And 연산자 써서 결과 도출\n",
        "\n",
        "x = 6\n",
        "print(x & (x-1))"
      ],
      "metadata": {
        "colab": {
          "base_uri": "https://localhost:8080/"
        },
        "id": "Yeq3lnOJo9tZ",
        "outputId": "e143e5ec-63c4-4182-ca94-88c7c29e8c36"
      },
      "execution_count": null,
      "outputs": [
        {
          "output_type": "stream",
          "name": "stdout",
          "text": [
            "16\n",
            "0\n",
            "4\n"
          ]
        }
      ]
    },
    {
      "cell_type": "code",
      "source": [
        "def revert(s):\n",
        "    if s:\n",
        "        s = s[-1] + revert(s[:-1])\n",
        "    return s\n",
        "\n",
        "def revert2(string):\n",
        "    return string[::-1]\n",
        "\n",
        "if __name__ == \"__main__\":\n",
        "    str1 = \"안녕 세상!\"\n",
        "    str2 = revert(str1)\n",
        "    str3 = revert2(str1)\n",
        "    print(str2)\n",
        "    print(str3)"
      ],
      "metadata": {
        "colab": {
          "base_uri": "https://localhost:8080/"
        },
        "id": "RPp-wiccqhim",
        "outputId": "6e2f3c2f-0d3c-47e4-8c2a-124553764ae3"
      },
      "execution_count": null,
      "outputs": [
        {
          "output_type": "stream",
          "name": "stdout",
          "text": [
            "!상세 녕안\n",
            "!상세 녕안\n"
          ]
        }
      ]
    },
    {
      "cell_type": "code",
      "source": [
        "ss = \"안녕 세상!\"\n",
        "print(ss[::-1])\n",
        "print(revert(ss))"
      ],
      "metadata": {
        "id": "eUrws6rnrFPA",
        "colab": {
          "base_uri": "https://localhost:8080/"
        },
        "outputId": "44101774-b708-4be6-83a5-17cb219fc152"
      },
      "execution_count": null,
      "outputs": [
        {
          "output_type": "stream",
          "name": "stdout",
          "text": [
            "!상세 녕안\n",
            "!상세 녕안\n"
          ]
        }
      ]
    },
    {
      "cell_type": "code",
      "source": [
        ""
      ],
      "metadata": {
        "id": "YE-fBkCpvwml"
      },
      "execution_count": null,
      "outputs": []
    }
  ]
}