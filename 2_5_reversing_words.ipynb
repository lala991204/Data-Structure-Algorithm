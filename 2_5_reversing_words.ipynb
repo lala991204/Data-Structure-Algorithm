{
  "nbformat": 4,
  "nbformat_minor": 0,
  "metadata": {
    "colab": {
      "name": "2.5_reversing_words.ipynb",
      "provenance": [],
      "collapsed_sections": [],
      "toc_visible": true,
      "authorship_tag": "ABX9TyPfioYjQNqizlJ6WnJdQJ/K",
      "include_colab_link": true
    },
    "kernelspec": {
      "name": "python3",
      "display_name": "Python 3"
    },
    "language_info": {
      "name": "python"
    }
  },
  "cells": [
    {
      "cell_type": "markdown",
      "metadata": {
        "id": "view-in-github",
        "colab_type": "text"
      },
      "source": [
        "<a href=\"https://colab.research.google.com/github/lala991204/Data-Structure-Algorithm/blob/master/2_5_reversing_words.ipynb\" target=\"_parent\"><img src=\"https://colab.research.google.com/assets/colab-badge.svg\" alt=\"Open In Colab\"/></a>"
      ]
    },
    {
      "cell_type": "markdown",
      "source": [
        "단어 단위로 나눠 리스트에 추가한 후, 리스트 반전시키는 함수"
      ],
      "metadata": {
        "id": "IUf2xmTsOG4a"
      }
    },
    {
      "cell_type": "code",
      "execution_count": null,
      "metadata": {
        "id": "MVn-v9YCy4n0",
        "outputId": "d0118b20-1540-4a0e-8a02-2ec8661c8a19",
        "colab": {
          "base_uri": "https://localhost:8080/"
        }
      },
      "outputs": [
        {
          "output_type": "stream",
          "name": "stdout",
          "text": [
            "재미있다 정말 알고리즘 파이썬\n"
          ]
        }
      ],
      "source": [
        "def reverse_words_brute(string):\n",
        "    word, sentence = [], []\n",
        "    for character in string:    # 문자열의 각 문자마다 추출\n",
        "        if character != \" \":    # 공백이 아니면 word에 하나씩 저장해두자.\n",
        "            word.append(character)\n",
        "        else:\n",
        "            # 조건문에서 빈 리스트는 False다. 여러 공백이 있는 경우 조건문을 건너뜀\n",
        "            if word:\n",
        "                sentence.append(\"\".join(word))      # 공백을 만나면 word에 저장된 문자들을 하나의 문자열로 합친 뒤 sentence에 저장.\n",
        "            word = []           # word 리스트를 비워두자.\n",
        "\n",
        "    # 마지막 단어가 있다면, 문장에 추가\n",
        "    if word != \"\":\n",
        "        sentence.append(\"\".join(word))\n",
        "    sentence.reverse()        # 각 문자열 반전 시킨 후 \n",
        "    return \" \".join(sentence)     # 합쳐서 반환\n",
        "\n",
        "\n",
        "if __name__ == \"__main__\":\n",
        "    str1 = \"파이썬 알고리즘 정말 재미있다\"\n",
        "    str2 = reverse_words_brute(str1)\n",
        "    print(str2)"
      ]
    },
    {
      "cell_type": "code",
      "source": [
        "str1 = \"파이썬 알고리즘 정말 재미있다\"\n",
        "for character in str1:\n",
        "    print(character)"
      ],
      "metadata": {
        "id": "0yzeY6hg0VDM",
        "colab": {
          "base_uri": "https://localhost:8080/"
        },
        "outputId": "98c91703-a3ea-4e0c-85b8-9d1b1be228aa"
      },
      "execution_count": 1,
      "outputs": [
        {
          "output_type": "stream",
          "name": "stdout",
          "text": [
            "파\n",
            "이\n",
            "썬\n",
            " \n",
            "알\n",
            "고\n",
            "리\n",
            "즘\n",
            " \n",
            "정\n",
            "말\n",
            " \n",
            "재\n",
            "미\n",
            "있\n",
            "다\n"
          ]
        }
      ]
    },
    {
      "cell_type": "code",
      "source": [
        ""
      ],
      "metadata": {
        "id": "lRHiSTGHNzG2"
      },
      "execution_count": null,
      "outputs": []
    }
  ]
}