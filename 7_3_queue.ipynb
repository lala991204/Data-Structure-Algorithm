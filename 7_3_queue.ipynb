{
  "nbformat": 4,
  "nbformat_minor": 0,
  "metadata": {
    "colab": {
      "name": "7.3_queue.ipynb",
      "provenance": [],
      "collapsed_sections": [],
      "toc_visible": true,
      "authorship_tag": "ABX9TyNFQqXdBZE7cpgeNVBz41OS",
      "include_colab_link": true
    },
    "kernelspec": {
      "name": "python3",
      "display_name": "Python 3"
    },
    "language_info": {
      "name": "python"
    }
  },
  "cells": [
    {
      "cell_type": "markdown",
      "metadata": {
        "id": "view-in-github",
        "colab_type": "text"
      },
      "source": [
        "<a href=\"https://colab.research.google.com/github/lala991204/Data-Structure-Algorithm/blob/master/7_3_queue.ipynb\" target=\"_parent\"><img src=\"https://colab.research.google.com/assets/colab-badge.svg\" alt=\"Open In Colab\"/></a>"
      ]
    },
    {
      "cell_type": "markdown",
      "source": [
        "queue는 선입선출(FIFO) 구조이며 큐의 모든 동작들(enqueue, dequeue, peek/front, empty, size)의 시간복잡도는 모두 O(1)이다."
      ],
      "metadata": {
        "id": "cq26ffbHEOCq"
      }
    },
    {
      "cell_type": "code",
      "execution_count": 1,
      "metadata": {
        "colab": {
          "base_uri": "https://localhost:8080/"
        },
        "id": "bIbE130bCZEo",
        "outputId": "e0636391-7173-44fb-aeb3-8e67c1d254bb"
      },
      "outputs": [
        {
          "output_type": "stream",
          "name": "stdout",
          "text": [
            "큐가 비었나요? True\n",
            "큐에 숫자 0~9를 추가합니다.\n",
            "큐 크기: 10\n",
            "peek: 0\n",
            "dequeue: 0\n",
            "peek: 1\n",
            "큐가 비었나요? False\n",
            "[9, 8, 7, 6, 5, 4, 3, 2, 1]\n"
          ]
        }
      ],
      "source": [
        "# 파이썬 이용\n",
        "class Queue(object):\n",
        "    def __init__(self): \n",
        "        self.items = []\n",
        "    \n",
        "    def isEmpty(self):                        ## 큐가 비어 있는지 확인\n",
        "        return not bool(self.items)\n",
        "    \n",
        "    def enqueue(self, item):                    ## 큐 뒤쪽에 항목 삽입\n",
        "        self.items.insert(0, item)   # 인덱스 '0' 위치에 item 넣음 (pop()을 할 때 리스트의 끝에서부터 나가므로 계략적으로)\n",
        "    \n",
        "    def dequeue(self):                        ## 큐 앞쪽의 항목 반환하고 제거\n",
        "        value = self.items.pop()     \n",
        "        if value is not None:\n",
        "            return value\n",
        "        else:\n",
        "            print(\"Queue is empty.\")\n",
        "    \n",
        "    def size(self):                         ## 큐의 크기 확인\n",
        "        return len(self.items)\n",
        "    \n",
        "    def peek(self):                        ## 큐 앞쪽의 항목 조회(peek/front)\n",
        "        if self.items:\n",
        "            return self.items[-1]\n",
        "        else:\n",
        "            print(\"Queue is empty.\")\n",
        "    \n",
        "    def __repr__(self):\n",
        "        return repr(self.items)\n",
        "\n",
        "\n",
        "if __name__ == \"__main__\":\n",
        "    queue = Queue()\n",
        "    print(\"큐가 비었나요? {0}\".format(queue.isEmpty()))\n",
        "    print(\"큐에 숫자 0~9를 추가합니다.\")\n",
        "    for i in range(10):\n",
        "        queue.enqueue(i)\n",
        "    print(\"큐 크기: {0}\".format(queue.size()))\n",
        "    print(\"peek: {0}\".format(queue.peek()))\n",
        "    print(\"dequeue: {0}\".format(queue.dequeue()))\n",
        "    print(\"peek: {0}\".format(queue.peek()))\n",
        "    print(\"큐가 비었나요? {0}\".format(queue.isEmpty()))\n",
        "    print(queue)"
      ]
    },
    {
      "cell_type": "markdown",
      "source": [
        "위는 리스트의 insert() 메서드를 썼지만, 이는 모든 요소가 메모리에서 이동될 수 있으므로 비효율적이다.(O(n))"
      ],
      "metadata": {
        "id": "UY3WvjUKE5_K"
      }
    },
    {
      "cell_type": "code",
      "source": [
        ""
      ],
      "metadata": {
        "id": "YuocHzbHD0om"
      },
      "execution_count": null,
      "outputs": []
    }
  ]
}