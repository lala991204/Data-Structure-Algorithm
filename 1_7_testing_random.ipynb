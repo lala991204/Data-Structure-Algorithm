{
  "nbformat": 4,
  "nbformat_minor": 0,
  "metadata": {
    "colab": {
      "name": "1.7_testing_random.ipynb",
      "provenance": [],
      "authorship_tag": "ABX9TyO5F0C6IMnae6ve2KrRrliU",
      "include_colab_link": true
    },
    "kernelspec": {
      "name": "python3",
      "display_name": "Python 3"
    },
    "language_info": {
      "name": "python"
    }
  },
  "cells": [
    {
      "cell_type": "markdown",
      "metadata": {
        "id": "view-in-github",
        "colab_type": "text"
      },
      "source": [
        "<a href=\"https://colab.research.google.com/github/lala991204/Data-Structure-Algorithm/blob/master/1_7_testing_random.ipynb\" target=\"_parent\"><img src=\"https://colab.research.google.com/assets/colab-badge.svg\" alt=\"Open In Colab\"/></a>"
      ]
    },
    {
      "cell_type": "code",
      "execution_count": 1,
      "metadata": {
        "colab": {
          "base_uri": "https://localhost:8080/"
        },
        "id": "VcbBitnY93C9",
        "outputId": "010e335a-f9ea-47bc-c710-2a52e6f2e272"
      },
      "outputs": [
        {
          "output_type": "stream",
          "name": "stdout",
          "text": [
            "3\n",
            "1\n",
            "4\n",
            "[1, 2]\n",
            "[3, 1, 4]\n",
            "[3, 1, 4, 2]\n",
            "3\n",
            "5\n"
          ]
        }
      ],
      "source": [
        "# 난수 생성\n",
        "import random\n",
        "\n",
        "def testing_random():\n",
        "    '''random 모듈 테스트 '''\n",
        "    values = [1,2,3,4]\n",
        "    print(random.choice(values))\n",
        "    print(random.choice(values))\n",
        "    print(random.choice(values))\n",
        "    print(random.sample(values, 2))\n",
        "    print(random.sample(values, 3))\n",
        "\n",
        "    '''values 리스트를 섞는다.'''\n",
        "    random.shuffle(values)\n",
        "    print(values)\n",
        "\n",
        "    ''' 0~10의 임의의 정수 생성'''\n",
        "    print(random.randint(0, 10))\n",
        "    print(random.randint(0, 10))\n",
        "\n",
        "if __name__ == '__main__':\n",
        "    testing_random()"
      ]
    },
    {
      "cell_type": "code",
      "source": [
        ""
      ],
      "metadata": {
        "id": "Foq0C40a-4zG"
      },
      "execution_count": null,
      "outputs": []
    }
  ]
}