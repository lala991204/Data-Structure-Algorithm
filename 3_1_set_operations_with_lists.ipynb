{
  "nbformat": 4,
  "nbformat_minor": 0,
  "metadata": {
    "colab": {
      "name": "3.1_set_operations_with_lists.ipynb",
      "provenance": [],
      "collapsed_sections": [],
      "toc_visible": true,
      "authorship_tag": "ABX9TyPUB+6yDx2XuHOWYIOTsw5F",
      "include_colab_link": true
    },
    "kernelspec": {
      "name": "python3",
      "display_name": "Python 3"
    },
    "language_info": {
      "name": "python"
    }
  },
  "cells": [
    {
      "cell_type": "markdown",
      "metadata": {
        "id": "view-in-github",
        "colab_type": "text"
      },
      "source": [
        "<a href=\"https://colab.research.google.com/github/lala991204/Data-Structure-Algorithm/blob/master/3_1_set_operations_with_lists.ipynb\" target=\"_parent\"><img src=\"https://colab.research.google.com/assets/colab-badge.svg\" alt=\"Open In Colab\"/></a>"
      ]
    },
    {
      "cell_type": "markdown",
      "source": [
        "파이썬의 내장 컬렉션 데이터 타입에는 셋과 딕셔너리가 있다. \\\\\n",
        "셋은 가변 객체이며, 프로즌 셋은 불변 객체이다."
      ],
      "metadata": {
        "id": "-13YHeXgWeaW"
      }
    },
    {
      "cell_type": "code",
      "execution_count": null,
      "metadata": {
        "colab": {
          "base_uri": "https://localhost:8080/"
        },
        "id": "6hIYOHadIq3j",
        "outputId": "414dc3ef-5b07-48ba-9d0c-338a3795fe3c"
      },
      "outputs": [
        {
          "output_type": "stream",
          "name": "stdout",
          "text": [
            "['__and__', '__class__', '__contains__', '__delattr__', '__dir__', '__doc__', '__eq__', '__format__', '__ge__', '__getattribute__', '__gt__', '__hash__', '__iand__', '__init__', '__init_subclass__', '__ior__', '__isub__', '__iter__', '__ixor__', '__le__', '__len__', '__lt__', '__ne__', '__new__', '__or__', '__rand__', '__reduce__', '__reduce_ex__', '__repr__', '__ror__', '__rsub__', '__rxor__', '__setattr__', '__sizeof__', '__str__', '__sub__', '__subclasshook__', '__xor__', 'add', 'clear', 'copy', 'difference', 'difference_update', 'discard', 'intersection', 'intersection_update', 'isdisjoint', 'issubset', 'issuperset', 'pop', 'remove', 'symmetric_difference', 'symmetric_difference_update', 'union', 'update']\n",
            "['__and__', '__class__', '__contains__', '__delattr__', '__dir__', '__doc__', '__eq__', '__format__', '__ge__', '__getattribute__', '__gt__', '__hash__', '__init__', '__init_subclass__', '__iter__', '__le__', '__len__', '__lt__', '__ne__', '__new__', '__or__', '__rand__', '__reduce__', '__reduce_ex__', '__repr__', '__ror__', '__rsub__', '__rxor__', '__setattr__', '__sizeof__', '__str__', '__sub__', '__subclasshook__', '__xor__', 'copy', 'difference', 'intersection', 'isdisjoint', 'issubset', 'issuperset', 'symmetric_difference', 'union']\n",
            "True\n",
            "5\n"
          ]
        }
      ],
      "source": [
        "print(dir(set()))\n",
        "print(dir(frozenset()))\n",
        "\n",
        "fs = frozenset((0,1,2,3,4))\n",
        "print(2 in fs)\n",
        "print(len(fs))"
      ]
    },
    {
      "cell_type": "code",
      "source": [
        "people = {\"버피\", \"에인절\", \"자일스\"}\n",
        "people.add(\"윌로\")\n",
        "print(people)\n",
        "print(\"\\n\")\n",
        "\n",
        "people = {\"버피\", \"에인절\", \"자일스\"}\n",
        "people.update({\"로미오\", \"줄리엣\", \"에인절\"})\n",
        "print(people)\n",
        "people |= {\"리키\", \"유진\"}   # 합집합\n",
        "print(people)\n",
        "print(\"\\n\")\n",
        "\n",
        "# A.union(B)과 A|B는 A.update(B)와 다르게 연산 결과를 복사본으로 반환 \n",
        "people = {\"버피\", \"에인절\", \"자일스\"}\n",
        "print(people.union({\"로미오\", \"줄리엣\"}))\n",
        "print(people)\n",
        "print(people | {\"브라이언\"})\n",
        "print('\\n')\n",
        "\n",
        "people = {\"버피\", \"에인절\", \"자일스\", \"이안\"}\n",
        "vampires = {\"에인절\", \"자일스\", \"윌로\"}\n",
        "print(people.intersection(vampires))\n",
        "print(people & vampires)\n",
        "print(\"\\n\")\n",
        "\n",
        "people = {\"버피\", \"에인절\", \"자일스\", \"아영\"}\n",
        "vampires = {\"스파이크\", \"에인절\", \"상민\"}\n",
        "print(people.difference(vampires))\n",
        "print(people - vampires)\n",
        "print(\"\\n\")\n",
        "\n",
        "people = {\"버피\", \"자일스\", \"에인절\"}\n",
        "people.clear()\n",
        "print(people)\n",
        "print(\"\\n\")\n",
        "\n",
        "countries = {\"프랑스\", \"스페인\", \"영국\"}\n",
        "countries.discard(\"한국\")       # 반환 값 없음\n",
        "# countries.remove(\"일본\")            # 셋이 빈 경우, key error 발생\n",
        "print(countries.pop())      # 한 항목을 무작위 제거, 그 항목 반환\n",
        "countries.discard(\"스페인\")\n",
        "countries.discard(\"영국\")\n",
        "countries.discard(\"프랑스\")\n",
        "# countries.pop()           # 셋이 빈 경우, key error 발생"
      ],
      "metadata": {
        "colab": {
          "base_uri": "https://localhost:8080/"
        },
        "id": "Ur2C7xCeI_F6",
        "outputId": "117c68d0-6978-41e6-ffb6-5a4a5b215119"
      },
      "execution_count": null,
      "outputs": [
        {
          "output_type": "stream",
          "name": "stdout",
          "text": [
            "{'버피', '에인절', '윌로', '자일스'}\n",
            "\n",
            "\n",
            "{'자일스', '에인절', '로미오', '버피', '줄리엣'}\n",
            "{'자일스', '에인절', '리키', '로미오', '버피', '줄리엣', '유진'}\n",
            "\n",
            "\n",
            "{'자일스', '에인절', '로미오', '버피', '줄리엣'}\n",
            "{'버피', '에인절', '자일스'}\n",
            "{'버피', '에인절', '브라이언', '자일스'}\n",
            "\n",
            "\n",
            "{'자일스', '에인절'}\n",
            "{'자일스', '에인절'}\n",
            "\n",
            "\n",
            "{'버피', '아영', '자일스'}\n",
            "{'버피', '아영', '자일스'}\n",
            "\n",
            "\n",
            "set()\n",
            "\n",
            "\n",
            "스페인\n"
          ]
        }
      ]
    },
    {
      "cell_type": "code",
      "source": [
        "def remove_dup(l1):\n",
        "    ''' 리스트의 중복된 항목을 제거한 후 반환한다. '''\n",
        "    return list(set(l1))\n",
        "\n",
        "def intersection(l1, l2):\n",
        "    ''' 교집합 결과를 반환한다. '''\n",
        "    return list(set(l1) & set(l2))\n",
        "\n",
        "def union(l1, l2):\n",
        "    ''' 합집합 결과를 반환한다. '''\n",
        "    return list(set(l1) | set(l2))\n",
        "\n",
        "def test_sets_operations_with_lists():\n",
        "    l1 = [1, 2, 3, 4, 5, 5, 9, 11, 11, 15]\n",
        "    l2 = [4, 5, 6, 7, 8]\n",
        "    l3 = []\n",
        "    assert(remove_dup(l1) == [1, 2, 3, 4, 5, 9, 11, 15])\n",
        "    assert(intersection(l1, l2) == [4, 5])\n",
        "    assert(union(l1, l2) == [1, 2, 3, 4, 5, 6, 7, 8, 9, 11, 15])\n",
        "    assert(remove_dup(l3) == [])\n",
        "    assert(intersection(l3, l2) == l3)\n",
        "    assert(sorted(union(l3, l2)) == sorted(l2))\n",
        "    print(\"테스트 통과!\")\n",
        "\n",
        "if __name__ == \"__main__\":\n",
        "    test_sets_operations_with_lists()"
      ],
      "metadata": {
        "colab": {
          "base_uri": "https://localhost:8080/"
        },
        "id": "NzaeBV-LKOVE",
        "outputId": "4561c4ef-3ff8-4982-952b-2d214c4026ba"
      },
      "execution_count": null,
      "outputs": [
        {
          "output_type": "stream",
          "name": "stdout",
          "text": [
            "테스트 통과!\n"
          ]
        }
      ]
    },
    {
      "cell_type": "code",
      "source": [
        ""
      ],
      "metadata": {
        "id": "ESrl2vwNOVmb"
      },
      "execution_count": null,
      "outputs": []
    }
  ]
}