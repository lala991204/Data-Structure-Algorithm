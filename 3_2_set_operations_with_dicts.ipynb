{
  "nbformat": 4,
  "nbformat_minor": 0,
  "metadata": {
    "colab": {
      "name": "3.2_set_operations_with_dicts.ipynb",
      "provenance": [],
      "collapsed_sections": [],
      "authorship_tag": "ABX9TyOw4n+/2/B/a1wFkhLOh8gR",
      "include_colab_link": true
    },
    "kernelspec": {
      "name": "python3",
      "display_name": "Python 3"
    },
    "language_info": {
      "name": "python"
    }
  },
  "cells": [
    {
      "cell_type": "markdown",
      "metadata": {
        "id": "view-in-github",
        "colab_type": "text"
      },
      "source": [
        "<a href=\"https://colab.research.google.com/github/lala991204/Data-Structure-Algorithm/blob/master/3_2_set_operations_with_dicts.ipynb\" target=\"_parent\"><img src=\"https://colab.research.google.com/assets/colab-badge.svg\" alt=\"Open In Colab\"/></a>"
      ]
    },
    {
      "cell_type": "code",
      "execution_count": 2,
      "metadata": {
        "colab": {
          "base_uri": "https://localhost:8080/"
        },
        "id": "j0rSQNzcPT-d",
        "outputId": "9873cbae-be63-475c-a466-bec4727ce5cc"
      },
      "outputs": [
        {
          "output_type": "stream",
          "name": "stdout",
          "text": [
            "딕셔너리1\t: {'a': 1, 'b': 2, 'c': 3}\n",
            "딕셔너리2\t: {'a': 1, 'c': 2, 'd': 3, 'e': 4}\n",
            "d1 intersection d2 (키)\t: {'c', 'a'}\n",
            "d1 intersection d2 (키, 값)\t: {('a', 1)}\n",
            "d1 - d2 (키)\t: {'b'}\n",
            "d2 - d1 (키)\t: {'e', 'd'}\n",
            "d1 - d2 (키, 값)\t: {('c', 3), ('b', 2)}\n",
            "d2 - {c, d}\t: {'a': 1, 'e': 4}\n"
          ]
        }
      ],
      "source": [
        "def set_operations_with_dict():\n",
        "    pairs = [(\"a\", 1), (\"b\", 2), (\"c\", 3)]\n",
        "    d1 = dict(pairs)\n",
        "    print(\"딕셔너리1\\t: {0}\".format(d1))\n",
        "\n",
        "    d2 = {\"a\": 1, \"c\":2, \"d\": 3, \"e\": 4}\n",
        "    print(\"딕셔너리2\\t: {0}\".format(d2))\n",
        "\n",
        "    intersection = d1.keys() & d2.keys()\n",
        "    print(\"d1 intersection d2 (키)\\t: {0}\".format(intersection))\n",
        "\n",
        "    intersection_items = d1.items() & d2.items()\n",
        "    print(\"d1 intersection d2 (키, 값)\\t: {0}\".format(intersection_items))\n",
        "\n",
        "    subtraction1 = d1.keys() - d2.keys()\n",
        "    print(\"d1 - d2 (키)\\t: {0}\".format(subtraction1))\n",
        "\n",
        "    subtraction2 = d2.keys() - d1.keys()\n",
        "    print(\"d2 - d1 (키)\\t: {0}\".format(subtraction2))\n",
        "\n",
        "    subtraction_items = d1.items() - d2.items()\n",
        "    print(\"d1 - d2 (키, 값)\\t: {0}\".format(subtraction_items))\n",
        "\n",
        "    ''' 딕셔너리의 특정 키를 제외한다. '''\n",
        "    d3 = {key: d2[key] for key in d2.keys() - {\"c\", \"d\"}}\n",
        "    print(\"d2 - {{c, d}}\\t: {0}\".format(d3))\n",
        "\n",
        "if __name__ == \"__main__\":\n",
        "    set_operations_with_dict()"
      ]
    },
    {
      "cell_type": "code",
      "source": [
        ""
      ],
      "metadata": {
        "id": "guz3JJXLUzC6"
      },
      "execution_count": null,
      "outputs": []
    }
  ]
}