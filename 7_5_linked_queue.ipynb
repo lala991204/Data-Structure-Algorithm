{
  "nbformat": 4,
  "nbformat_minor": 0,
  "metadata": {
    "colab": {
      "name": "7.5_linked_queue.ipynb",
      "provenance": [],
      "collapsed_sections": [],
      "toc_visible": true,
      "authorship_tag": "ABX9TyP5S9vsTouypwwcSnlwZyFo",
      "include_colab_link": true
    },
    "kernelspec": {
      "name": "python3",
      "display_name": "Python 3"
    },
    "language_info": {
      "name": "python"
    }
  },
  "cells": [
    {
      "cell_type": "markdown",
      "metadata": {
        "id": "view-in-github",
        "colab_type": "text"
      },
      "source": [
        "<a href=\"https://colab.research.google.com/github/lala991204/Data-Structure-Algorithm/blob/master/7_5_linked_queue.ipynb\" target=\"_parent\"><img src=\"https://colab.research.google.com/assets/colab-badge.svg\" alt=\"Open In Colab\"/></a>"
      ]
    },
    {
      "cell_type": "code",
      "execution_count": 6,
      "metadata": {
        "colab": {
          "base_uri": "https://localhost:8080/"
        },
        "id": "lll5QRo5IU7h",
        "outputId": "33e16536-6ba8-44d1-ce85-5be158354d1c"
      },
      "outputs": [
        {
          "output_type": "stream",
          "name": "stdout",
          "text": [
            "큐가 비었나요? True\n",
            "큐에 숫자 0~9를 추가합니다.\n",
            "큐가 비었나요? False\n",
            "0 1 2 3 4 5 6 7 8 9 \n",
            "큐 크기: 10\n",
            "peek: 0\n",
            "dequeue: 0\n",
            "peek: 1\n",
            "1 2 3 4 5 6 7 8 9 \n"
          ]
        }
      ],
      "source": [
        "# 노드(객체)의 컨테이너 이용\n",
        "\n",
        "class Node(object):\n",
        "    def __init__(self, value=None, pointer=None):\n",
        "        self.value = value\n",
        "        self.pointer = None\n",
        "\n",
        "class LinkedQueue(object):\n",
        "    def __init__(self):\n",
        "        self.head = None\n",
        "        self.tail = None\n",
        "        self.count = 0\n",
        "    \n",
        "    def isEmpty(self):\n",
        "        return not bool(self.head)\n",
        "\n",
        "    def dequeue(self):\n",
        "        if self.head:\n",
        "            value = self.head.value\n",
        "            self.head = self.head.pointer\n",
        "            self.count -= 1\n",
        "            return value\n",
        "        else:\n",
        "            print(\"Queue is empty.\")\n",
        "\n",
        "    def enqueue(self, value):\n",
        "        node = Node(value)\n",
        "        if not self.head:       # head가 존재하지 않으면 head,tail 모두에 해당 내용 저장!\n",
        "            self.head = node\n",
        "            self.tail = node\n",
        "        else:                   # head가 존재하면 존재하는 tail에 포인트 표시후, 해당 내용 저장!\n",
        "            if self.tail:     \n",
        "                self.tail.pointer = node\n",
        "            self.tail = node\n",
        "        self.count += 1\n",
        "    \n",
        "    def size(self):\n",
        "        return self.count\n",
        "\n",
        "    def peek(self):\n",
        "        return self.head.value       # FIFO 구조이므로!\n",
        "   \n",
        "    def print(self):\n",
        "        node = self.head\n",
        "        while node:\n",
        "            print(node.value, end=\" \")\n",
        "            node = node.pointer\n",
        "        print()\n",
        "\n",
        "\n",
        "if __name__ == \"__main__\":\n",
        "    queue = LinkedQueue()\n",
        "    print(\"큐가 비었나요? {0}\".format(queue.isEmpty()))\n",
        "    print(\"큐에 숫자 0~9를 추가합니다.\")\n",
        "    for i in range(10):\n",
        "        queue.enqueue(i)\n",
        "    print(\"큐가 비었나요? {0}\".format(queue.isEmpty()))\n",
        "    queue.print()\n",
        "\n",
        "    print(\"큐 크기: {0}\".format(queue.size()))\n",
        "    print(\"peek: {0}\".format(queue.peek()))\n",
        "    print(\"dequeue: {0}\".format(queue.dequeue()))\n",
        "    print(\"peek: {0}\".format(queue.peek()))\n",
        "    queue.print()"
      ]
    },
    {
      "cell_type": "markdown",
      "source": [
        "큐는 너비 우선 탐색(BFS)에서 사용된다."
      ],
      "metadata": {
        "id": "fE30sYdOQuaS"
      }
    }
  ]
}