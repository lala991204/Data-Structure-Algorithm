{
  "nbformat": 4,
  "nbformat_minor": 0,
  "metadata": {
    "colab": {
      "name": "3.4_runtime_dicts_with_timeit_module.ipynb",
      "provenance": [],
      "collapsed_sections": [],
      "authorship_tag": "ABX9TyPzVLNBBr9D/rhFbkOO0FxI",
      "include_colab_link": true
    },
    "kernelspec": {
      "name": "python3",
      "display_name": "Python 3"
    },
    "language_info": {
      "name": "python"
    }
  },
  "cells": [
    {
      "cell_type": "markdown",
      "metadata": {
        "id": "view-in-github",
        "colab_type": "text"
      },
      "source": [
        "<a href=\"https://colab.research.google.com/github/lala991204/Data-Structure-Algorithm/blob/master/3_4_runtime_dicts_with_timeit_module.ipynb\" target=\"_parent\"><img src=\"https://colab.research.google.com/assets/colab-badge.svg\" alt=\"Open In Colab\"/></a>"
      ]
    },
    {
      "cell_type": "code",
      "execution_count": 11,
      "metadata": {
        "colab": {
          "base_uri": "https://localhost:8080/"
        },
        "id": "DfSyJdDFZWEa",
        "outputId": "61ce54af-1c49-45b6-b522-d1f72f38b8fc"
      },
      "outputs": [
        {
          "output_type": "stream",
          "name": "stdout",
          "text": [
            "{'a': 1, 'b': 10}\n",
            "{'a': 1, 'b': 10, 'c': 100}\n",
            "\n",
            "게임\n",
            "게임\n",
            "None\n",
            "\n",
            "dict_items([('name', '잰더'), ('age', 17), ('hobby', '게임')])\n",
            "dict_values(['잰더', 17, '게임'])\n",
            "dict_keys(['name', 'age', 'hobby'])\n",
            "{'name': '잰더', 'age': 17, 'hobby': '게임', 'address': '서울'}\n",
            "\n",
            "17\n",
            "{'name': '잰더', 'hobby': '게임', 'address': '서울'}\n",
            "('address', '서울')\n",
            "{'name': '잰더', 'hobby': '게임'}\n",
            "\n",
            "{}\n"
          ]
        }
      ],
      "source": [
        "d = {'a':1, 'b':2}\n",
        "d.update({'b':10})\n",
        "print(d)           # 같은 키가 존재한다면 해당 값으로 갱신함\n",
        "\n",
        "d.update({'c':100})     # 해당 키가 존재하지 않는다면 새로 추가함\n",
        "print(d)\n",
        "print()\n",
        "\n",
        "sunnydale = dict(name='잰더', age=17, hobby='게임')\n",
        "print(sunnydale.get(\"hobby\"))\n",
        "print(sunnydale['hobby'])\n",
        "print(sunnydale.get(\"hello\"))\n",
        "# print(sunnydale['hello'])     # 반환할 것이 없다면, 오류 뜸\n",
        "print()\n",
        "\n",
        "sunnydale = dict(name=\"잰더\", age=17, hobby=\"게임\")\n",
        "print(sunnydale.items())\n",
        "print(sunnydale.values())\n",
        "print(sunnydale.keys())\n",
        "\n",
        "sunnydale_copy = sunnydale.items()\n",
        "# sunnydale_copy['address'] = \"서울\"\n",
        "sunnydale['address'] = '서울'\n",
        "print(sunnydale)\n",
        "print()\n",
        "\n",
        "sunnydale = dict(name=\"잰더\", age=17, hobby=\"게임\", address=\"서울\")\n",
        "print(sunnydale.pop(\"age\"))\n",
        "print(sunnydale)\n",
        "print(sunnydale.popitem())\n",
        "print(sunnydale)\n",
        "print()\n",
        "\n",
        "sunnydale.clear()\n",
        "print(sunnydale)"
      ]
    },
    {
      "cell_type": "code",
      "source": [
        "# 멤버십 연산에 대한 시간복잡도는 리스트는 O(n)인 반면, 딕셔너리는 O(1)이다.\n",
        "import timeit\n",
        "import random\n",
        "\n",
        "for i in range(10000, 1000001, 20000):\n",
        "    t = timeit.Timer(\"random.randrange(%d) in x\" % i,\n",
        "                     \"from __main__ import random, x\")\n",
        "    \n",
        "    x = list(range(i))        # 리스트\n",
        "    lst_time = t.timeit(number=1000)\n",
        "\n",
        "    x = {j: None for j in range(i)}   # 딕셔너리\n",
        "    d_time = t.timeit(number=1000)\n",
        "\n",
        "    print(\"%d, %10.3f, %10.3f\" % (i, lst_time, d_time))"
      ],
      "metadata": {
        "colab": {
          "base_uri": "https://localhost:8080/"
        },
        "id": "nmzedFc3blro",
        "outputId": "8d7ab554-7f8c-4991-e3dc-b59690420c1c"
      },
      "execution_count": 12,
      "outputs": [
        {
          "output_type": "stream",
          "name": "stdout",
          "text": [
            "10000,      0.083,      0.001\n",
            "30000,      0.312,      0.001\n",
            "50000,      0.426,      0.002\n",
            "70000,      0.570,      0.001\n",
            "90000,      0.733,      0.001\n",
            "110000,      0.885,      0.001\n",
            "130000,      1.046,      0.001\n",
            "150000,      1.228,      0.001\n",
            "170000,      1.380,      0.001\n",
            "190000,      1.521,      0.001\n",
            "210000,      1.690,      0.001\n",
            "230000,      1.916,      0.001\n",
            "250000,      1.950,      0.001\n",
            "270000,      2.158,      0.002\n",
            "290000,      2.360,      0.002\n",
            "310000,      2.614,      0.001\n",
            "330000,      2.686,      0.001\n",
            "350000,      2.758,      0.001\n",
            "370000,      2.955,      0.002\n",
            "390000,      3.148,      0.001\n",
            "410000,      3.394,      0.001\n",
            "430000,      3.414,      0.001\n",
            "450000,      3.741,      0.001\n",
            "470000,      3.746,      0.002\n",
            "490000,      4.017,      0.001\n",
            "510000,      4.015,      0.001\n",
            "530000,      4.409,      0.002\n",
            "550000,      4.543,      0.002\n",
            "570000,      4.726,      0.002\n",
            "590000,      4.823,      0.002\n",
            "610000,      5.005,      0.002\n",
            "630000,      5.217,      0.002\n",
            "650000,      5.342,      0.002\n",
            "670000,      5.509,      0.002\n",
            "690000,      5.577,      0.003\n",
            "710000,      5.726,      0.002\n",
            "730000,      6.157,      0.002\n",
            "750000,      6.213,      0.002\n",
            "770000,      6.451,      0.002\n",
            "790000,      6.538,      0.001\n",
            "810000,      6.718,      0.002\n",
            "830000,      6.630,      0.001\n",
            "850000,      6.799,      0.002\n",
            "870000,      7.108,      0.002\n",
            "890000,      7.169,      0.002\n",
            "910000,      7.439,      0.002\n",
            "930000,      7.695,      0.002\n",
            "950000,      7.692,      0.002\n",
            "970000,      7.813,      0.002\n",
            "990000,      8.071,      0.002\n"
          ]
        }
      ]
    },
    {
      "cell_type": "code",
      "source": [
        ""
      ],
      "metadata": {
        "id": "bHaaYnG4fJra"
      },
      "execution_count": null,
      "outputs": []
    }
  ]
}