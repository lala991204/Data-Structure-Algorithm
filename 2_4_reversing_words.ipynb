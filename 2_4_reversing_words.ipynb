{
  "nbformat": 4,
  "nbformat_minor": 0,
  "metadata": {
    "colab": {
      "name": "2.4_reversing_words.ipynb",
      "provenance": [],
      "collapsed_sections": [],
      "toc_visible": true,
      "authorship_tag": "ABX9TyN0fYSpCL2Dk2ZR2rGZf8rS",
      "include_colab_link": true
    },
    "kernelspec": {
      "name": "python3",
      "display_name": "Python 3"
    },
    "language_info": {
      "name": "python"
    }
  },
  "cells": [
    {
      "cell_type": "markdown",
      "metadata": {
        "id": "view-in-github",
        "colab_type": "text"
      },
      "source": [
        "<a href=\"https://colab.research.google.com/github/lala991204/Data-Structure-Algorithm/blob/master/2_4_reversing_words.ipynb\" target=\"_parent\"><img src=\"https://colab.research.google.com/assets/colab-badge.svg\" alt=\"Open In Colab\"/></a>"
      ]
    },
    {
      "cell_type": "markdown",
      "source": [
        "파이썬 문자열은 불변 타입이므로 리스트 사용하여 문제해결 해야 하는 것을 고려해야 함. \\\\\n",
        "포인터를 사용할 경우, 코드는 다음과 같이 두 개의 반복문으로 구성됨."
      ],
      "metadata": {
        "id": "rHSsZX0NLEI4"
      }
    },
    {
      "cell_type": "code",
      "execution_count": 12,
      "metadata": {
        "id": "kCxycHMs5G2e",
        "colab": {
          "base_uri": "https://localhost:8080/"
        },
        "outputId": "c66b911b-93b0-4386-f6ae-735ddb2abac1"
      },
      "outputs": [
        {
          "output_type": "stream",
          "name": "stdout",
          "text": [
            "재미있다 정말 알고리즘 파이썬\n"
          ]
        }
      ],
      "source": [
        "# 두 포인터를 사용하여 '전체 문장 반전'시킴\n",
        "def reverser(string1, p1=0, p2=None):\n",
        "    if len(string1) < 2:   # 한 단어나 공백은 그대로 출력\n",
        "        return string1\n",
        "    p2 = p2 or len(string1) - 1\n",
        "    while p1 < p2:\n",
        "        string1[p1], string1[p2] = string1[p2], string1[p1]\n",
        "        p1 += 1\n",
        "        p2 -= 1\n",
        "\n",
        "# 공백을 만날 때 각 단어를 다시 반전시킴\n",
        "def reversing_words_sentence_logic(string1):\n",
        "    # 전체 문장 반전\n",
        "    reverser(string1)\n",
        "    p = 0\n",
        "    start = 0\n",
        "    while p < len(string1):\n",
        "        if string1[p] == u\"\\u0020\":      # 공백은 \" \" 또는 유니코드(u0020)로 나타낼 수 있음\n",
        "            # 단어를 다시 반전한다(각 단어를 원위치로 돌려놓음)\n",
        "            reverser(string1, start, p-1)      # 공백 바로 전까지\n",
        "            start = p+1      # 공백 바로 뒤부터\n",
        "        p += 1    # 공백 바로 뒤로 이동\n",
        "    \n",
        "    # 마지막 단어를 반전한다(단어를 원위치로 돌려놓음)\n",
        "    reverser(string1, start, p-1)\n",
        "    return \"\".join(string1)   # 리스트를 다시 문자열으로.\n",
        "\n",
        "\n",
        "if __name__ == \"__main__\":\n",
        "    str1 = \"파이썬 알고리즘 정말 재미있다\"\n",
        "    str2 = reversing_words_sentence_logic(list(str1))\n",
        "    print(str2)"
      ]
    },
    {
      "cell_type": "code",
      "source": [
        "a = 'ss ss'\n",
        "list(a)"
      ],
      "metadata": {
        "id": "6a0CAjlq7K5Y",
        "colab": {
          "base_uri": "https://localhost:8080/"
        },
        "outputId": "57ebac0d-bd16-4385-c2c6-2b879690526c"
      },
      "execution_count": 2,
      "outputs": [
        {
          "output_type": "execute_result",
          "data": {
            "text/plain": [
              "['s', 's', ' ', 's', 's']"
            ]
          },
          "metadata": {},
          "execution_count": 2
        }
      ]
    },
    {
      "cell_type": "code",
      "source": [
        "\"\".join(list(a))"
      ],
      "metadata": {
        "colab": {
          "base_uri": "https://localhost:8080/",
          "height": 36
        },
        "id": "aahgrPk_HU5x",
        "outputId": "26ceb940-3cc6-4b6d-c5e6-5cdf98ad6774"
      },
      "execution_count": 13,
      "outputs": [
        {
          "output_type": "execute_result",
          "data": {
            "text/plain": [
              "'ss ss'"
            ],
            "application/vnd.google.colaboratory.intrinsic+json": {
              "type": "string"
            }
          },
          "metadata": {},
          "execution_count": 13
        }
      ]
    },
    {
      "cell_type": "code",
      "source": [
        ""
      ],
      "metadata": {
        "id": "XmG3dVoDK06s"
      },
      "execution_count": null,
      "outputs": []
    }
  ]
}