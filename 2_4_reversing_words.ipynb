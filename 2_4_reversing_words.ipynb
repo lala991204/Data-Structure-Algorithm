{
  "nbformat": 4,
  "nbformat_minor": 0,
  "metadata": {
    "colab": {
      "name": "2.4_reversing_words.ipynb",
      "provenance": [],
      "authorship_tag": "ABX9TyPt/vOSwk2/OdWtllByCiZh",
      "include_colab_link": true
    },
    "kernelspec": {
      "name": "python3",
      "display_name": "Python 3"
    },
    "language_info": {
      "name": "python"
    }
  },
  "cells": [
    {
      "cell_type": "markdown",
      "metadata": {
        "id": "view-in-github",
        "colab_type": "text"
      },
      "source": [
        "<a href=\"https://colab.research.google.com/github/lala991204/Data-Structure-Algorithm/blob/master/2_4_reversing_words.ipynb\" target=\"_parent\"><img src=\"https://colab.research.google.com/assets/colab-badge.svg\" alt=\"Open In Colab\"/></a>"
      ]
    },
    {
      "cell_type": "code",
      "execution_count": 1,
      "metadata": {
        "id": "kCxycHMs5G2e"
      },
      "outputs": [],
      "source": [
        "def reversing_words(word):\n",
        "    new_word = []\n",
        "    words = word.split(' ')       # 공백을 기준으로 나눔\n",
        "    for word in words[::-1]:\n",
        "        new_word.append(word)\n",
        "    \n",
        "    return \" \".join(new_word)     # 공백을 기준으로 합침\n",
        "\n",
        "def reversing_words2(s):\n",
        "    words = s.split()\n",
        "\n",
        "    return ' '.join(reversed(words))\n",
        "\n",
        "def reversing_words3(s):\n",
        "    words = s.split(' ')\n",
        "    words.reverse()\n",
        "\n",
        "    return ' '.join(words)"
      ]
    },
    {
      "cell_type": "code",
      "source": [
        "print(reversing_words('buffy is awesome'))\n",
        "print(reversing_words2('buffy is awesome'))\n",
        "print(reversing_words3('buffy is awesome'))"
      ],
      "metadata": {
        "colab": {
          "base_uri": "https://localhost:8080/"
        },
        "id": "mcRaUW1B6VOU",
        "outputId": "7611e681-3a80-4abf-cb3b-f768fcc4ac69"
      },
      "execution_count": 2,
      "outputs": [
        {
          "output_type": "stream",
          "name": "stdout",
          "text": [
            "awesome is buffy\n",
            "awesome is buffy\n",
            "awesome is buffy\n"
          ]
        }
      ]
    },
    {
      "cell_type": "code",
      "source": [
        ""
      ],
      "metadata": {
        "id": "6a0CAjlq7K5Y"
      },
      "execution_count": null,
      "outputs": []
    }
  ]
}