{
  "nbformat": 4,
  "nbformat_minor": 0,
  "metadata": {
    "colab": {
      "name": "1.1_testing_floats.ipynb",
      "provenance": [],
      "collapsed_sections": [],
      "toc_visible": true,
      "authorship_tag": "ABX9TyMfYTLNJMqzkcyJMZgIYLHF",
      "include_colab_link": true
    },
    "kernelspec": {
      "name": "python3",
      "display_name": "Python 3"
    },
    "language_info": {
      "name": "python"
    }
  },
  "cells": [
    {
      "cell_type": "markdown",
      "metadata": {
        "id": "view-in-github",
        "colab_type": "text"
      },
      "source": [
        "<a href=\"https://colab.research.google.com/github/lala991204/Data-Structure-Algorithm/blob/master/1_1_testing_floats.ipynb\" target=\"_parent\"><img src=\"https://colab.research.google.com/assets/colab-badge.svg\" alt=\"Open In Colab\"/></a>"
      ]
    },
    {
      "cell_type": "code",
      "execution_count": null,
      "metadata": {
        "colab": {
          "base_uri": "https://localhost:8080/"
        },
        "id": "Zd4ibekzEO6m",
        "outputId": "b1413e97-28fa-418d-d6e9-80f19699f486"
      },
      "outputs": [
        {
          "output_type": "stream",
          "name": "stdout",
          "text": [
            "3.7.12 (default, Jan 15 2022, 18:48:18) \n",
            "[GCC 7.5.0]\n"
          ]
        }
      ],
      "source": [
        "# 파이썬 버전 확인\n",
        "import sys\n",
        "print(sys.version)"
      ]
    },
    {
      "cell_type": "code",
      "source": [
        "# '999'라는 정수를 (이진수로) 나타내는 데 필요한 바이트 수\n",
        "(999).bit_length()"
      ],
      "metadata": {
        "colab": {
          "base_uri": "https://localhost:8080/"
        },
        "id": "1Gfg43xSFDJB",
        "outputId": "c4842cac-5bbb-44e8-dd0b-11b04cb2ce27"
      },
      "execution_count": null,
      "outputs": [
        {
          "output_type": "execute_result",
          "data": {
            "text/plain": [
              "10"
            ]
          },
          "metadata": {},
          "execution_count": 5
        }
      ]
    },
    {
      "cell_type": "code",
      "source": [
        "s = '11'\n",
        "d = int(11)\n",
        "print(d)\n",
        "\n",
        "b = int(s, 2)  # int(value, base); base는 2~36\n",
        "print(b)  # 밑이 2일 때는 숫자 0,1만 포함 가능  # 11(2) => 1*2^1 + 1*2^0 = 3"
      ],
      "metadata": {
        "colab": {
          "base_uri": "https://localhost:8080/"
        },
        "id": "p-ExXtaFFf_q",
        "outputId": "62895a17-ac33-4c57-8d67-35e3930ca9be"
      },
      "execution_count": null,
      "outputs": [
        {
          "output_type": "stream",
          "name": "stdout",
          "text": [
            "11\n",
            "3\n"
          ]
        }
      ]
    },
    {
      "cell_type": "code",
      "source": [
        "# 부동소수점은 이진수 분수로 표현되므로 함부로 비교하거나 빼면 안 됨.\n",
        "print(0.2*3 == 0.6)\n",
        "print(1.2-0.2 == 1.0)\n",
        "print(1.2-0.1 == 1.1)\n",
        "print(0.1*0.1 == 0.01)"
      ],
      "metadata": {
        "colab": {
          "base_uri": "https://localhost:8080/"
        },
        "id": "mEOKjss7GLN3",
        "outputId": "d7ebbe9c-0b3e-4ce2-a04f-172a5a2454c9"
      },
      "execution_count": null,
      "outputs": [
        {
          "output_type": "stream",
          "name": "stdout",
          "text": [
            "False\n",
            "True\n",
            "False\n",
            "False\n"
          ]
        }
      ]
    },
    {
      "cell_type": "code",
      "source": [
        "# 이건 어디에 쓰는 건지 모르겠음.\n",
        "def a(x, y, places=7):\n",
        "    return round(abs(x-y), places) == 0"
      ],
      "metadata": {
        "id": "VwHSFP_EOSoU"
      },
      "execution_count": null,
      "outputs": []
    },
    {
      "cell_type": "code",
      "source": [
        "divmod(45,6)      # divmod(x,y): x를 y로 나눌 때 몫과 나머지 반환"
      ],
      "metadata": {
        "id": "aq-TGmUmO5wC",
        "colab": {
          "base_uri": "https://localhost:8080/"
        },
        "outputId": "cfc55f07-fdb1-4677-a2f4-6979f2d91a44"
      },
      "execution_count": 1,
      "outputs": [
        {
          "output_type": "execute_result",
          "data": {
            "text/plain": [
              "(7, 3)"
            ]
          },
          "metadata": {},
          "execution_count": 1
        }
      ]
    },
    {
      "cell_type": "code",
      "source": [
        "# round(x, n)은 n이 음수인 경우 x를 정수 n번째 자리에서 반올림한 값을 반환\n",
        "print(round(113.866, -1))\n",
        "# n이 양수인 경우 x를 소수점 이하 n번째 자리로 반올림한 값을 반환\n",
        "print(round(113.866, 2))"
      ],
      "metadata": {
        "colab": {
          "base_uri": "https://localhost:8080/"
        },
        "id": "NPjDpyHfVZyj",
        "outputId": "62b3d477-ed5b-407a-a0c4-472bd9fcfd4c"
      },
      "execution_count": 2,
      "outputs": [
        {
          "output_type": "stream",
          "name": "stdout",
          "text": [
            "110.0\n",
            "113.87\n"
          ]
        }
      ]
    },
    {
      "cell_type": "code",
      "source": [
        "# as_integer_ratio()는 부동소수점을 분수로 표현\n",
        "2.75.as_integer_ratio()"
      ],
      "metadata": {
        "colab": {
          "base_uri": "https://localhost:8080/"
        },
        "id": "P1UusMTOVzpw",
        "outputId": "9de468f8-c697-4deb-efe5-40374a2fde7b"
      },
      "execution_count": 3,
      "outputs": [
        {
          "output_type": "execute_result",
          "data": {
            "text/plain": [
              "(11, 4)"
            ]
          },
          "metadata": {},
          "execution_count": 3
        }
      ]
    },
    {
      "cell_type": "code",
      "source": [
        "from fractions import Fraction\n",
        "\n",
        "def rounding_floats(number1, places):\n",
        "    return round(number1, places)\n",
        "\n",
        "def float_to_fractions(number):\n",
        "    return Fraction(*number.as_integer_ratio())\n",
        "\n",
        "def get_denominator(number1, number2):\n",
        "    ''' 분모를 반환한다. '''\n",
        "    a = Fraction(number1, number2)\n",
        "    return a.denominator\n",
        "\n",
        "def get_numerator(number1, number2):\n",
        "    ''' 분자를 반환한다. '''\n",
        "    a = Fraction(number1, number2)\n",
        "    return a.numerator\n",
        "\n",
        "def test_testing_floats():\n",
        "    number1 = 1.25\n",
        "    number2 = 1\n",
        "    number3 = -1\n",
        "    number4 = 5/4\n",
        "    number6 = 6\n",
        "    assert(rounding_floats(number1, number2) == 1.2)\n",
        "    assert(rounding_floats(number1*10, number3) == 10)\n",
        "    assert(float_to_fractions(number1) == number4)\n",
        "    assert(get_denominator(number2, number6) == number6)\n",
        "    assert(get_numerator(number2, number6) == number2)\n",
        "    print(\"테스트 통과!\")\n",
        "\n",
        "if __name__ == \"__main__\":\n",
        "    test_testing_floats()"
      ],
      "metadata": {
        "colab": {
          "base_uri": "https://localhost:8080/"
        },
        "id": "8tBmmHOjWXKE",
        "outputId": "6d2a68d1-6a11-4575-efff-b277b77ba4b8"
      },
      "execution_count": 6,
      "outputs": [
        {
          "output_type": "stream",
          "name": "stdout",
          "text": [
            "테스트 통과!\n"
          ]
        }
      ]
    },
    {
      "cell_type": "code",
      "source": [
        ""
      ],
      "metadata": {
        "id": "MO0sTx90YTbm"
      },
      "execution_count": null,
      "outputs": []
    }
  ]
}