{
  "nbformat": 4,
  "nbformat_minor": 0,
  "metadata": {
    "colab": {
      "name": "3.9_is_anagram.ipynb",
      "provenance": [],
      "collapsed_sections": [],
      "toc_visible": true,
      "authorship_tag": "ABX9TyNDduozwiQv6zEIhLhJAuOa",
      "include_colab_link": true
    },
    "kernelspec": {
      "name": "python3",
      "display_name": "Python 3"
    },
    "language_info": {
      "name": "python"
    }
  },
  "cells": [
    {
      "cell_type": "markdown",
      "metadata": {
        "id": "view-in-github",
        "colab_type": "text"
      },
      "source": [
        "<a href=\"https://colab.research.google.com/github/lala991204/Data-Structure-Algorithm/blob/master/3_9_is_anagram.ipynb\" target=\"_parent\"><img src=\"https://colab.research.google.com/assets/colab-badge.svg\" alt=\"Open In Colab\"/></a>"
      ]
    },
    {
      "cell_type": "markdown",
      "source": [
        "애너그램은 문장 또는 단어의 철자 순서를 바꾸는 놀이이다."
      ],
      "metadata": {
        "id": "zdfRoN2iz0qk"
      }
    },
    {
      "cell_type": "code",
      "execution_count": 1,
      "metadata": {
        "colab": {
          "base_uri": "https://localhost:8080/"
        },
        "id": "TWkcNEjgqJ6q",
        "outputId": "f7b83518-678c-4221-9928-1be82645d7df"
      },
      "outputs": [
        {
          "output_type": "stream",
          "name": "stdout",
          "text": [
            "테스트 통과!\n"
          ]
        }
      ],
      "source": [
        "from collections import Counter\n",
        "\n",
        "def is_anagram(s1, s2):\n",
        "    counter = Counter()\n",
        "    for c in s1:\n",
        "        counter[c] += 1       # 첫 번째 문자열의 문자 발생 횟수를 더함\n",
        "    for c in s2:\n",
        "        counter[c] -= 1       # 두 번째 문자열의 문자 발생 횟수를 뺌\n",
        "    for i in counter.values():    # 딕셔너리의 모든 항목 값이 0이면, 두 문자열은 애너그램이다.\n",
        "        if i:\n",
        "            return False     # 0이 아니면 False 출력 후 반복문 빠져나옴.\n",
        "    return True        # 모두 0이면 True.\n",
        "\n",
        "def test_is_anagram():\n",
        "    s1 = \"marina\"\n",
        "    s2 = \"aniram\"\n",
        "    assert(is_anagram(s1, s2) is True)       # assert: 뒤의 조건문이 True가 아니면 error 발생.\n",
        "    s1 = \"google\"\n",
        "    s2 = \"gouglo\"\n",
        "    assert(is_anagram(s1, s2) is False)\n",
        "    print(\"테스트 통과!\")\n",
        "\n",
        "if __name__ == \"__main__\":\n",
        "    test_is_anagram()"
      ]
    },
    {
      "cell_type": "code",
      "source": [
        ""
      ],
      "metadata": {
        "id": "R4eW_x051Hzl"
      },
      "execution_count": null,
      "outputs": []
    }
  ]
}