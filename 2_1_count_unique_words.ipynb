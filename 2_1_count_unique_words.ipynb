{
  "nbformat": 4,
  "nbformat_minor": 0,
  "metadata": {
    "colab": {
      "name": "2.1_count_unique_words.ipynb",
      "provenance": [],
      "authorship_tag": "ABX9TyNw1Iv3aUrGKmTlmJNmgOaX",
      "include_colab_link": true
    },
    "kernelspec": {
      "name": "python3",
      "display_name": "Python 3"
    },
    "language_info": {
      "name": "python"
    }
  },
  "cells": [
    {
      "cell_type": "markdown",
      "metadata": {
        "id": "view-in-github",
        "colab_type": "text"
      },
      "source": [
        "<a href=\"https://colab.research.google.com/github/lala991204/Data-Structure-Algorithm/blob/master/2_1_count_unique_words.ipynb\" target=\"_parent\"><img src=\"https://colab.research.google.com/assets/colab-badge.svg\" alt=\"Open In Colab\"/></a>"
      ]
    },
    {
      "cell_type": "code",
      "execution_count": 3,
      "metadata": {
        "id": "1znaIi8avsfe",
        "colab": {
          "base_uri": "https://localhost:8080/"
        },
        "outputId": "f181249f-6859-4d92-978d-88efe3369540"
      },
      "outputs": [
        {
          "output_type": "stream",
          "name": "stdout",
          "text": [
            "<class 'list'>\n",
            "<class 'str'>\n",
            "<class 'tuple'>\n",
            "<class 'bytearray'>\n",
            "<class 'bytes'>\n"
          ]
        }
      ],
      "source": [
        "l = []\n",
        "print(type(l))\n",
        "\n",
        "s = ''\n",
        "print(type(s))\n",
        "\n",
        "t = ()\n",
        "print(type(t))\n",
        "\n",
        "ba = bytearray(b'')\n",
        "print(type(ba))\n",
        "\n",
        "b = bytes([])\n",
        "print(type(b))"
      ]
    },
    {
      "cell_type": "code",
      "source": [
        "# Mutability\n",
        "people = {\"Buffy\", \"Angel\", \"Giles\"}\n",
        "slayers = people.copy()\n",
        "slayers.discard(\"Giles\")\n",
        "slayers.remove(\"Angel\")\n",
        "print(slayers)\n",
        "print(people)"
      ],
      "metadata": {
        "colab": {
          "base_uri": "https://localhost:8080/"
        },
        "id": "4Rvwj_8IxDLN",
        "outputId": "30ddf756-ebb2-48be-c5e9-9eed2f47ef22"
      },
      "execution_count": 6,
      "outputs": [
        {
          "output_type": "stream",
          "name": "stdout",
          "text": [
            "{'Buffy'}\n",
            "{'Giles', 'Buffy', 'Angel'}\n"
          ]
        }
      ]
    },
    {
      "cell_type": "code",
      "source": [
        "# The Slicing Operator\n",
        "word = \"Let us kill some vampires!\"\n",
        "print(word[-1])\n",
        "print(word[-2])\n",
        "print(word[-2:])\n",
        "print(word[:-2])\n",
        "print(word[-0])"
      ],
      "metadata": {
        "colab": {
          "base_uri": "https://localhost:8080/"
        },
        "id": "Bm86kNmKxal-",
        "outputId": "0e746f17-eb2d-4952-c198-9e057f0493b6"
      },
      "execution_count": 10,
      "outputs": [
        {
          "output_type": "stream",
          "name": "stdout",
          "text": [
            "!\n",
            "s\n",
            "s!\n",
            "Let us kill some vampire\n",
            "L\n"
          ]
        }
      ]
    },
    {
      "cell_type": "code",
      "source": [
        "# Unicode Strings\n",
        "u'Goodbye\\u0020World !'"
      ],
      "metadata": {
        "colab": {
          "base_uri": "https://localhost:8080/",
          "height": 36
        },
        "id": "HVJNo4CTyW_e",
        "outputId": "5195b4f2-776e-4a99-e820-7a13ad0b9add"
      },
      "execution_count": 11,
      "outputs": [
        {
          "output_type": "execute_result",
          "data": {
            "application/vnd.google.colaboratory.intrinsic+json": {
              "type": "string"
            },
            "text/plain": [
              "'Goodbye World !'"
            ]
          },
          "metadata": {},
          "execution_count": 11
        }
      ]
    },
    {
      "cell_type": "code",
      "source": [
        "# Methods for Strings\n",
        "slayers = [\"Buffy\", \"Anne\", \"Summers\"]\n",
        "print(\" \".join(slayers))\n",
        "print(\"-<>-\".join(slayers))\n",
        "print(\"\".join(slayers))\n",
        "print(\"\".join(reversed(slayers)))\n",
        "print(\"\\n\")\n",
        "\n",
        "name = \"Agent Mulder\"\n",
        "print(name.rjust(50, '-'))      # add only at the end(끝에서 name포함 50자리를 채워라, 나머지는 '-'이용)\n",
        "print(\"\\n\")\n",
        "\n",
        "print(\"{0} {1}\".format(\"I'm the One!\", \"I'm not\"))\n",
        "print(\"{who} turned {age} this year!\".format(who=\"Buffy\", age=17))\n",
        "print(\"The {who} was {0} last week\".format(12, who=\"boy\"))\n",
        "print(\"\\n\")\n",
        "\n",
        "import decimal\n",
        "print(\"{0} {0!s} {0!r} {0!a}\".format(decimal.Decimal(\"99.9\")))\n",
        "print(\"\\n\")\n",
        "\n",
        "hero = \"Buffy\"\n",
        "number = 999\n",
        "print(\"Element {number} is a {hero}\".format(**locals()))\n",
        "print(\"\\n\")\n",
        "\n",
        "slayers = \"Buffy\\nFaith\"\n",
        "print(slayers.splitlines())\n",
        "print(\"\\n\")\n",
        "\n",
        "slayers = \"Buffy*Slaying-Vampes*16\"\n",
        "fields = slayers.split(\"*\")\n",
        "print(fields)\n",
        "job = fields[1].split(\"-\")\n",
        "print(job)\n",
        "\n",
        "def erase_space_from_string(string):\n",
        "    s1 = string.split(\" \")\n",
        "    s2 = \"\".join(s1)\n",
        "    return s2\n",
        "print(erase_space_from_string(\"BB RR\"))\n",
        "print(\"\\n\")\n",
        "\n",
        "slayers = \"Buffy and Faith999\"\n",
        "print(slayers.strip(\"999\"))"
      ],
      "metadata": {
        "colab": {
          "base_uri": "https://localhost:8080/"
        },
        "id": "gaWsNHFLzDey",
        "outputId": "2ae7f0d0-542b-418c-83d8-dd5914825108"
      },
      "execution_count": 20,
      "outputs": [
        {
          "output_type": "stream",
          "name": "stdout",
          "text": [
            "Buffy Anne Summers\n",
            "Buffy-<>-Anne-<>-Summers\n",
            "BuffyAnneSummers\n",
            "SummersAnneBuffy\n",
            "\n",
            "\n",
            "--------------------------------------Agent Mulder\n",
            "\n",
            "\n",
            "I'm the One! I'm not\n",
            "Buffy turned 17 this year!\n",
            "The boy was 12 last week\n",
            "\n",
            "\n",
            "99.9 99.9 Decimal('99.9') Decimal('99.9')\n",
            "\n",
            "\n",
            "Element 999 is a Buffy\n",
            "\n",
            "\n",
            "['Buffy', 'Faith']\n",
            "\n",
            "\n",
            "['Buffy', 'Slaying-Vampes', '16']\n",
            "['Slaying', 'Vampes']\n",
            "BBRR\n",
            "\n",
            "\n",
            "Buffy and Faith\n"
          ]
        }
      ]
    },
    {
      "cell_type": "code",
      "source": [
        "import string\n",
        "import sys\n",
        "\n",
        "def count_unique_word():\n",
        "    words = {}        # create an empty dictionary\n",
        "    strip = string.whitespace + string.punctuation + string.digits + \"\\\"'\"\n",
        "    # for filename in sys.argv[1:]:\n",
        "    with open('/root/.local/share/jupyter/runtime/kernel-92a334de-ed63-4fbb-b92a-a5c824daaec9.json') as file:\n",
        "        for line in file:\n",
        "            for word in line.lower().split():\n",
        "                word = word.strip(strip)\n",
        "                if len(word) > 2:\n",
        "                    words[word] = words.get(word, 0) + 1\n",
        "    for word in sorted(words):\n",
        "        print(\"'{0}' occurs {1} times.\".format(word, words[word]))\n",
        "\n",
        "if __name__ == \"__main__\":\n",
        "    count_unique_word()"
      ],
      "metadata": {
        "colab": {
          "base_uri": "https://localhost:8080/"
        },
        "id": "ak_gIigrzye0",
        "outputId": "c66968ca-5aa8-4d96-b8d1-cf1176db7db1"
      },
      "execution_count": 75,
      "outputs": [
        {
          "output_type": "stream",
          "name": "stdout",
          "text": [
            "'control_port' occurs 1 times.\n",
            "'hb_port' occurs 1 times.\n",
            "'hmac-sha' occurs 1 times.\n",
            "'iopub_port' occurs 1 times.\n",
            "'kernel_name' occurs 1 times.\n",
            "'key' occurs 1 times.\n",
            "'shell_port' occurs 1 times.\n",
            "'signature_scheme' occurs 1 times.\n",
            "'stdin_port' occurs 1 times.\n",
            "'tcp' occurs 1 times.\n",
            "'transport' occurs 1 times.\n"
          ]
        }
      ]
    },
    {
      "cell_type": "code",
      "source": [
        "strip = string.whitespace + string.punctuation + string.digits + \"\\\"'\"\n",
        "strip"
      ],
      "metadata": {
        "colab": {
          "base_uri": "https://localhost:8080/",
          "height": 36
        },
        "id": "JODcjYIv9u10",
        "outputId": "a8456e35-3c2a-4298-d937-4ce4817660ba"
      },
      "execution_count": 71,
      "outputs": [
        {
          "output_type": "execute_result",
          "data": {
            "application/vnd.google.colaboratory.intrinsic+json": {
              "type": "string"
            },
            "text/plain": [
              "' \\t\\n\\r\\x0b\\x0c!\"#$%&\\'()*+,-./:;<=>?@[\\\\]^_`{|}~0123456789\"\\''"
            ]
          },
          "metadata": {},
          "execution_count": 71
        }
      ]
    },
    {
      "cell_type": "code",
      "source": [
        "sys.argv         # -f가 의미하는 바?"
      ],
      "metadata": {
        "colab": {
          "base_uri": "https://localhost:8080/"
        },
        "id": "TWN-2T9J38RQ",
        "outputId": "40e030da-7ae7-4812-d688-a3a4cccc1fe2"
      },
      "execution_count": 72,
      "outputs": [
        {
          "output_type": "execute_result",
          "data": {
            "text/plain": [
              "['/usr/local/lib/python3.7/dist-packages/ipykernel_launcher.py',\n",
              " '-f',\n",
              " '/root/.local/share/jupyter/runtime/kernel-92a334de-ed63-4fbb-b92a-a5c824daaec9.json']"
            ]
          },
          "metadata": {},
          "execution_count": 72
        }
      ]
    },
    {
      "cell_type": "code",
      "source": [
        ""
      ],
      "metadata": {
        "id": "9TmemnE55GVF"
      },
      "execution_count": null,
      "outputs": []
    }
  ]
}