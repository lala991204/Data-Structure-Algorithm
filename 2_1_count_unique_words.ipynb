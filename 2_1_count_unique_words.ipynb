{
  "nbformat": 4,
  "nbformat_minor": 0,
  "metadata": {
    "colab": {
      "name": "2.1_count_unique_words.ipynb",
      "provenance": [],
      "collapsed_sections": [],
      "mount_file_id": "16vo10g8AP2PxYX0iCsgl91ETg_-SDSXp",
      "authorship_tag": "ABX9TyMxztgb06npRvuexnuJvc0T",
      "include_colab_link": true
    },
    "kernelspec": {
      "name": "python3",
      "display_name": "Python 3"
    },
    "language_info": {
      "name": "python"
    }
  },
  "cells": [
    {
      "cell_type": "markdown",
      "metadata": {
        "id": "view-in-github",
        "colab_type": "text"
      },
      "source": [
        "<a href=\"https://colab.research.google.com/github/lala991204/Data-Structure-Algorithm/blob/master/2_1_count_unique_words.ipynb\" target=\"_parent\"><img src=\"https://colab.research.google.com/assets/colab-badge.svg\" alt=\"Open In Colab\"/></a>"
      ]
    },
    {
      "cell_type": "markdown",
      "source": [
        "python에는 문자열, 튜플, 리스트, 바이트 배열, 바이트 등 5개의 내장 시퀀스 타입이 있다. \\\\\n",
        "참고로, 튜플, 문자열, 바이트는 불변 객체 타입이며, 리스트와 바이트 배열은 가변 객체 타입이다. "
      ],
      "metadata": {
        "id": "6XirE-Miy6q9"
      }
    },
    {
      "cell_type": "code",
      "execution_count": null,
      "metadata": {
        "id": "1znaIi8avsfe",
        "colab": {
          "base_uri": "https://localhost:8080/"
        },
        "outputId": "f181249f-6859-4d92-978d-88efe3369540"
      },
      "outputs": [
        {
          "output_type": "stream",
          "name": "stdout",
          "text": [
            "<class 'list'>\n",
            "<class 'str'>\n",
            "<class 'tuple'>\n",
            "<class 'bytearray'>\n",
            "<class 'bytes'>\n"
          ]
        }
      ],
      "source": [
        "l = []\n",
        "print(type(l))\n",
        "\n",
        "s = ''\n",
        "print(type(s))\n",
        "\n",
        "t = ()\n",
        "print(type(t))\n",
        "\n",
        "ba = bytearray(b'')\n",
        "print(type(ba))\n",
        "\n",
        "b = bytes([])\n",
        "print(type(b))"
      ]
    },
    {
      "cell_type": "code",
      "source": [
        "# 리스트(list)의 깊은 복사 예제\n",
        "myList = [1,2,3,4]\n",
        "newList = myList[:]\n",
        "newList2 = list(myList)\n",
        "print(newList)\n",
        "print(newList2)\n",
        "print(\"\\n\")\n",
        "\n",
        "# 셋(set)의 깊은 복사 예제\n",
        "people = {\"Buffy\", \"Angel\", \"Giles\"}\n",
        "slayers = people.copy()\n",
        "slayers.discard(\"Giles\")\n",
        "slayers.remove(\"Angel\")\n",
        "print(slayers)\n",
        "print(people)\n",
        "print(\"\\n\")\n",
        "\n",
        "# 딕셔너리(dict)의 깊은 복사 예제\n",
        "myDict = {\"안녕\": \"세상\"}\n",
        "newDict = myDict.copy()\n",
        "print(newDict)\n",
        "print(\"\\n\")\n",
        "\n",
        "# 기타 객체의 깊은 복사시에 copy 모듈 사용\n",
        "import copy\n",
        "myObj = \"다른 어떤 객체\"\n",
        "newObj = copy.copy(myObj)  # 얕은 복사(shallow copy)\n",
        "print(newObj)\n",
        "newObj2 = copy.deepcopy(myObj)   # 깊은 복사(deep copy)\n",
        "print(newObj2)\n",
        "print(\"\\n\")\n",
        "\n",
        "# The Slicing Operator\n",
        "word = \"Let us kill some vampires!\"\n",
        "print(word[-1])\n",
        "print(word[-2])\n",
        "print(word[-2:])\n",
        "print(word[:-2])\n",
        "print(word[-0])\n",
        "print(\"\\n\")\n",
        "\n",
        "# Unicode Strings\n",
        "print(u'Goodbye\\u0020World !')"
      ],
      "metadata": {
        "colab": {
          "base_uri": "https://localhost:8080/"
        },
        "id": "4Rvwj_8IxDLN",
        "outputId": "be81eaf5-6272-4ea7-94c7-1422dad7e40f"
      },
      "execution_count": 4,
      "outputs": [
        {
          "output_type": "stream",
          "name": "stdout",
          "text": [
            "[1, 2, 3, 4]\n",
            "[1, 2, 3, 4]\n",
            "\n",
            "\n",
            "{'Buffy'}\n",
            "{'Giles', 'Buffy', 'Angel'}\n",
            "\n",
            "\n",
            "{'안녕': '세상'}\n",
            "\n",
            "\n",
            "다른 어떤 객체\n",
            "다른 어떤 객체\n",
            "\n",
            "\n",
            "!\n",
            "s\n",
            "s!\n",
            "Let us kill some vampire\n",
            "L\n",
            "\n",
            "\n",
            "Goodbye World !\n"
          ]
        }
      ]
    },
    {
      "cell_type": "code",
      "source": [
        "# Methods for Strings\n",
        "slayers = [\"Buffy\", \"Anne\", \"Summers\"]\n",
        "print(\" \".join(slayers))\n",
        "print(\"-<>-\".join(slayers))\n",
        "print(\"\".join(slayers))\n",
        "print(\"\".join(reversed(slayers)))\n",
        "print(\"\\n\")\n",
        "\n",
        "name = \"Agent Mulder\"\n",
        "print(name.rjust(50, '-'))      # add only at the end(끝에서 name포함 50자리를 채워라, 나머지는 '-'이용)\n",
        "print(\"\\n\")\n",
        "\n",
        "print(\"{0} {1}\".format(\"I'm the One!\", \"I'm not\"))\n",
        "print(\"{who} turned {age} this year!\".format(who=\"Buffy\", age=17))\n",
        "print(\"The {who} was {0} last week\".format(12, who=\"boy\"))\n",
        "print(\"\\n\")\n",
        "\n",
        "import decimal\n",
        "# 지정자 s: 문자열 형식, r: 표현 형식, a: 아스키 코드 형식\n",
        "print(\"{0} {0!s} {0!r} {0!a}\".format(decimal.Decimal(\"99.9\")))  \n",
        "print(\"\\n\")\n",
        "\n",
        "hero = \"Buffy\"\n",
        "number = 999\n",
        "print(\"Element {number} is a {hero}\".format(**locals()))\n",
        "print(\"\\n\")\n",
        "\n",
        "slayers = \"Buffy\\nFaith\"\n",
        "print(slayers.splitlines())\n",
        "print(\"\\n\")\n",
        "\n",
        "slayers = \"Buffy*Slaying-Vampes*16\"\n",
        "fields = slayers.split(\"*\")\n",
        "print(fields)\n",
        "job = fields[1].split(\"-\")\n",
        "print(job)\n",
        "\n",
        "def erase_space_from_string(string):\n",
        "    s1 = string.split(\" \")\n",
        "    s2 = \"\".join(s1)\n",
        "    return s2\n",
        "print(erase_space_from_string(\"BB RR\"))\n",
        "print(\"\\n\")\n",
        "\n",
        "slayers = \"Buffy and Faith999\"\n",
        "print(slayers.strip(\"999\"))"
      ],
      "metadata": {
        "colab": {
          "base_uri": "https://localhost:8080/"
        },
        "id": "gaWsNHFLzDey",
        "outputId": "2ae7f0d0-542b-418c-83d8-dd5914825108"
      },
      "execution_count": null,
      "outputs": [
        {
          "output_type": "stream",
          "name": "stdout",
          "text": [
            "Buffy Anne Summers\n",
            "Buffy-<>-Anne-<>-Summers\n",
            "BuffyAnneSummers\n",
            "SummersAnneBuffy\n",
            "\n",
            "\n",
            "--------------------------------------Agent Mulder\n",
            "\n",
            "\n",
            "I'm the One! I'm not\n",
            "Buffy turned 17 this year!\n",
            "The boy was 12 last week\n",
            "\n",
            "\n",
            "99.9 99.9 Decimal('99.9') Decimal('99.9')\n",
            "\n",
            "\n",
            "Element 999 is a Buffy\n",
            "\n",
            "\n",
            "['Buffy', 'Faith']\n",
            "\n",
            "\n",
            "['Buffy', 'Slaying-Vampes', '16']\n",
            "['Slaying', 'Vampes']\n",
            "BBRR\n",
            "\n",
            "\n",
            "Buffy and Faith\n"
          ]
        }
      ]
    },
    {
      "cell_type": "code",
      "source": [
        "# 한 파일에서 사용된 모든 단어를 알파벳순으로 출력하며 각 단어가 등장한 횟수도 함께 출력해줌\n",
        "import string\n",
        "import sys\n",
        "\n",
        "def count_unique_word():\n",
        "    words = {}        # create an empty dictionary\n",
        "    strip = string.whitespace + string.punctuation + string.digits + \"\\\"'\"\n",
        "    # for filename in sys.argv[-1:]:\n",
        "    with open('/usr/local/lib/python3.7/dist-packages/ipykernel_launcher.py') as file:\n",
        "        for line in file:\n",
        "            for word in line.lower().split():\n",
        "                word = word.strip(strip)\n",
        "                if len(word) > 2:\n",
        "                    words[word] = words.get(word, 0) + 1\n",
        "\n",
        "    for word in sorted(words):\n",
        "        print(\"'{0}' occurs {1} times.\".format(word, words[word]))\n",
        "\n",
        "if __name__ == \"__main__\":\n",
        "    count_unique_word()"
      ],
      "metadata": {
        "colab": {
          "base_uri": "https://localhost:8080/"
        },
        "id": "ak_gIigrzye0",
        "outputId": "1407075a-1d7e-4d01-8de0-a2840158ba6f"
      },
      "execution_count": 15,
      "outputs": [
        {
          "output_type": "stream",
          "name": "stdout",
          "text": [
            "'added' occurs 1 times.\n",
            "'after' occurs 1 times.\n",
            "'app' occurs 1 times.\n",
            "'app.launch_new_instance' occurs 1 times.\n",
            "'avoid' occurs 1 times.\n",
            "'back' occurs 1 times.\n",
            "'can' occurs 1 times.\n",
            "'cwd' occurs 2 times.\n",
            "'del' occurs 1 times.\n",
            "'doing' occurs 1 times.\n",
            "'entry' occurs 1 times.\n",
            "'for' occurs 1 times.\n",
            "'from' occurs 4 times.\n",
            "'import' occurs 2 times.\n",
            "'imports' occurs 1 times.\n",
            "'interactiveshellapp.init_path' occurs 1 times.\n",
            "'ipykernel' occurs 2 times.\n",
            "'ipython' occurs 1 times.\n",
            "'kernel' occurs 1 times.\n",
            "'kernelapp' occurs 1 times.\n",
            "'launching' occurs 1 times.\n",
            "'load' occurs 1 times.\n",
            "'main' occurs 1 times.\n",
            "'name' occurs 1 times.\n",
            "'package' occurs 1 times.\n",
            "'point' occurs 1 times.\n",
            "'remove' occurs 1 times.\n",
            "'removing' occurs 1 times.\n",
            "'separate' occurs 1 times.\n",
            "'stuff' occurs 1 times.\n",
            "'sys' occurs 1 times.\n",
            "'sys.path' occurs 4 times.\n",
            "'the' occurs 3 times.\n",
            "'this' occurs 2 times.\n",
            "'until' occurs 1 times.\n",
            "'while' occurs 1 times.\n"
          ]
        }
      ]
    },
    {
      "cell_type": "code",
      "source": [
        "import string\n",
        "import sys\n",
        "\n",
        "def count_unique_word():\n",
        "    words = {}        # create an empty dictionary\n",
        "    strip = string.whitespace + string.punctuation + string.digits + \"\\\"'\"\n",
        "    # for filename in sys.argv[-1:]:\n",
        "    with open('/root/.local/share/jupyter/runtime/kernel-397b4add-58db-46e5-a69b-d1c3f9a5c077.json') as file:\n",
        "        for line in file:\n",
        "            for word in line.lower().split():\n",
        "                word = word.strip(strip)\n",
        "                if len(word) > 2:\n",
        "                    words[word] = words.get(word, 0) + 1\n",
        "\n",
        "    for word in sorted(words):\n",
        "        print(\"'{0}' occurs {1} times.\".format(word, words[word]))\n",
        "\n",
        "if __name__ == \"__main__\":\n",
        "    count_unique_word()"
      ],
      "metadata": {
        "colab": {
          "base_uri": "https://localhost:8080/"
        },
        "id": "2x9qdLRJZyng",
        "outputId": "68e64ec1-2ee6-4ac9-bbd5-4ebfa93f3e16"
      },
      "execution_count": 16,
      "outputs": [
        {
          "output_type": "stream",
          "name": "stdout",
          "text": [
            "'control_port' occurs 1 times.\n",
            "'hb_port' occurs 1 times.\n",
            "'hmac-sha' occurs 1 times.\n",
            "'iopub_port' occurs 1 times.\n",
            "'kernel_name' occurs 1 times.\n",
            "'key' occurs 1 times.\n",
            "'shell_port' occurs 1 times.\n",
            "'signature_scheme' occurs 1 times.\n",
            "'stdin_port' occurs 1 times.\n",
            "'tcp' occurs 1 times.\n",
            "'transport' occurs 1 times.\n"
          ]
        }
      ]
    },
    {
      "cell_type": "code",
      "source": [
        "sys.argv"
      ],
      "metadata": {
        "colab": {
          "base_uri": "https://localhost:8080/"
        },
        "id": "ys17AnPuYIaj",
        "outputId": "dbe63b2d-8350-4baa-ef6e-031f1db3717b"
      },
      "execution_count": 14,
      "outputs": [
        {
          "output_type": "execute_result",
          "data": {
            "text/plain": [
              "['/usr/local/lib/python3.7/dist-packages/ipykernel_launcher.py',\n",
              " '-f',\n",
              " '/root/.local/share/jupyter/runtime/kernel-397b4add-58db-46e5-a69b-d1c3f9a5c077.json']"
            ]
          },
          "metadata": {},
          "execution_count": 14
        }
      ]
    },
    {
      "cell_type": "code",
      "source": [
        ""
      ],
      "metadata": {
        "id": "KrTctHeqaIZ3"
      },
      "execution_count": null,
      "outputs": []
    }
  ]
}