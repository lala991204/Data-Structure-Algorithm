{
  "nbformat": 4,
  "nbformat_minor": 0,
  "metadata": {
    "colab": {
      "name": "3.3_setdefault_example.ipynb",
      "provenance": [],
      "collapsed_sections": [],
      "authorship_tag": "ABX9TyNu9NXpwKWsF1kpsoY8bInf",
      "include_colab_link": true
    },
    "kernelspec": {
      "name": "python3",
      "display_name": "Python 3"
    },
    "language_info": {
      "name": "python"
    }
  },
  "cells": [
    {
      "cell_type": "markdown",
      "metadata": {
        "id": "view-in-github",
        "colab_type": "text"
      },
      "source": [
        "<a href=\"https://colab.research.google.com/github/lala991204/Data-Structure-Algorithm/blob/master/3_3_setdefault_example.ipynb\" target=\"_parent\"><img src=\"https://colab.research.google.com/assets/colab-badge.svg\" alt=\"Open In Colab\"/></a>"
      ]
    },
    {
      "cell_type": "markdown",
      "source": [
        "파이썬 딕셔너리는 해시 테이블(키와 값이 연관됨)로 구현되어 있다."
      ],
      "metadata": {
        "id": "9nZI5X6GWT7b"
      }
    },
    {
      "cell_type": "code",
      "execution_count": 5,
      "metadata": {
        "colab": {
          "base_uri": "https://localhost:8080/"
        },
        "id": "8nxVIUsQWGoj",
        "outputId": "5398f1a8-813a-4152-e8be-0e42f12a7959"
      },
      "outputs": [
        {
          "output_type": "stream",
          "name": "stdout",
          "text": [
            "42\n",
            "6319175609874270319\n",
            "\n",
            "{'name': '쿠엔틴 타란티노', 'job': '감독'}\n",
            "{'name': '버피', 'age': 16, 'hobby': '게임'}\n",
            "{'name': '자일스', 'age': 45, 'hobby': '영화감상'}\n",
            "{'name': '윌로', 'age': 15, 'hobby': '개발'}\n"
          ]
        }
      ],
      "source": [
        "print(hash(42))\n",
        "print(hash(\"hello\"))\n",
        "print()\n",
        "\n",
        "tarantino = {}\n",
        "tarantino['name'] = '쿠엔틴 타란티노'\n",
        "tarantino['job'] = '감독'\n",
        "print(tarantino)\n",
        "\n",
        "sunnydale = dict({\"name\" : \"버피\", \"age\" : 16, \"hobby\" : \"게임\"})\n",
        "print(sunnydale)\n",
        "\n",
        "sunnydale = dict(name=\"자일스\", age=45, hobby=\"영화감상\")\n",
        "print(sunnydale)\n",
        "\n",
        "sunnydale = dict([(\"name\", \"윌로\"), (\"age\", 15), (\"hobby\", \"개발\")])\n",
        "print(sunnydale)"
      ]
    },
    {
      "cell_type": "code",
      "source": [
        "def usual_dict(dict_data):\n",
        "    ''' dict[key] 사용 '''\n",
        "    newdata = {}\n",
        "    for k, v in dict_data:\n",
        "        if k in newdata:\n",
        "            newdata[k].append(v)      # 해당 key값이 있다면 그 자리에 추가\n",
        "        else:\n",
        "            newdata[k] = [v]          # 해당 key값이 없다면 새로운 자리에 입력\n",
        "    return newdata\n",
        "\n",
        "def setdefault_dict(dict_data):\n",
        "     ''' setdefault() 메서드 사용'''\n",
        "     newdata = {}\n",
        "     for k, v in dict_data:\n",
        "         newdata.setdefault(k, []).append(v)      # 딕셔너리 newdata에 key값인 k가 존재할 경우 키에 해당하는 값을 얻을 수 있고, 없다면 새 키와 기본값 default가 저장됨.\n",
        "     return newdata\n",
        "\n",
        "def test_setdef():\n",
        "    dict_data = ((\"key1\", \"value1\"),\n",
        "                 (\"key1\", \"value2\"),\n",
        "                 (\"key2\", \"value3\"),\n",
        "                 (\"key2\", \"value4\"),\n",
        "                 (\"key2\", \"value5\"),)\n",
        "    print(usual_dict(dict_data))\n",
        "    print(setdefault_dict(dict_data))\n",
        "\n",
        "if __name__ == \"__main__\":\n",
        "    test_setdef()"
      ],
      "metadata": {
        "colab": {
          "base_uri": "https://localhost:8080/"
        },
        "id": "9FiprUjYXTyg",
        "outputId": "4424dfab-8c4d-42a0-a3d9-a7fd109656fe"
      },
      "execution_count": 6,
      "outputs": [
        {
          "output_type": "stream",
          "name": "stdout",
          "text": [
            "{'key1': ['value1', 'value2'], 'key2': ['value3', 'value4', 'value5']}\n",
            "{'key1': ['value1', 'value2'], 'key2': ['value3', 'value4', 'value5']}\n"
          ]
        }
      ]
    },
    {
      "cell_type": "code",
      "source": [
        ""
      ],
      "metadata": {
        "id": "jN6ybxYrZQ3G"
      },
      "execution_count": null,
      "outputs": []
    }
  ]
}