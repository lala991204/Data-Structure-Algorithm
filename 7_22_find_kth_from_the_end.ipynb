{
  "nbformat": 4,
  "nbformat_minor": 0,
  "metadata": {
    "colab": {
      "name": "7.22_find_kth_from_the_end.ipynb",
      "provenance": [],
      "collapsed_sections": [],
      "toc_visible": true,
      "mount_file_id": "1S98Sf-cwo1NScR7O3zTqTxqHDsQVgeE8",
      "authorship_tag": "ABX9TyPO0ammhu8V6cTjuAZqp9OV",
      "include_colab_link": true
    },
    "kernelspec": {
      "name": "python3",
      "display_name": "Python 3"
    },
    "language_info": {
      "name": "python"
    }
  },
  "cells": [
    {
      "cell_type": "markdown",
      "metadata": {
        "id": "view-in-github",
        "colab_type": "text"
      },
      "source": [
        "<a href=\"https://colab.research.google.com/github/lala991204/Data-Structure-Algorithm/blob/master/7_22_find_kth_from_the_end.ipynb\" target=\"_parent\"><img src=\"https://colab.research.google.com/assets/colab-badge.svg\" alt=\"Open In Colab\"/></a>"
      ]
    },
    {
      "cell_type": "code",
      "execution_count": null,
      "metadata": {
        "colab": {
          "base_uri": "https://localhost:8080/"
        },
        "id": "vDxZ64wOW6js",
        "outputId": "a9fc75aa-32f4-49a6-f3c3-696e6f02d1ee"
      },
      "outputs": [
        {
          "output_type": "stream",
          "name": "stdout",
          "text": [
            "/content/drive/MyDrive/Colab Notebooks/github/Data Structure and Algorithm\n"
          ]
        }
      ],
      "source": [
        "%cd /content/drive/MyDrive/Colab Notebooks/github/Data Structure and Algorithm"
      ]
    },
    {
      "cell_type": "markdown",
      "source": [
        "연결 리스트의 끝에서 k번째 항목을 찾아보자."
      ],
      "metadata": {
        "id": "hAdtLj08RgBA"
      }
    },
    {
      "cell_type": "code",
      "source": [
        "from linkedlist_fifo_py import LinkedListFIFO\n",
        "from node_py import Node\n",
        "\n",
        "class KthFromLast(LinkedListFIFO):\n",
        "    def find_kth_to_last(self, k):\n",
        "        p1, p2 = self.head, self.head     # 초기화\n",
        "        i = 0\n",
        "        while p1:\n",
        "            if i > k-1:     # 마지막에는, p2가 끝에서 3번째 자리를 가리키도록 설계(즉, p1과 p2 사이에 2개 원소가 끼도록)\n",
        "                try:\n",
        "                    p2 = p2.pointer\n",
        "                except AttributeError:  # error 뜨면 반복문 빠져나옴.\n",
        "                    break\n",
        "            p1 = p1.pointer    # 마지막에는, p1이 가리키는 부분이 없게 될 때 종료!\n",
        "            i += 1\n",
        "        return p2.value\n",
        "\n",
        "if __name__ == \"__main__\":\n",
        "    ll = KthFromLast()\n",
        "    for i in range(1, 11):\n",
        "        ll.addNode(i)\n",
        "    print(\"연결 리스트:\")\n",
        "    ll._printList()\n",
        "    k = 3\n",
        "    k_from_last = ll.find_kth_to_last(k)\n",
        "    print(\"연결 리스트의 끝에서 {0}번째 항목은 {1}입니다.\".format(k, k_from_last))"
      ],
      "metadata": {
        "colab": {
          "base_uri": "https://localhost:8080/"
        },
        "id": "oR-KNuizXGsN",
        "outputId": "b852c4fa-b87a-4fd3-bc0c-c599cd3d27d0"
      },
      "execution_count": null,
      "outputs": [
        {
          "output_type": "stream",
          "name": "stdout",
          "text": [
            "연결 리스트:\n",
            "1 2 3 4 5 6 7 8 9 10 \n",
            "연결 리스트의 끝에서 3번째 항목은 8입니다.\n"
          ]
        }
      ]
    },
    {
      "cell_type": "markdown",
      "source": [
        "연결 리스트에는 두 포인터가 있다. 반복문에서 하나는 연결 리스트를 계속 순회하고, 또 다른 하나는 k-1 이후를 순회한다."
      ],
      "metadata": {
        "id": "fbCVcfQuRqbd"
      }
    },
    {
      "cell_type": "code",
      "source": [
        ""
      ],
      "metadata": {
        "id": "mTm8kcQEXzcz"
      },
      "execution_count": null,
      "outputs": []
    }
  ]
}