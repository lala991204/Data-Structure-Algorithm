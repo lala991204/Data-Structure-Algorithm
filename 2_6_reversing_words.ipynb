{
  "nbformat": 4,
  "nbformat_minor": 0,
  "metadata": {
    "colab": {
      "name": "2.6_reversing_words.ipynb",
      "provenance": [],
      "authorship_tag": "ABX9TyOcxPCDUSB4upf/iWuGfKIo",
      "include_colab_link": true
    },
    "kernelspec": {
      "name": "python3",
      "display_name": "Python 3"
    },
    "language_info": {
      "name": "python"
    }
  },
  "cells": [
    {
      "cell_type": "markdown",
      "metadata": {
        "id": "view-in-github",
        "colab_type": "text"
      },
      "source": [
        "<a href=\"https://colab.research.google.com/github/lala991204/Data-Structure-Algorithm/blob/master/2_6_reversing_words.ipynb\" target=\"_parent\"><img src=\"https://colab.research.google.com/assets/colab-badge.svg\" alt=\"Open In Colab\"/></a>"
      ]
    },
    {
      "cell_type": "code",
      "execution_count": 1,
      "metadata": {
        "colab": {
          "base_uri": "https://localhost:8080/"
        },
        "id": "v4ZDhKe5PZ7u",
        "outputId": "14c65195-8bb4-4dfc-ea87-65d29fbec6fe"
      },
      "outputs": [
        {
          "output_type": "stream",
          "name": "stdout",
          "text": [
            "재미있다 정말 알고리즘 파이썬\n"
          ]
        }
      ],
      "source": [
        "def reversing_words_slice(word):\n",
        "    new_word = []\n",
        "    words = word.split(\" \")     # 공백 기준으로 문자열을 떼어내고\n",
        "    for word in words[::-1]:\n",
        "        new_word.append(word)     # 반전 시킨 문자열을\n",
        "    return \" \".join(new_word)     # 다시 합치고\n",
        "\n",
        "if __name__ == \"__main__\":\n",
        "    str1 = \"파이썬 알고리즘 정말 재미있다\"\n",
        "    str2 = reversing_words_slice(str1)\n",
        "    print(str2)"
      ]
    },
    {
      "cell_type": "code",
      "source": [
        ""
      ],
      "metadata": {
        "id": "N6nZa663PyEQ"
      },
      "execution_count": null,
      "outputs": []
    }
  ]
}