{
  "nbformat": 4,
  "nbformat_minor": 0,
  "metadata": {
    "colab": {
      "name": "7.17_set_of_stacks.ipynb",
      "provenance": [],
      "collapsed_sections": [],
      "toc_visible": true,
      "mount_file_id": "1bma36m2JmCSBg6OtET-zEbrpg7w19V9W",
      "authorship_tag": "ABX9TyOM/z3ExDCJHm3XsgnDTG41",
      "include_colab_link": true
    },
    "kernelspec": {
      "name": "python3",
      "display_name": "Python 3"
    },
    "language_info": {
      "name": "python"
    }
  },
  "cells": [
    {
      "cell_type": "markdown",
      "metadata": {
        "id": "view-in-github",
        "colab_type": "text"
      },
      "source": [
        "<a href=\"https://colab.research.google.com/github/lala991204/Data-Structure-Algorithm/blob/master/7_17_set_of_stacks.ipynb\" target=\"_parent\"><img src=\"https://colab.research.google.com/assets/colab-badge.svg\" alt=\"Open In Colab\"/></a>"
      ]
    },
    {
      "cell_type": "code",
      "execution_count": null,
      "metadata": {
        "colab": {
          "base_uri": "https://localhost:8080/"
        },
        "id": "bHGBKPBC--3C",
        "outputId": "b4c452bc-ea69-4e5d-ff82-cb91e6743a41"
      },
      "outputs": [
        {
          "output_type": "stream",
          "name": "stdout",
          "text": [
            "/content/drive/MyDrive/Colab Notebooks/github/Data Structure and Algorithm\n"
          ]
        }
      ],
      "source": [
        "# colab의 위치를 현재 작업하는 폴더로 이동\n",
        "%cd /content/drive/MyDrive/Colab Notebooks/github/Data Structure and Algorithm"
      ]
    },
    {
      "cell_type": "markdown",
      "source": [
        "스택에 '용량'이 정해져 있다고 할 때, 한 스택의 용량이 초과하면 새 스택을 만들어야 한다. 이 경우, 여러 스택이 있을텐데 push()와 pop()을 사용하려면 어떻게 해야 하는지 보자."
      ],
      "metadata": {
        "id": "2ekWnX31ELLt"
      }
    },
    {
      "cell_type": "code",
      "source": [
        "from stack_py import Stack\n",
        "\n",
        "class SetOfStacks(Stack):\n",
        "    def __init__(self, capacity=4):\n",
        "        self.setofstacks = []\n",
        "        self.items = []\n",
        "        self.capacity = capacity\n",
        "    \n",
        "    def push(self, value):\n",
        "        if self.size() >= self.capacity:        # 한 스택의 용량 초과 시,\n",
        "            self.setofstacks.append(self.items)      # 다 채워진 스택을 setofstacks에 append 함.\n",
        "            self.items = []       # 빈 스택 생성\n",
        "        self.items.append(value)    \n",
        "    \n",
        "    def pop(self):\n",
        "        value = self.items.pop()\n",
        "        if self.isEmpty() and self.setofstacks:    # 현 스택이 비어있으면 setofstacks에 있는 다른 스택 하나를 가져옴.\n",
        "            self.items = self.setofstacks.pop()   \n",
        "        return value\n",
        "    \n",
        "    def sizeStack(self):\n",
        "        return len(self.setofstacks) * self.capacity + self.size()    # 현재 스택에 채워 있는 원소 수(self.size()는 현 스택 길이)\n",
        "    \n",
        "    def __repr__(self):\n",
        "        aux = []\n",
        "        for s in self.setofstacks:\n",
        "            aux.extend(s)     # .extend는 리스트 하나를 벗겨냄. 즉, 여기서는 원소들 aux에 append한다는 뜻.\n",
        "        aux.extend(self.items)    # 현 스택에 있는 원소들 모두 append.\n",
        "        return repr(aux)\n",
        "\n",
        "\n",
        "if __name__ == \"__main__\":\n",
        "    capacity = 5\n",
        "    stack = SetOfStacks(capacity)\n",
        "    print(\"스택이 비었나요? {0}\".format(stack.isEmpty()))\n",
        "    print(\"스택에 숫자 0~9를 추가합니다.\")\n",
        "    for i in range(10):\n",
        "        stack.push(i)\n",
        "    print(stack)\n",
        "    print(\"스택크기: {0}\".format(stack.sizeStack()))\n",
        "    print(\"peek: {0}\".format(stack.peek()))\n",
        "    print(\"pop: {0}\".format(stack.pop()))\n",
        "    print(\"peek: {0}\".format(stack.peek()))\n",
        "    print(\"스택이 비었나요? {0}\".format(stack.isEmpty()))\n",
        "    print(stack)"
      ],
      "metadata": {
        "colab": {
          "base_uri": "https://localhost:8080/"
        },
        "id": "C6Ps7HVp_Uks",
        "outputId": "4b7f4319-7889-45c6-b95d-c04dc1a562e7"
      },
      "execution_count": null,
      "outputs": [
        {
          "output_type": "stream",
          "name": "stdout",
          "text": [
            "스택이 비었나요? True\n",
            "스택에 숫자 0~9를 추가합니다.\n",
            "[0, 1, 2, 3, 4, 5, 6, 7, 8, 9]\n",
            "스택크기: 10\n",
            "peek: 9\n",
            "pop: 9\n",
            "peek: 8\n",
            "스택이 비었나요? False\n",
            "[0, 1, 2, 3, 4, 5, 6, 7, 8]\n"
          ]
        }
      ]
    },
    {
      "cell_type": "code",
      "source": [
        ""
      ],
      "metadata": {
        "id": "v36__8CPAn9m"
      },
      "execution_count": null,
      "outputs": []
    }
  ]
}