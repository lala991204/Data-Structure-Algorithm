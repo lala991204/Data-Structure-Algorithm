{
  "nbformat": 4,
  "nbformat_minor": 0,
  "metadata": {
    "colab": {
      "name": "2.11_palindrome.ipynb",
      "provenance": [],
      "collapsed_sections": [],
      "authorship_tag": "ABX9TyNcXJQMlSxPPoVUIcRyuNYf",
      "include_colab_link": true
    },
    "kernelspec": {
      "name": "python3",
      "display_name": "Python 3"
    },
    "language_info": {
      "name": "python"
    }
  },
  "cells": [
    {
      "cell_type": "markdown",
      "metadata": {
        "id": "view-in-github",
        "colab_type": "text"
      },
      "source": [
        "<a href=\"https://colab.research.google.com/github/lala991204/Data-Structure-Algorithm/blob/master/2_11_palindrome.ipynb\" target=\"_parent\"><img src=\"https://colab.research.google.com/assets/colab-badge.svg\" alt=\"Open In Colab\"/></a>"
      ]
    },
    {
      "cell_type": "markdown",
      "source": [
        "회문: 앞에서부터 읽으나 뒤에서부터 읽으나 동일한 단어나 구를 의미함."
      ],
      "metadata": {
        "id": "gyTh_lc_Md3E"
      }
    },
    {
      "cell_type": "code",
      "source": [
        "def is_palindrome(s):\n",
        "    l = s.split(\" \")\n",
        "    s2 = \"\".join(l)\n",
        "    return s2 == s2[::-1]\n",
        "\n",
        "def is_palindrome2(s):\n",
        "    l = len(s)\n",
        "    f, b = 0, l-1          # 각 글자의 인덱스 범위\n",
        "    while f < l //2:          # //: 몫  즉, 양 옆끼리 비교를 하다가 중간에서 서로 만나기 전까지 진행.\n",
        "        while s[f] == \" \":    # 공백일 시에 다음 글자로 이동\n",
        "            f += 1\n",
        "\n",
        "        while s[b] == \" \":    # 공백일 시에 다음 글자로 이동\n",
        "            b -= 1\n",
        "        if s[f] != s[b]:      # 양 옆의 글자 비교 시 다를 경우 False, 같으면 뒷 문장으로 진행.\n",
        "            return False\n",
        "        f += 1\n",
        "        b -= 1\n",
        "    return True\n",
        "\n",
        "def is_palindrome3(s):\n",
        "    s = s.strip()      # 해당 문자열에서 공백 제거됨\n",
        "    if len(s) < 2:      \n",
        "        return True\n",
        "    if s[0] == s[-1]:\n",
        "        return is_palindrome3(s[1:-1])   # 맨 처음과 맨 끝을 반복해서 비교하도록.\n",
        "    else:\n",
        "        return False\n",
        "\n",
        "if __name__ == \"__main__\":\n",
        "    str1 = \"다시 합창합시다\"\n",
        "    str2 = \"\"\n",
        "    str3 = \"hello\"\n",
        "    print(is_palindrome(str1))\n",
        "    print(is_palindrome(str2))\n",
        "    print(is_palindrome(str3))\n",
        "    print()\n",
        "    print(is_palindrome2(str1))\n",
        "    print(is_palindrome2(str2))\n",
        "    print(is_palindrome2(str3))\n",
        "    print()\n",
        "    print(is_palindrome3(str1))\n",
        "    print(is_palindrome3(str2))\n",
        "    print(is_palindrome3(str3))"
      ],
      "metadata": {
        "colab": {
          "base_uri": "https://localhost:8080/"
        },
        "id": "b_SGTvFTKXeq",
        "outputId": "74301603-1dcc-4ac7-ca17-fa73e9af8fc4"
      },
      "execution_count": 3,
      "outputs": [
        {
          "output_type": "stream",
          "name": "stdout",
          "text": [
            "True\n",
            "True\n",
            "False\n",
            "\n",
            "True\n",
            "True\n",
            "False\n",
            "\n",
            "True\n",
            "True\n",
            "False\n"
          ]
        }
      ]
    },
    {
      "cell_type": "code",
      "source": [
        ""
      ],
      "metadata": {
        "id": "PWsdcVew-OWo"
      },
      "execution_count": null,
      "outputs": []
    }
  ]
}