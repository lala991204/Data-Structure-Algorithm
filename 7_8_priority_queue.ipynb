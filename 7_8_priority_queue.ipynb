{
  "nbformat": 4,
  "nbformat_minor": 0,
  "metadata": {
    "colab": {
      "name": "7.8_priority_queue.ipynb",
      "provenance": [],
      "collapsed_sections": [],
      "toc_visible": true,
      "authorship_tag": "ABX9TyNq3hifYid8cGIBLH3tNk09",
      "include_colab_link": true
    },
    "kernelspec": {
      "name": "python3",
      "display_name": "Python 3"
    },
    "language_info": {
      "name": "python"
    }
  },
  "cells": [
    {
      "cell_type": "markdown",
      "metadata": {
        "id": "view-in-github",
        "colab_type": "text"
      },
      "source": [
        "<a href=\"https://colab.research.google.com/github/lala991204/Data-Structure-Algorithm/blob/master/7_8_priority_queue.ipynb\" target=\"_parent\"><img src=\"https://colab.research.google.com/assets/colab-badge.svg\" alt=\"Open In Colab\"/></a>"
      ]
    },
    {
      "cell_type": "code",
      "execution_count": null,
      "metadata": {
        "colab": {
          "base_uri": "https://localhost:8080/"
        },
        "id": "ices93ngoAsp",
        "outputId": "961f66b2-5422-498a-b259-612c3764cb98"
      },
      "outputs": [
        {
          "output_type": "stream",
          "name": "stdout",
          "text": [
            "테스트 통과!\n"
          ]
        }
      ],
      "source": [
        "# heapq 모듈 사용하여 우선순위 큐 클래스 구현함. 숫자가 클수록 우선순위가 높음.\n",
        "import heapq\n",
        "\n",
        "class PriorityQueue(object):\n",
        "    def __init__(self):\n",
        "        self._queue = []\n",
        "        self._index = 0\n",
        "\n",
        "    def push(self, item, priority):\n",
        "        # self._queue에 '(-priority, self._index, item)'을 넣음\n",
        "        heapq.heappush(self._queue, (-priority, self._index, item))     # 우선 순위가 높은 순서대로 나오게 하기위해 음수로 저장함.(숫자 작을수록 먼저 나오므로)\n",
        "        self._index += 1\n",
        "\n",
        "    def pop(self):\n",
        "        return heapq.heappop(self._queue)[-1]    # 위에서 push한 괄호 속의 값 중 맨 뒤의 item이 반환되도록 함 \n",
        "\n",
        "\n",
        "class Item:\n",
        "    def __init__(self, name):\n",
        "        self.name = name\n",
        "    \n",
        "    def __repr__(self):\n",
        "        return \"Item({0!r})\".format(self.name)\n",
        "    \n",
        "    def test_priority_queue():\n",
        "        ''' push와 pop은 모두 0(logN)이다. '''\n",
        "        q = PriorityQueue()\n",
        "        q.push(Item('test1'), 1)   # item, priority \n",
        "        q.push(Item('test2'), 4)\n",
        "        q.push(Item('test3'), 3)\n",
        "        # assert는 가정문임. True일 경우 계속 진행, False이면 오류 발생\n",
        "        assert(str(q.pop()) == \"Item('test2')\")  # 우선순위 가장 높은 것부터 나오게 됨.\n",
        "        print(\"테스트 통과!\")\n",
        "\n",
        "    if __name__ == \"__main__\":\n",
        "        test_priority_queue()"
      ]
    },
    {
      "cell_type": "code",
      "source": [
        ""
      ],
      "metadata": {
        "id": "qUJ2-xAtpcVR"
      },
      "execution_count": null,
      "outputs": []
    }
  ]
}