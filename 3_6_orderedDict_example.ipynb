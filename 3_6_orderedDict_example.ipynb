{
  "nbformat": 4,
  "nbformat_minor": 0,
  "metadata": {
    "colab": {
      "name": "3.6_orderedDict_example.ipynb",
      "provenance": [],
      "collapsed_sections": [],
      "authorship_tag": "ABX9TyOFX2Lz/N6PsTeBVW2UpRFY",
      "include_colab_link": true
    },
    "kernelspec": {
      "name": "python3",
      "display_name": "Python 3"
    },
    "language_info": {
      "name": "python"
    }
  },
  "cells": [
    {
      "cell_type": "markdown",
      "metadata": {
        "id": "view-in-github",
        "colab_type": "text"
      },
      "source": [
        "<a href=\"https://colab.research.google.com/github/lala991204/Data-Structure-Algorithm/blob/master/3_6_orderedDict_example.ipynb\" target=\"_parent\"><img src=\"https://colab.research.google.com/assets/colab-badge.svg\" alt=\"Open In Colab\"/></a>"
      ]
    },
    {
      "cell_type": "code",
      "execution_count": 1,
      "metadata": {
        "colab": {
          "base_uri": "https://localhost:8080/"
        },
        "id": "lv_q5_bViddt",
        "outputId": "54c6ebc5-1224-4601-dccf-0f5723ff9af8"
      },
      "outputs": [
        {
          "output_type": "stream",
          "name": "stdout",
          "text": [
            "OrderedDict([(8031, '백업'), (4027, '이메일 스캔'), (5733, '시스템 빌드')])\n"
          ]
        }
      ],
      "source": [
        "from collections import OrderedDict\n",
        "tasks = OrderedDict()        # 삽입 순서대로 항목 지정함\n",
        "tasks[8031] = \"백업\"\n",
        "tasks[4027] = \"이메일 스캔\"\n",
        "tasks[5733] = \"시스템 빌드\"\n",
        "print(tasks)"
      ]
    },
    {
      "cell_type": "code",
      "source": [
        "from collections import OrderedDict\n",
        "\n",
        "def orderedDict_example():\n",
        "    pairs = [(\"a\", 1), (\"b\", 2), (\"c\", 3)]\n",
        "\n",
        "    # 일반 딕셔너리\n",
        "    d1 = {}\n",
        "    for key, value in pairs:\n",
        "        if key not in d1:\n",
        "            d1[key] = []\n",
        "        d1[key].append(value)\n",
        "    \n",
        "    for key in d1:\n",
        "        print(key, d1[key])\n",
        "\n",
        "    # OrderedDict\n",
        "    d2 = OrderedDict(pairs)\n",
        "    for key in d2:\n",
        "        print(key, d2[key])\n",
        "\n",
        "if __name__ == '__main__':\n",
        "    orderedDict_example()"
      ],
      "metadata": {
        "colab": {
          "base_uri": "https://localhost:8080/"
        },
        "id": "d8rJKgtwivS3",
        "outputId": "621a5b48-e37d-4966-e2b8-eb187c2962db"
      },
      "execution_count": 5,
      "outputs": [
        {
          "output_type": "stream",
          "name": "stdout",
          "text": [
            "a [1]\n",
            "b [2]\n",
            "c [3]\n",
            "a 1\n",
            "b 2\n",
            "c 3\n"
          ]
        }
      ]
    },
    {
      "cell_type": "code",
      "source": [
        ""
      ],
      "metadata": {
        "id": "cc19BUjwjmSv"
      },
      "execution_count": null,
      "outputs": []
    }
  ]
}