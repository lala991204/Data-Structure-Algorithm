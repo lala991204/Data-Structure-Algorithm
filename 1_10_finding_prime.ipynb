{
  "nbformat": 4,
  "nbformat_minor": 0,
  "metadata": {
    "colab": {
      "name": "1.10_finding_prime.ipynb",
      "provenance": [],
      "collapsed_sections": [],
      "toc_visible": true,
      "authorship_tag": "ABX9TyNhApP9sqvYMySyaM3SIijJ",
      "include_colab_link": true
    },
    "kernelspec": {
      "name": "python3",
      "display_name": "Python 3"
    },
    "language_info": {
      "name": "python"
    }
  },
  "cells": [
    {
      "cell_type": "markdown",
      "metadata": {
        "id": "view-in-github",
        "colab_type": "text"
      },
      "source": [
        "<a href=\"https://colab.research.google.com/github/lala991204/Data-Structure-Algorithm/blob/master/1_10_finding_prime.ipynb\" target=\"_parent\"><img src=\"https://colab.research.google.com/assets/colab-badge.svg\" alt=\"Open In Colab\"/></a>"
      ]
    },
    {
      "cell_type": "code",
      "execution_count": null,
      "metadata": {
        "colab": {
          "base_uri": "https://localhost:8080/"
        },
        "id": "YUXLTXfEkmfE",
        "outputId": "d374d381-9095-4dcf-e3c2-b92de9b5b300"
      },
      "outputs": [
        {
          "output_type": "stream",
          "name": "stdout",
          "text": [
            "테스트 통과!\n"
          ]
        }
      ],
      "source": [
        "import math\n",
        "import random\n",
        "\n",
        "def finding_prime(number):\n",
        "    num = abs(number)\n",
        "    if num < 4 : return True     # 2,3은 소수\n",
        "    for x in range(2, num):  # 1과 자기자신 제외하고 나누었을 때 0이 하나라도 안 나오면, 소수가 아니다.\n",
        "        if num % x == 0:\n",
        "            return False\n",
        "    return True\n",
        "\n",
        "def finding_prime_sqrt(number):\n",
        "    num = abs(number)\n",
        "    if num < 4 : return True\n",
        "    for x in range(2, int(math.sqrt(num)) + 1):      # number의 루트 값까지의 수 중에 적어도 하나는 number와 나누어 떨어지는 것이 존재한다.\n",
        "        if number % x == 0:\n",
        "            return False\n",
        "    return True\n",
        "\n",
        "def finding_prime_fermat(number):        # 페르마의 소정리 사용함\n",
        "    if number <= 102:\n",
        "        for a in range(2, number):\n",
        "            if pow(a, number-1, number) != 1:\n",
        "                return False\n",
        "        return True\n",
        "    else:\n",
        "        for i in range(100):           # 왜 102를 기준으로 if문을 나누었을까?\n",
        "            a = random.randint(2, number - 1)\n",
        "            if pow(a, number - 1, number) != 1:\n",
        "                return False\n",
        "        return True\n",
        "\n",
        "def test_finding_prime():\n",
        "    number1 = 17\n",
        "    number2 = 20\n",
        "    assert(finding_prime(number1) is True)\n",
        "    assert(finding_prime(number2) is False)\n",
        "    assert(finding_prime_sqrt(number1) is True)\n",
        "    assert(finding_prime_sqrt(number2) is False)\n",
        "    assert(finding_prime_fermat(number1) is True)\n",
        "    assert(finding_prime_fermat(number2) is False)\n",
        "    print(\"테스트 통과!\")\n",
        "\n",
        "if __name__ == \"__main__\":\n",
        "    test_finding_prime()"
      ]
    },
    {
      "cell_type": "code",
      "source": [
        ""
      ],
      "metadata": {
        "id": "BtvYdN2YmEXq"
      },
      "execution_count": null,
      "outputs": []
    }
  ]
}