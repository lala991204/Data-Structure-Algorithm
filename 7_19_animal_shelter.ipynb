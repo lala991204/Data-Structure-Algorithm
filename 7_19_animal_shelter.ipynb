{
  "nbformat": 4,
  "nbformat_minor": 0,
  "metadata": {
    "colab": {
      "name": "7.19_animal_shelter.ipynb",
      "provenance": [],
      "collapsed_sections": [],
      "toc_visible": true,
      "authorship_tag": "ABX9TyOG21MnQlxFO0SxXR0Sx6G0",
      "include_colab_link": true
    },
    "kernelspec": {
      "name": "python3",
      "display_name": "Python 3"
    },
    "language_info": {
      "name": "python"
    }
  },
  "cells": [
    {
      "cell_type": "markdown",
      "metadata": {
        "id": "view-in-github",
        "colab_type": "text"
      },
      "source": [
        "<a href=\"https://colab.research.google.com/github/lala991204/Data-Structure-Algorithm/blob/master/7_19_animal_shelter.ipynb\" target=\"_parent\"><img src=\"https://colab.research.google.com/assets/colab-badge.svg\" alt=\"Open In Colab\"/></a>"
      ]
    },
    {
      "cell_type": "markdown",
      "source": [
        "개와 고양이를 입양(enqueue)했다가 다시 출양(dequeue)하는 동물 보호소를 큐로 구현해보자."
      ],
      "metadata": {
        "id": "Upitz05HI7Ep"
      }
    },
    {
      "cell_type": "code",
      "execution_count": 5,
      "metadata": {
        "colab": {
          "base_uri": "https://localhost:8080/"
        },
        "id": "AzZ85zbxBeJt",
        "outputId": "5186ccee-205e-4217-93a5-128c1d70b550"
      },
      "outputs": [
        {
          "output_type": "stream",
          "name": "stdout",
          "text": [
            "고양이:\n",
            "\t밥\n",
            "\t미아\n",
            "개:\n",
            "\t요다\n",
            "\t울프\n",
            "\n",
            "\n",
            "하나의 개와 고양이에 대해서 dequeue를 실행합니다.\n",
            "요다\n",
            "밥\n",
            "고양이:\n",
            "\t미아\n",
            "개:\n",
            "\t울프\n"
          ]
        }
      ],
      "source": [
        "class Node(object):\n",
        "    def __init__(self, animalName=None, animalKind=None, pointer=None):\n",
        "        self.animalName = animalName\n",
        "        self.animalKind = animalKind\n",
        "        self.pointer = pointer\n",
        "        self.timestamp = 0\n",
        "\n",
        "class AnimalShelter(object):\n",
        "    def __init__(self):        # 스택, 큐 모두 입구:head, 출구:tail임. 다만, 큐는 선입선출(FIFO) 이라서 head로 pop! 스택은 반대임.\n",
        "        self.headCat = None    \n",
        "        self.headDog = None\n",
        "        self.tailCat = None\n",
        "        self.tailDog = None\n",
        "        self.animalNumber = 0\n",
        "    \n",
        "    def enqueue(self, animalName, animalKind):\n",
        "        self.animalNumber += 1\n",
        "        newAnimal = Node(animalName, animalKind)       \n",
        "        newAnimal.timestamp = self.animalNumber\n",
        "\n",
        "        if animalKind == \"cat\":           \n",
        "            if not self.headCat:\n",
        "                self.headCat = newAnimal\n",
        "            if self.tailCat:\n",
        "                self.tailCat.pointer = newAnimal\n",
        "            self.tailCat = newAnimal\n",
        "        \n",
        "        elif animalKind == \"dog\":\n",
        "            if not self.headDog:\n",
        "                self.headDog = newAnimal\n",
        "            if self.tailDog:\n",
        "                self.tailDog.pointer = newAnimal\n",
        "            self.tailDog = newAnimal\n",
        "    \n",
        "    def dequeueDog(self):\n",
        "        if self.headDog:\n",
        "            newAnimal = self.headDog         # head 쪽으로 나옴\n",
        "            self.headDog = newAnimal.pointer\n",
        "            return print(str(newAnimal.animalName))     # 동물 이름으로 dequeue!\n",
        "        else:\n",
        "            print(\"개가 없습니다!\")\n",
        "\n",
        "    def dequeueCat(self):\n",
        "        if self.headCat:\n",
        "            newAnimal = self.headCat         # head 쪽으로 나옴\n",
        "            self.headCat = newAnimal.pointer\n",
        "            return print(str(newAnimal.animalName))\n",
        "        else:\n",
        "            print(\"고양이가 없습니다!\")\n",
        "    \n",
        "    def dequeueAny(self):\n",
        "        if self.headCat and not self.headDog:\n",
        "            return self.dequeueCat()\n",
        "        elif self.headDog and not self.headCat:\n",
        "            return self.dequeueDog()\n",
        "        elif self.headDog and self.headCat:\n",
        "            if self.headDog.timestamp < self.headCat.timestamp:       # 동물 수가 더 작은 곳부터 나옴.\n",
        "                return self.dequeueDog()\n",
        "            else:\n",
        "                return self.dequeueCat()\n",
        "        else:\n",
        "            print(\"동물이 없습니다.\")\n",
        "    \n",
        "    def _print(self):         # enqueue()에서 선입선출 구조가 되도록 설계됨.\n",
        "        print(\"고양이:\")\n",
        "        cats = self.headCat\n",
        "        while cats:\n",
        "            print(\"\\t{0}\".format(cats.animalName))\n",
        "            cats = cats.pointer       \n",
        "        print(\"개:\")\n",
        "        dogs = self.headDog\n",
        "        while dogs:\n",
        "            print(\"\\t{0}\".format(dogs.animalName))\n",
        "            dogs = dogs.pointer\n",
        "\n",
        "if __name__ == \"__main__\":\n",
        "    qs = AnimalShelter()\n",
        "    qs.enqueue(\"밥\", \"cat\")\n",
        "    qs.enqueue(\"미아\", \"cat\")\n",
        "    qs.enqueue(\"요다\", \"dog\")\n",
        "    qs.enqueue(\"울프\", \"dog\")\n",
        "    qs._print()\n",
        "    print('\\n')\n",
        "\n",
        "    print(\"하나의 개와 고양이에 대해서 dequeue를 실행합니다.\")\n",
        "    qs.dequeueDog()\n",
        "    qs.dequeueCat()\n",
        "    qs._print()       # 남아 있는 동물들.."
      ]
    },
    {
      "cell_type": "code",
      "source": [
        ""
      ],
      "metadata": {
        "id": "BzYzGz8XTBhw"
      },
      "execution_count": null,
      "outputs": []
    }
  ]
}