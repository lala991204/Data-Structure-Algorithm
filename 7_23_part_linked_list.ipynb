{
  "nbformat": 4,
  "nbformat_minor": 0,
  "metadata": {
    "colab": {
      "name": "7.23_part_linked_list.ipynb",
      "provenance": [],
      "collapsed_sections": [],
      "toc_visible": true,
      "mount_file_id": "1n0T732eMPC4_KDyX1AuhU0cyj72j6Yv5",
      "authorship_tag": "ABX9TyPTeNqtY5PBoy+Osd+YZ8bw",
      "include_colab_link": true
    },
    "kernelspec": {
      "name": "python3",
      "display_name": "Python 3"
    },
    "language_info": {
      "name": "python"
    }
  },
  "cells": [
    {
      "cell_type": "markdown",
      "metadata": {
        "id": "view-in-github",
        "colab_type": "text"
      },
      "source": [
        "<a href=\"https://colab.research.google.com/github/lala991204/Data-Structure-Algorithm/blob/master/7_23_part_linked_list.ipynb\" target=\"_parent\"><img src=\"https://colab.research.google.com/assets/colab-badge.svg\" alt=\"Open In Colab\"/></a>"
      ]
    },
    {
      "cell_type": "code",
      "execution_count": null,
      "metadata": {
        "colab": {
          "base_uri": "https://localhost:8080/"
        },
        "id": "XcGm3TKDYaA9",
        "outputId": "cbc9813c-845f-4b9a-9b82-fd68ec26ccee"
      },
      "outputs": [
        {
          "output_type": "stream",
          "name": "stdout",
          "text": [
            "/content/drive/MyDrive/Colab Notebooks/github/Data Structure and Algorithm\n"
          ]
        }
      ],
      "source": [
        "%cd /content/drive/MyDrive/Colab Notebooks/github/Data Structure and Algorithm"
      ]
    },
    {
      "cell_type": "markdown",
      "source": [
        "숫자가 담긴 연결 리스트에서 한 항목(원소)을 선택했을 때, 그 항목 값의 왼쪽에는 모두 그것보다 작은, 오른쪽에는 큰 숫자 항목만 나오도록 분할 해보자."
      ],
      "metadata": {
        "id": "2WVw75tkYXey"
      }
    },
    {
      "cell_type": "code",
      "source": [
        "from linkedlist_fifo_py import LinkedListFIFO\n",
        "from node_py import Node\n",
        "\n",
        "def partList(ll, n):\n",
        "    more = LinkedListFIFO()  # 더 큰\n",
        "    less = LinkedListFIFO()  # 더 작은\n",
        "\n",
        "    node = ll.head\n",
        "\n",
        "    while node:          # head부터 탐색\n",
        "        item = node.value\n",
        "\n",
        "        if item < n:\n",
        "            less.addNode(item)\n",
        "        \n",
        "        elif item > n:\n",
        "            more.addNode(item)\n",
        "        \n",
        "        node = node.pointer       # 노드가 가리키고 있는 부분으로 넘어감.\n",
        "\n",
        "    less.addNode(n)      # n 왼쪽에는 n보다 작은 값들 나열 후 n을 배치함.\n",
        "    nodemore = more.head   # more의 head 부분 부터\n",
        "\n",
        "    while nodemore:\n",
        "        less.addNode(nodemore.value)\n",
        "        nodemore = nodemore.pointer\n",
        "    \n",
        "    return less\n",
        "\n",
        "\n",
        "if __name__ == \"__main__\":\n",
        "    ll = LinkedListFIFO()\n",
        "    l = [6, 7, 3, 4, 9, 5, 1, 2, 8]\n",
        "    for i in l:\n",
        "        ll.addNode(i)\n",
        "    \n",
        "    print(\"분할 전:\")\n",
        "    ll._printList()\n",
        "\n",
        "    print(\"분할 후:\")\n",
        "    newll = partList(ll, 6)\n",
        "    newll._printList()"
      ],
      "metadata": {
        "colab": {
          "base_uri": "https://localhost:8080/"
        },
        "id": "FAVuXzNXYqxJ",
        "outputId": "c7fc6406-dd38-4fa9-a31c-9f445a97ed3c"
      },
      "execution_count": null,
      "outputs": [
        {
          "output_type": "stream",
          "name": "stdout",
          "text": [
            "분할 전:\n",
            "6 7 3 4 9 5 1 2 8 \n",
            "분할 후:\n",
            "3 4 5 1 2 6 7 9 8 \n"
          ]
        }
      ]
    },
    {
      "cell_type": "markdown",
      "source": [
        "예를 들어, 6을 선택했을 때 6의 왼쪽에는 모두 6보다 작은, 오른쪽에는 모두 6보다 큰 항목들만 있다."
      ],
      "metadata": {
        "id": "zwl7dlY4Ypdr"
      }
    },
    {
      "cell_type": "code",
      "source": [
        ""
      ],
      "metadata": {
        "id": "MED__nJjZoA2"
      },
      "execution_count": null,
      "outputs": []
    }
  ]
}