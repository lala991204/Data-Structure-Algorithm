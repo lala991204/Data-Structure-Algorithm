{
  "nbformat": 4,
  "nbformat_minor": 0,
  "metadata": {
    "colab": {
      "name": "7.24_doubled_linked_list_fifo.ipynb",
      "provenance": [],
      "collapsed_sections": [],
      "toc_visible": true,
      "mount_file_id": "1gwozsXR9IHlr3CpzMyWKYuig255IRZj0",
      "authorship_tag": "ABX9TyMgp3YsCXd2RquAE+BQ9scJ",
      "include_colab_link": true
    },
    "kernelspec": {
      "name": "python3",
      "display_name": "Python 3"
    },
    "language_info": {
      "name": "python"
    }
  },
  "cells": [
    {
      "cell_type": "markdown",
      "metadata": {
        "id": "view-in-github",
        "colab_type": "text"
      },
      "source": [
        "<a href=\"https://colab.research.google.com/github/lala991204/Data-Structure-Algorithm/blob/master/7_24_doubled_linked_list_fifo.ipynb\" target=\"_parent\"><img src=\"https://colab.research.google.com/assets/colab-badge.svg\" alt=\"Open In Colab\"/></a>"
      ]
    },
    {
      "cell_type": "code",
      "execution_count": null,
      "metadata": {
        "colab": {
          "base_uri": "https://localhost:8080/"
        },
        "id": "cq2Da6iNZyWh",
        "outputId": "04682d4e-c4f0-4ec3-9a5b-669fbea51598"
      },
      "outputs": [
        {
          "output_type": "stream",
          "name": "stdout",
          "text": [
            "/content/drive/MyDrive/Colab Notebooks/github/Data Structure and Algorithm\n"
          ]
        }
      ],
      "source": [
        "%cd /content/drive/MyDrive/Colab Notebooks/github/Data Structure and Algorithm"
      ]
    },
    {
      "cell_type": "markdown",
      "source": [
        "앞에서 다룬 연결 리스트는 '단일 연결 리스트'로써, 각 노드의 포인터 하나가 다음 노드를 가리키지만, '이중 연결 리스트'에서는 포인터가 두 개 있어 각각 앞, 뒤 노드를 가리킨다."
      ],
      "metadata": {
        "id": "CZngnGfGdZ9H"
      }
    },
    {
      "cell_type": "code",
      "source": [
        "from linkedlist_fifo_py import LinkedListFIFO\n",
        "\n",
        "class DNode(object):\n",
        "    def __init__(self, value=None, pointer=None, previous=None):\n",
        "        self.value = value\n",
        "        self.pointer = pointer      # 다음 노드 가리킴\n",
        "        self.previous = previous    # 이전 노드 가리킴\n",
        " \n",
        "class DLinkedList(LinkedListFIFO):\n",
        "    def printListInverse(self):\n",
        "        node = self.tail           # 마지막에 들어간 노드가 있는 부분\n",
        "        while node:\n",
        "            print(node.value, end=\" \")       # FIFO이므로 tail에서 나옴(linkedlist_fifo에서는 먼저 들어간 게 tail쪽에 나열되어 있으므로)\n",
        "            try:\n",
        "                node = node.previous    # 이전에 들어간 노드\n",
        "            except AttributeError:\n",
        "                break\n",
        "        print()\n",
        "    \n",
        "    def _add(self, value):\n",
        "        self.length += 1\n",
        "        node = DNode(value)\n",
        "        if self.tail:  \n",
        "            self.tail.pointer = node     # 새로 들어온 노드가 가리키는 다음 노드가 tail이므로.\n",
        "            node.previous = self.tail    # 노드가 들어오면, tail쪽에 있었던 노드가 새로 들어온 노드 입장에서는 이전 노드가 됨.\n",
        "        self.tail = node     # 새로 들어온 노드가 제일 마지막에 들어온 셈이므로.\n",
        "    \n",
        "    def _delete(self, node):\n",
        "        self.length -= 1\n",
        "        node.previous.pointer = node.pointer    # 해당 노드가 가리키는 다음 노드는 해당 노드의 이전 노드가 가리키는 곳으로 변경됨.\n",
        "        if not node.pointer:       # 해당 노드가 tail에 있으면, 즉, 가리킬 다음 노드가 존재하지 않으면!\n",
        "            self.tail = node.previous  # 이전노드는 tail이 됨.\n",
        "    \n",
        "    def _find(self, index):\n",
        "        node = self.head      # head부터 탐색\n",
        "        i = 0\n",
        "        while node and i < index:   \n",
        "            node = node.pointer\n",
        "            i += 1\n",
        "        return node, i\n",
        "    \n",
        "    def deleteNode(self, index):\n",
        "        if not self.head or not self.head.pointer:    # head가 없거나 head가 가리키는 부분이 존재하지 않으면 \n",
        "            self._deleteFirst()\n",
        "        else:\n",
        "            node, i = self._find(index)\n",
        "            if i == index:\n",
        "                self._delete(node)\n",
        "            else:\n",
        "                print(\"인덱스 {0}에 해당하는 노드가 없습니다.\".format(index))\n",
        "\n",
        "if __name__ == \"__main__\":\n",
        "    from collections import Counter\n",
        "    ll = DLinkedList()\n",
        "    for i in range(1, 5):\n",
        "        ll.addNode(i)\n",
        "    print(\"연결 리스트 출력:\")\n",
        "    ll._printList()\n",
        "    print(\"연결 리스트 반대로 출력:\")\n",
        "    ll.printListInverse()\n",
        "    print(\"값이 15인 노드 추가 후, 연결 리스트 출력:\")\n",
        "    ll._add(15)\n",
        "    ll._printList()\n",
        "    print(\"모든 노드 모두 삭제 후, 연결 리스트 출력:\")\n",
        "    for i in range(ll.length-1, -1, -1):\n",
        "        ll.deleteNode(i)\n",
        "    ll._printList()"
      ],
      "metadata": {
        "colab": {
          "base_uri": "https://localhost:8080/"
        },
        "id": "rabycPGoZ4Y3",
        "outputId": "80115d3c-0787-4f5d-a97c-08959c168964"
      },
      "execution_count": null,
      "outputs": [
        {
          "output_type": "stream",
          "name": "stdout",
          "text": [
            "연결 리스트 출력:\n",
            "1 2 3 4 \n",
            "연결 리스트 반대로 출력:\n",
            "4 3 2 1 \n",
            "값이 15인 노드 추가 후, 연결 리스트 출력:\n",
            "1 2 3 4 15 \n",
            "모든 노드 모두 삭제 후, 연결 리스트 출력:\n",
            "연결 리스트가 비었습니다.\n",
            "\n"
          ]
        }
      ]
    },
    {
      "cell_type": "code",
      "source": [
        ""
      ],
      "metadata": {
        "id": "E7c_VDN0cWey"
      },
      "execution_count": null,
      "outputs": []
    }
  ]
}