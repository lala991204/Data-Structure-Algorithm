{
  "nbformat": 4,
  "nbformat_minor": 0,
  "metadata": {
    "colab": {
      "name": "1.2_convert_to_decimal.ipynb",
      "provenance": [],
      "collapsed_sections": [],
      "authorship_tag": "ABX9TyPtebo9WSFQHXI0ydWeWwMl",
      "include_colab_link": true
    },
    "kernelspec": {
      "name": "python3",
      "display_name": "Python 3"
    },
    "language_info": {
      "name": "python"
    }
  },
  "cells": [
    {
      "cell_type": "markdown",
      "metadata": {
        "id": "view-in-github",
        "colab_type": "text"
      },
      "source": [
        "<a href=\"https://colab.research.google.com/github/lala991204/Data-Structure-Algorithm/blob/master/1_2_convert_to_decimal.ipynb\" target=\"_parent\"><img src=\"https://colab.research.google.com/assets/colab-badge.svg\" alt=\"Open In Colab\"/></a>"
      ]
    },
    {
      "cell_type": "code",
      "execution_count": 1,
      "metadata": {
        "colab": {
          "base_uri": "https://localhost:8080/"
        },
        "id": "lC-PYuFFYncx",
        "outputId": "bf99cdb7-9c0e-4da7-adea-3fa61c5a5cd0"
      },
      "outputs": [
        {
          "output_type": "execute_result",
          "data": {
            "text/plain": [
              "False"
            ]
          },
          "metadata": {},
          "execution_count": 1
        }
      ],
      "source": [
        "sum(0.1 for i in range(10)) == 1.0    # False라고 나온다. 해결책은 바로 아래."
      ]
    },
    {
      "cell_type": "code",
      "source": [
        "# 정확한 10진법의 부동소수점 숫자가 필요한 경우 이를 이용함.\n",
        "# Decimal()는 정수 또는 문자열을 인수로 취함.\n",
        "from decimal import Decimal\n",
        "sum(Decimal(\"0.1\") for i in range(10)) == Decimal(\"1.0\")"
      ],
      "metadata": {
        "colab": {
          "base_uri": "https://localhost:8080/"
        },
        "id": "6TS5AffrY5o_",
        "outputId": "810dfb5c-04e2-455d-93a1-5661abe4ff86"
      },
      "execution_count": 2,
      "outputs": [
        {
          "output_type": "execute_result",
          "data": {
            "text/plain": [
              "True"
            ]
          },
          "metadata": {},
          "execution_count": 2
        }
      ]
    },
    {
      "cell_type": "code",
      "source": [
        "print(bin(999))      # 정수의 2진수 문자열 반환\n",
        "print(oct(999))      # 정수의 8진수 문자열 반환\n",
        "print(hex(999))      # 정수의 16진수 문자열 반환"
      ],
      "metadata": {
        "colab": {
          "base_uri": "https://localhost:8080/"
        },
        "id": "SFnrJWtdZHOh",
        "outputId": "5d506f3b-5def-46a3-cdb1-02a336fc75bd"
      },
      "execution_count": 5,
      "outputs": [
        {
          "output_type": "stream",
          "name": "stdout",
          "text": [
            "0b1111100111\n",
            "0o1747\n",
            "0x3e7\n"
          ]
        }
      ]
    },
    {
      "cell_type": "code",
      "source": [
        "# 다른 진법의 숫자를 10진수로 변환(2<=base<=10)\n",
        "def convert_to_decimal(number, base):\n",
        "    multiplier, result = 1, 0\n",
        "    while number > 0:\n",
        "        result += number % 10 * multiplier      # %는 나머지, //는 몫\n",
        "        multiplier *= base        # 2(base)의 거듭제곱을 차례로 곱해줌\n",
        "        number = number // 10     # 일의 자리 숫자를 하나씩 가져와서 계산하기 위해 10(decimal)으로 나눠 하나씩 pass\n",
        "    return result\n",
        "\n",
        "def test_convert_to_decimal():\n",
        "    number, base = 1001, 2\n",
        "    assert(convert_to_decimal(number, base) == 9)\n",
        "    print(\"테스트 통과!\")\n",
        "\n",
        "if __name__ == \"__main__\":\n",
        "    test_convert_to_decimal()"
      ],
      "metadata": {
        "colab": {
          "base_uri": "https://localhost:8080/"
        },
        "id": "hBghEu7DZogY",
        "outputId": "0ebc9804-39de-4ec4-dcb6-0c3b27e08f55"
      },
      "execution_count": 6,
      "outputs": [
        {
          "output_type": "stream",
          "name": "stdout",
          "text": [
            "테스트 통과!\n"
          ]
        }
      ]
    },
    {
      "cell_type": "code",
      "source": [
        ""
      ],
      "metadata": {
        "id": "7z2v3dwYbjRD"
      },
      "execution_count": null,
      "outputs": []
    }
  ]
}