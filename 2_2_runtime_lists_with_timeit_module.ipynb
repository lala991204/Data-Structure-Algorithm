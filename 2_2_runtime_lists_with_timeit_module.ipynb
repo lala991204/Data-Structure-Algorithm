{
  "nbformat": 4,
  "nbformat_minor": 0,
  "metadata": {
    "colab": {
      "name": "2.2_runtime_lists_with_timeit_module.ipynb",
      "provenance": [],
      "collapsed_sections": [],
      "authorship_tag": "ABX9TyNsw+F7OdYulIE6d0poXAhc",
      "include_colab_link": true
    },
    "kernelspec": {
      "name": "python3",
      "display_name": "Python 3"
    },
    "language_info": {
      "name": "python"
    }
  },
  "cells": [
    {
      "cell_type": "markdown",
      "metadata": {
        "id": "view-in-github",
        "colab_type": "text"
      },
      "source": [
        "<a href=\"https://colab.research.google.com/github/lala991204/Data-Structure-Algorithm/blob/master/2_2_runtime_lists_with_timeit_module.ipynb\" target=\"_parent\"><img src=\"https://colab.research.google.com/assets/colab-badge.svg\" alt=\"Open In Colab\"/></a>"
      ]
    },
    {
      "cell_type": "code",
      "execution_count": 6,
      "metadata": {
        "colab": {
          "base_uri": "https://localhost:8080/",
          "height": 254
        },
        "id": "VgHCq_SBDVsa",
        "outputId": "05596cc9-c8f3-4666-8dfc-3f1b49657b60"
      },
      "outputs": [
        {
          "output_type": "stream",
          "name": "stdout",
          "text": [
            "bUFFY AND fAITH\n",
            "\n",
            "\n",
            "4\n",
            "-1\n",
            "4\n",
            "\n",
            "\n",
            "2\n",
            "3\n",
            "\n",
            "\n"
          ]
        },
        {
          "output_type": "execute_result",
          "data": {
            "application/vnd.google.colaboratory.intrinsic+json": {
              "type": "string"
            },
            "text/plain": [
              "'who is who is Buffy'"
            ]
          },
          "metadata": {},
          "execution_count": 6
        }
      ],
      "source": [
        "# Methods for Strings\n",
        "slayers = \"Buffy and Faith\"\n",
        "print(slayers.swapcase())\n",
        "print(\"\\n\")\n",
        "\n",
        "slayers = \"Buffy and Faith\"\n",
        "print(slayers.find(\"y\"))\n",
        "print(slayers.find(\"k\"))       # .find()는 failure일 경우 -1 반환\n",
        "# print(slayers.index(\"k\"))    # .index()는 failure일 경우 오류\n",
        "print(slayers.index(\"y\"))\n",
        "print(\"\\n\")\n",
        "\n",
        "slayer = \"Buffy is Buffy is Buffy\"\n",
        "print(slayer.count(\"Buffy\", 0, -1))\n",
        "print(slayer.count(\"Buffy\"))\n",
        "print(\"\\n\")\n",
        "\n",
        "slayer = \"Buffy is Buffy is Buffy\"\n",
        "slayer.replace(\"Buffy\", \"who\", 2) # 최대 2번 교체"
      ]
    },
    {
      "cell_type": "code",
      "source": [
        "# Tuples\n",
        "t1 = 1234, 'hello!'\n",
        "print(t1[0])\n",
        "print(t1)\n",
        "u = t1, (1,2,3,4,5)   # nested\n",
        "print(u)\n",
        "print(\"\\n\")\n",
        "\n",
        "empty = ()\n",
        "t1 = \"hello\",\n",
        "print(len(empty))\n",
        "print(len(t1))\n",
        "print(t1)\n",
        "print(\"\\n\")\n",
        "\n",
        "t = 1, 5, 7, 8, 9, 4, 1, 4\n",
        "print(t.count(4))\n",
        "t = 1, 5, 7\n",
        "print(t.index(5))\n",
        "print(\"\\n\")\n",
        "\n",
        "x, *y = (1,2,3,4)\n",
        "print(x)\n",
        "print(y)\n",
        "print('\\n')\n",
        "\n",
        "import collections\n",
        "MonsterTuple = collections.namedtuple(\"Monsters\", \"name age power\")\n",
        "MonsterTuple = ('Vampire', 230, 'immortal')\n",
        "print(MonsterTuple)\n",
        "print(\"\\n\")\n",
        "\n",
        "from collections import namedtuple\n",
        "def namedtuple_example():\n",
        "    sunnydale = namedtuple('name', ['job', 'age'])\n",
        "    buffy = sunnydale('slayer', '17')\n",
        "    print(buffy.job)\n",
        "\n",
        "if __name__ == \"__main__\":\n",
        "    namedtuple_example()"
      ],
      "metadata": {
        "colab": {
          "base_uri": "https://localhost:8080/"
        },
        "id": "rX0RKSxQDxnY",
        "outputId": "0fc85dd3-2a7d-440e-da0c-cc979f3ca24b"
      },
      "execution_count": 19,
      "outputs": [
        {
          "output_type": "stream",
          "name": "stdout",
          "text": [
            "1234\n",
            "(1234, 'hello!')\n",
            "((1234, 'hello!'), (1, 2, 3, 4, 5))\n",
            "\n",
            "\n",
            "0\n",
            "1\n",
            "('hello',)\n",
            "\n",
            "\n",
            "2\n",
            "1\n",
            "\n",
            "\n",
            "1\n",
            "[2, 3, 4]\n",
            "\n",
            "\n",
            "('Vampire', 230, 'immortal')\n",
            "\n",
            "\n",
            "slayer\n"
          ]
        }
      ]
    },
    {
      "cell_type": "code",
      "source": [
        "# List\n",
        "q = [2, 3]\n",
        "p = [1, q, 4]\n",
        "p[1].append(\"buffy\")\n",
        "print(p)\n",
        "print(q)  # 이것도 함께 변하는군.\n",
        "print('\\n')\n",
        "\n",
        "people = [\"Buffy\", \"Faith\"]\n",
        "people.append(\"Giles\")\n",
        "print(people)\n",
        "\n",
        "people[len(people):] = [\"Xander\"]\n",
        "print(people)\n",
        "print('\\n')\n",
        "\n",
        "people = [\"Buffy\", \"Faith\"]\n",
        "people.extend(\"Giles\")\n",
        "print(people)\n",
        "\n",
        "people += \"Willow\"\n",
        "print(people)\n",
        "\n",
        "people += [\"Xander\"]\n",
        "print(people)\n",
        "print(\"\\n\")\n",
        "\n",
        "people = [\"Buffy\", \"Faith\"]\n",
        "people.insert(1, \"Xander\")\n",
        "print(people)\n",
        "\n",
        "people = [\"Buffy\", \"Faith\"]\n",
        "people.remove(\"Buffy\")\n",
        "print(people)\n",
        "print(\"\\n\")\n",
        "\n",
        "people = [\"Buffy\", \"Faith\"]\n",
        "print(people.pop())  # 마지막 항목 반환\n",
        "print(people)"
      ],
      "metadata": {
        "colab": {
          "base_uri": "https://localhost:8080/"
        },
        "id": "AUhrp_uMFkM7",
        "outputId": "cbc22547-0319-480b-92cc-10646a004297"
      },
      "execution_count": 26,
      "outputs": [
        {
          "output_type": "stream",
          "name": "stdout",
          "text": [
            "[1, [2, 3, 'buffy'], 4]\n",
            "[2, 3, 'buffy']\n",
            "\n",
            "\n",
            "['Buffy', 'Faith', 'Giles']\n",
            "['Buffy', 'Faith', 'Giles', 'Xander']\n",
            "\n",
            "\n",
            "['Buffy', 'Faith', 'G', 'i', 'l', 'e', 's']\n",
            "['Buffy', 'Faith', 'G', 'i', 'l', 'e', 's', 'W', 'i', 'l', 'l', 'o', 'w']\n",
            "['Buffy', 'Faith', 'G', 'i', 'l', 'e', 's', 'W', 'i', 'l', 'l', 'o', 'w', 'Xander']\n",
            "\n",
            "\n",
            "['Buffy', 'Xander', 'Faith']\n",
            "['Faith']\n",
            "\n",
            "\n",
            "Faith\n",
            "['Buffy']\n"
          ]
        }
      ]
    },
    {
      "cell_type": "code",
      "source": [
        "a = [-1, 4, 5, 7, 10]\n",
        "del a[0]\n",
        "print(a)\n",
        "\n",
        "del a[2:3]\n",
        "print(a)\n",
        "\n",
        "print('\\n')\n",
        "\n",
        "people = [\"Buffy\", \"Faith\"]\n",
        "print(people.index(\"Buffy\"))\n",
        "\n",
        "people = [\"Buffy\", \"Faith\", \"Buffy\"]\n",
        "print(people.count(\"Buffy\"))\n",
        "print('\\n')\n",
        "\n",
        "people = [\"Xander\", \"Faith\", \"Buffy\"]\n",
        "people.sort()\n",
        "print(people)\n",
        "\n",
        "people.reverse()\n",
        "print(people)\n",
        "print('\\n')\n",
        "\n",
        "first, *rest = [1,2,3,4,5]\n",
        "print(first)\n",
        "print(rest)\n",
        "\n",
        "def example_args(a,b,c):\n",
        "    return a*b*c\n",
        "L = [2,3,4]\n",
        "print(example_args(*L))\n",
        "print(example_args(2, *L[1:]))\n",
        "print('\\n')"
      ],
      "metadata": {
        "colab": {
          "base_uri": "https://localhost:8080/"
        },
        "id": "13HZ0mk1Jpzk",
        "outputId": "39388d91-cf46-458d-a5f0-35d450f70c28"
      },
      "execution_count": 36,
      "outputs": [
        {
          "output_type": "stream",
          "name": "stdout",
          "text": [
            "[4, 5, 7, 10]\n",
            "[4, 5, 10]\n",
            "\n",
            "\n",
            "0\n",
            "2\n",
            "\n",
            "\n",
            "['Buffy', 'Faith', 'Xander']\n",
            "['Xander', 'Faith', 'Buffy']\n",
            "\n",
            "\n",
            "1\n",
            "[2, 3, 4, 5]\n",
            "24\n",
            "24\n"
          ]
        }
      ]
    },
    {
      "cell_type": "code",
      "source": [
        "a = [y for y in range(1900,1940) if y%4 == 0]\n",
        "print(a)\n",
        "\n",
        "b = [2**i for i in range(13)]\n",
        "print(b)\n",
        "\n",
        "c = [x for x in a if x%2 == 0]\n",
        "print(c)\n",
        "\n",
        "d = [str(round(355/113.0, i)) for i in range(1,6)]\n",
        "print(d)\n",
        "\n",
        "words = 'Buffy is awesome and a vampire slayer'.split()\n",
        "e = [[w.upper(), w.lower(), len(w)] for w in words]\n",
        "for i in e:\n",
        "    print(i)"
      ],
      "metadata": {
        "colab": {
          "base_uri": "https://localhost:8080/"
        },
        "id": "r2FvwXQrMNJI",
        "outputId": "3d36a8a6-0edc-4421-8edb-e9907faa3432"
      },
      "execution_count": 37,
      "outputs": [
        {
          "output_type": "stream",
          "name": "stdout",
          "text": [
            "[1900, 1904, 1908, 1912, 1916, 1920, 1924, 1928, 1932, 1936]\n",
            "[1, 2, 4, 8, 16, 32, 64, 128, 256, 512, 1024, 2048, 4096]\n",
            "[1900, 1904, 1908, 1912, 1916, 1920, 1924, 1928, 1932, 1936]\n",
            "['3.1', '3.14', '3.142', '3.1416', '3.14159']\n",
            "['BUFFY', 'buffy', 5]\n",
            "['IS', 'is', 2]\n",
            "['AWESOME', 'awesome', 7]\n",
            "['AND', 'and', 3]\n",
            "['A', 'a', 1]\n",
            "['VAMPIRE', 'vampire', 7]\n",
            "['SLAYER', 'slayer', 6]\n"
          ]
        }
      ]
    },
    {
      "cell_type": "code",
      "source": [
        "355/113.0"
      ],
      "metadata": {
        "colab": {
          "base_uri": "https://localhost:8080/"
        },
        "id": "3Dzl-FtNMX56",
        "outputId": "2ed67380-8167-4fa5-9f56-bad10c7ec0ee"
      },
      "execution_count": 38,
      "outputs": [
        {
          "output_type": "execute_result",
          "data": {
            "text/plain": [
              "3.1415929203539825"
            ]
          },
          "metadata": {},
          "execution_count": 38
        }
      ]
    },
    {
      "cell_type": "code",
      "source": [
        "# result = []\n",
        "# for x in range(10):\n",
        "#     for y in range(5):\n",
        "#         if x * y > 10:\n",
        "#             result.append((x, y))\n",
        "\n",
        "# for x in range(5):\n",
        "#     for y in range(5):\n",
        "#         if x != y:\n",
        "#             for z in range(5):\n",
        "#                 if y != z:\n",
        "#                     yield (x, y, z)\n",
        "\n",
        "              "
      ],
      "metadata": {
        "colab": {
          "base_uri": "https://localhost:8080/",
          "height": 136
        },
        "id": "sMud_LCXPHie",
        "outputId": "a041f9ef-3300-48f4-d083-5bdf32cfe7eb"
      },
      "execution_count": 40,
      "outputs": [
        {
          "output_type": "error",
          "ename": "SyntaxError",
          "evalue": "ignored",
          "traceback": [
            "\u001b[0;36m  File \u001b[0;32m\"<ipython-input-40-3214b9cfadab>\"\u001b[0;36m, line \u001b[0;32m12\u001b[0m\n\u001b[0;31m    yield (x, y, z)\u001b[0m\n\u001b[0m    ^\u001b[0m\n\u001b[0;31mSyntaxError\u001b[0m\u001b[0;31m:\u001b[0m 'yield' outside function\n"
          ]
        }
      ]
    },
    {
      "cell_type": "code",
      "source": [
        "def test1():\n",
        "    l = []\n",
        "    for i in range(1000):\n",
        "        l = l + [i]\n",
        "\n",
        "def test2():\n",
        "    l = []\n",
        "    for i in range(1000):\n",
        "        l.append(i)\n",
        "\n",
        "def test3():\n",
        "    l = [i for i in range(1000)]\n",
        "\n",
        "def test4():\n",
        "    l = list(range(1000))\n",
        "\n",
        "if __name__ == '__main__':\n",
        "    import timeit\n",
        "    t1 = timeit.Timer(\"test1()\", \"from __main__ import test1\")\n",
        "    print(\"concat \", t1.timeit(number=1000), \"milliseconds\")\n",
        "    t2 = timeit.Timer(\"test2()\", \"from __main__ import test2\")\n",
        "    print(\"append \", t2.timeit(number=1000), \"milliseconds\")\n",
        "    t3 = timeit.Timer(\"test3()\", \"from __main__ import test3\")\n",
        "    print(\"comprehension \", t3.timeit(number=1000), \"milliseconds\")\n",
        "    t4 = timeit.Timer(\"test4()\", \"from __main__ import test4\")\n",
        "    print(\"list range \", t4.timeit(number=1000), \"milliseconds\")"
      ],
      "metadata": {
        "colab": {
          "base_uri": "https://localhost:8080/"
        },
        "id": "MA8FdbzMQQcq",
        "outputId": "e5f8ec5c-4b91-4841-bf15-ffe4a3414e17"
      },
      "execution_count": 42,
      "outputs": [
        {
          "output_type": "stream",
          "name": "stdout",
          "text": [
            "concat  0.9888642220012116 milliseconds\n",
            "append  0.12334141300016199 milliseconds\n",
            "comprehension  0.0708426840010361 milliseconds\n",
            "list range  0.02712866900037625 milliseconds\n"
          ]
        }
      ]
    },
    {
      "cell_type": "code",
      "source": [
        ""
      ],
      "metadata": {
        "id": "23MKE00GSa6O"
      },
      "execution_count": null,
      "outputs": []
    }
  ]
}