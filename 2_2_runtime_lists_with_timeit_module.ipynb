{
  "nbformat": 4,
  "nbformat_minor": 0,
  "metadata": {
    "colab": {
      "name": "2.2_runtime_lists_with_timeit_module.ipynb",
      "provenance": [],
      "collapsed_sections": [],
      "toc_visible": true,
      "authorship_tag": "ABX9TyOcPH/V75SN0MY1i6EMkVAy",
      "include_colab_link": true
    },
    "kernelspec": {
      "name": "python3",
      "display_name": "Python 3"
    },
    "language_info": {
      "name": "python"
    }
  },
  "cells": [
    {
      "cell_type": "markdown",
      "metadata": {
        "id": "view-in-github",
        "colab_type": "text"
      },
      "source": [
        "<a href=\"https://colab.research.google.com/github/lala991204/Data-Structure-Algorithm/blob/master/2_2_runtime_lists_with_timeit_module.ipynb\" target=\"_parent\"><img src=\"https://colab.research.google.com/assets/colab-badge.svg\" alt=\"Open In Colab\"/></a>"
      ]
    },
    {
      "cell_type": "code",
      "execution_count": null,
      "metadata": {
        "colab": {
          "base_uri": "https://localhost:8080/"
        },
        "id": "VgHCq_SBDVsa",
        "outputId": "bb6004ea-3b74-4c8b-d5a6-fc5f6eeec76f"
      },
      "outputs": [
        {
          "output_type": "stream",
          "name": "stdout",
          "text": [
            "bUFFY AND fAITH\n",
            "Buffy and faith\n",
            "buffy and faith\n",
            "BUFFY AND FAITH\n",
            "\n",
            "\n",
            "4\n",
            "-1\n",
            "4\n",
            "\n",
            "\n",
            "2\n",
            "3\n",
            "\n",
            "\n",
            "who is who is Buffy\n",
            "\n",
            "\n",
            "그의 이름은 '프레드'입니다.\n",
            "그의 이름은 '프레드'입니다.\n",
            "\n",
            "\n",
            "결과 :      12.35\n",
            "\n",
            "\n",
            "January 27 2017\n",
            "0x400\n"
          ]
        }
      ],
      "source": [
        "# Methods for Strings\n",
        "slayers = \"Buffy and Faith\"\n",
        "print(slayers.swapcase())\n",
        "print(slayers.capitalize())\n",
        "print(slayers.lower())\n",
        "print(slayers.upper())\n",
        "print(\"\\n\")\n",
        "\n",
        "slayers = \"Buffy and Faith\"\n",
        "print(slayers.find(\"y\"))\n",
        "print(slayers.find(\"k\"))       # .find()는 failure일 경우 -1 반환\n",
        "# print(slayers.index(\"k\"))    # .index()는 failure일 경우 오류 뜸\n",
        "print(slayers.index(\"y\"))\n",
        "print(\"\\n\")\n",
        "\n",
        "slayer = \"Buffy is Buffy is Buffy\"\n",
        "print(slayer.count(\"Buffy\", 0, -1))  # range(0, -1) 내에서\n",
        "print(slayer.count(\"Buffy\"))    # 전체 범위 내에서\n",
        "print(\"\\n\")\n",
        "\n",
        "slayer = \"Buffy is Buffy is Buffy\"\n",
        "print(slayer.replace(\"Buffy\", \"who\", 2))  # 2곳 대체\n",
        "print(\"\\n\")\n",
        "\n",
        "\n",
        "## f-strings은 기존의 %나 .format 방식에 비해 간결하고 직관적이며 속도 역시 빠름.\n",
        "name = \"프레드\"\n",
        "print(f\"그의 이름은 {name!r}입니다.\")\n",
        "print(f\"그의 이름은 {repr(name)}입니다.\")       # repr()은 !r과 같다.\n",
        "print(\"\\n\")\n",
        "\n",
        "import decimal\n",
        "width = 10\n",
        "precision = 4\n",
        "value = decimal.Decimal(\"12.34567\")         # 참고로, Decimal은 정확성을 향상시키기 위해 고정소수점을 사용하여 메모리를 많이 사용함\n",
        "print(f\"결과 : {value:{width}.{precision}}\")        # 중첩 필드 사용    # '결과:'와 value 사이의 너비 지정됨. precision은 소수점 제외 자기 위치까지 반올림 적용.\n",
        "print(\"\\n\")\n",
        "\n",
        "from datetime import datetime\n",
        "today = datetime(year=2017, month=1, day=27)\n",
        "print(f\"{today:%B %d %Y}\")           # 날짜 포맷 지정 지정자(specifier) 사용\n",
        "\n",
        "number = 1024\n",
        "print(f\"{number:#0x}\")          # 정수 포맷 지정자 사용 (16진수 표현)  #'0x'가 hexagonal number을 의미함"
      ]
    },
    {
      "cell_type": "markdown",
      "source": [
        "튜플은 쉼표로 구분된 값으로 이루어지는 불변 시퀀스 타입이다."
      ],
      "metadata": {
        "id": "7wnrG8tQbdV9"
      }
    },
    {
      "cell_type": "code",
      "source": [
        "# Tuples\n",
        "t1 = 1234, '안녕!'\n",
        "print(t1[0])\n",
        "print(t1)\n",
        "u = t1, (1,2,3,4,5)   # nested\n",
        "print(u)\n",
        "print(\"\\n\")\n",
        "\n",
        "empty = ()\n",
        "t1 = \"안녕\",       # 또는 ('안녕',)      # 값, 쉼표만 있어도 됨. 괄호없이.\n",
        "print(len(empty))\n",
        "print(len(t1)) \n",
        "print(t1)         # 튜플은 값과 쉼표를 사용해 생성(괄호 안에 쉼표 없이 값 하나만 넣으면 튜플 생성 안 됨.)\n",
        "t2 = (\"안녕\")\n",
        "print(t2)\n",
        "print(\"\\n\")\n",
        "\n",
        "t = 1, 5, 7, 8, 9, 4, 1, 4\n",
        "print(t.count(4))\n",
        "t = 1, 5, 7\n",
        "print(t.index(5))\n",
        "print(\"\\n\")\n",
        "\n",
        "## 튜플 언패킹\n",
        "# 왼쪽에 2개 이상의 변수를 사용하고, 한 변수 앞에 *이 붙으면, 오른쪽 값들 중 할당되고 남은 값들이 *연산자가 붙은 변수에 할당됨\n",
        "x, *y = (1,2,3,4)\n",
        "print(x)\n",
        "print(y)\n",
        "\n",
        "*x, y = (1,2,3,4)\n",
        "print(x)\n",
        "print(y)\n",
        "print('\\n')\n",
        "\n",
        "## 네임드 튜플\n",
        "import collections\n",
        "\n",
        "# 첫 번째 인수: 만들고자 하는 사용자 정의 튜플 데이터 타입의 이름\n",
        "# 두 번째 인수: 사용자 정의 튜플 각 항목을 지정하는 공백으로 구분된 문자열\n",
        "Person  = collections.namedtuple('Person', 'name age gender')\n",
        "# Person  = collections.namedtuple('Person', ['name', 'age', 'gender'])\n",
        "# Person  = collections.namedtuple('Person', ('name', 'age', 'gender'))\n",
        "p = Person('아스틴', 30, '남자')\n",
        "print(p)\n",
        "print(p[0])\n",
        "print(p.name)\n",
        "# print(p.age = 20)    # 에러: 일반 튜플과 마찬가지로 불변형임."
      ],
      "metadata": {
        "colab": {
          "base_uri": "https://localhost:8080/"
        },
        "id": "rX0RKSxQDxnY",
        "outputId": "d038fba0-0d43-4871-8617-f2034056bb8c"
      },
      "execution_count": null,
      "outputs": [
        {
          "output_type": "stream",
          "name": "stdout",
          "text": [
            "1234\n",
            "(1234, '안녕!')\n",
            "((1234, '안녕!'), (1, 2, 3, 4, 5))\n",
            "\n",
            "\n",
            "0\n",
            "1\n",
            "('안녕',)\n",
            "안녕\n",
            "\n",
            "\n",
            "2\n",
            "1\n",
            "\n",
            "\n",
            "1\n",
            "[2, 3, 4]\n",
            "[1, 2, 3]\n",
            "4\n",
            "\n",
            "\n",
            "Person(name='아스틴', age=30, gender='남자')\n",
            "아스틴\n",
            "아스틴\n"
          ]
        }
      ]
    },
    {
      "cell_type": "markdown",
      "source": [
        "불변 타입인 문자열과는 달리, 리스트는 가변 타입이다."
      ],
      "metadata": {
        "id": "HtjiiP4j26PN"
      }
    },
    {
      "cell_type": "code",
      "source": [
        "# List\n",
        "q = [2, 3]\n",
        "p = [1, q, 4]\n",
        "p[1].append(\"buffy\")\n",
        "print(p)\n",
        "print(q)  # 이것도 함께 변하는군.\n",
        "print('\\n')\n",
        "\n",
        "people = [\"Buffy\", \"Faith\"]\n",
        "people.append(\"Giles\")\n",
        "print(people)\n",
        "\n",
        "people[len(people):] = [\"Xander\"]\n",
        "print(people)\n",
        "print('\\n')\n",
        "\n",
        "people = [\"Buffy\", \"Faith\"]\n",
        "people.extend(\"Giles\")\n",
        "print(people)\n",
        "\n",
        "people += \"Willow\"\n",
        "print(people)\n",
        "\n",
        "people += [\"Xander\"]\n",
        "print(people)\n",
        "print(\"\\n\")\n",
        "\n",
        "people = [\"Buffy\", \"Faith\"]\n",
        "people.insert(1, \"Xander\")\n",
        "print(people)\n",
        "\n",
        "people = [\"Buffy\", \"Faith\"]\n",
        "people.remove(\"Buffy\")\n",
        "print(people)\n",
        "print(\"\\n\")\n",
        "\n",
        "people = [\"Buffy\", \"Faith\"]\n",
        "print(people.pop())  # 마지막 항목 반환\n",
        "print(people)\n",
        "print(\"\\n\")\n",
        "\n",
        "a = [-1, 4, 5, 7, 10]\n",
        "del a[0]\n",
        "print(a)\n",
        "\n",
        "del a[2:3]\n",
        "print(a)\n",
        "\n",
        "del a       # 변수 a 자체를 삭제함\n",
        "# print(a)\n",
        "print(\"\\n\")\n",
        "\n",
        "people = [\"버피\", \"페이스\"]\n",
        "print(people.index(\"버피\"))\n",
        "print(\"\\n\")\n",
        "\n",
        "people = [\"버피\", \"페이스\", \"버피\"]\n",
        "print(people.count(\"버피\"))\n",
        "print(\"\\n\")\n",
        "\n",
        "people = [\"젠더\", \"페이스\", \"버피\"]\n",
        "people.sort()\n",
        "print(people)\n",
        "\n",
        "people.sort(reverse=True)\n",
        "print(people)\n",
        "print(\"\\n\")\n",
        "\n",
        "people = [\"젠더\", \"페이스\", \"버피\"]\n",
        "people.reverse()\n",
        "print(people)\n",
        "print(people[::-1])\n",
        "print(\"\\n\")\n",
        "\n",
        "first, *rest = [1,2,3,4,5]\n",
        "print(first)\n",
        "print(rest)"
      ],
      "metadata": {
        "colab": {
          "base_uri": "https://localhost:8080/"
        },
        "id": "AUhrp_uMFkM7",
        "outputId": "40af0ed7-e673-4833-9ece-0d6d18ed4360"
      },
      "execution_count": 9,
      "outputs": [
        {
          "output_type": "stream",
          "name": "stdout",
          "text": [
            "[1, [2, 3, 'buffy'], 4]\n",
            "[2, 3, 'buffy']\n",
            "\n",
            "\n",
            "['Buffy', 'Faith', 'Giles']\n",
            "['Buffy', 'Faith', 'Giles', 'Xander']\n",
            "\n",
            "\n",
            "['Buffy', 'Faith', 'G', 'i', 'l', 'e', 's']\n",
            "['Buffy', 'Faith', 'G', 'i', 'l', 'e', 's', 'W', 'i', 'l', 'l', 'o', 'w']\n",
            "['Buffy', 'Faith', 'G', 'i', 'l', 'e', 's', 'W', 'i', 'l', 'l', 'o', 'w', 'Xander']\n",
            "\n",
            "\n",
            "['Buffy', 'Xander', 'Faith']\n",
            "['Faith']\n",
            "\n",
            "\n",
            "Faith\n",
            "['Buffy']\n",
            "\n",
            "\n",
            "[4, 5, 7, 10]\n",
            "[4, 5, 10]\n",
            "\n",
            "\n",
            "0\n",
            "\n",
            "\n",
            "2\n",
            "\n",
            "\n",
            "['버피', '젠더', '페이스']\n",
            "['페이스', '젠더', '버피']\n",
            "\n",
            "\n",
            "['버피', '페이스', '젠더']\n",
            "['젠더', '페이스', '버피']\n",
            "\n",
            "\n",
            "1\n",
            "[2, 3, 4, 5]\n"
          ]
        }
      ]
    },
    {
      "cell_type": "code",
      "source": [
        "# 날짜 정렬 코드\n",
        "import time\n",
        "timestamp = [\n",
        "             \"2018-12-12 01:17:31\",\n",
        "             \"2018-12-12 02:17:28\",\n",
        "             \"2018-12-12 06:39:26\",\n",
        "             \"2018-11-25 07:30:35\",\n",
        "             \"2018-11-25 11:32:33\",\n",
        "             \"2018-11-25 12:35:48\"]\n",
        "\n",
        "def time_format(t):\n",
        "    return time.strptime(t, '%Y-%m-%d %H:%M:%S')[0:6]\n",
        "\n",
        "\n",
        "timestamp.sort(key=time_format, reverse=True)       # 날짜를 최신순으로 정렬\n",
        "print(timestamp)\n",
        "\n",
        "timestamp.sort(key=lambda x: time.strptime(x, '%Y-%m-%d %H:%M:%S')[0:6], reverse=True)\n",
        "print(timestamp)"
      ],
      "metadata": {
        "colab": {
          "base_uri": "https://localhost:8080/"
        },
        "id": "ugw7AfdPxshK",
        "outputId": "bd3503c4-8553-4792-8505-58ecfbce64f2"
      },
      "execution_count": 40,
      "outputs": [
        {
          "output_type": "stream",
          "name": "stdout",
          "text": [
            "['2018-12-12 06:39:26', '2018-12-12 02:17:28', '2018-12-12 01:17:31', '2018-11-25 12:35:48', '2018-11-25 11:32:33', '2018-11-25 07:30:35']\n",
            "['2018-12-12 06:39:26', '2018-12-12 02:17:28', '2018-12-12 01:17:31', '2018-11-25 12:35:48', '2018-11-25 11:32:33', '2018-11-25 07:30:35']\n"
          ]
        }
      ]
    },
    {
      "cell_type": "code",
      "source": [
        "# 리스트 언패킹(함수의 전달 인수로 리스트에 별 인수를 사용할 수도 있음.)\n",
        "def example_args(a, b, c):\n",
        "    return a * b * c           # 여기에서 * 연산자는 곱셈이다.\n",
        "\n",
        "L = [2, 3, 4]\n",
        "print(example_args(*L))               # 리스트 언패킹\n",
        "print(example_args(2, *L[1:]))"
      ],
      "metadata": {
        "colab": {
          "base_uri": "https://localhost:8080/"
        },
        "id": "5gz4iS2BzAXX",
        "outputId": "7327f351-380e-4c25-866f-c07ac83cbc22"
      },
      "execution_count": 38,
      "outputs": [
        {
          "output_type": "stream",
          "name": "stdout",
          "text": [
            "24\n",
            "24\n"
          ]
        }
      ]
    },
    {
      "cell_type": "code",
      "source": [
        "# 리스트 컴프리헨션\n",
        "a = [y for y in range(1900, 1940) if y%4 == 0]\n",
        "print(a)\n",
        "\n",
        "b = [2**i for i in range(13)]\n",
        "print(b)\n",
        "\n",
        "c = [x for x in a if x%2==0]\n",
        "print(c)\n",
        "\n",
        "d = [str(round(355/113.0, i)) for i in range(1,6)]\n",
        "print(d)\n",
        "\n",
        "words = 'Buffy is awesome and a vampire slayer'.split()\n",
        "e = [[w.upper(), w.lower(), len(w)] for w in words]\n",
        "for i in e:\n",
        "    print(i)"
      ],
      "metadata": {
        "colab": {
          "base_uri": "https://localhost:8080/"
        },
        "id": "nKrPS4SnzfAi",
        "outputId": "4625617f-1d52-4279-e7a1-874d5aeb009c"
      },
      "execution_count": 39,
      "outputs": [
        {
          "output_type": "stream",
          "name": "stdout",
          "text": [
            "[1900, 1904, 1908, 1912, 1916, 1920, 1924, 1928, 1932, 1936]\n",
            "[1, 2, 4, 8, 16, 32, 64, 128, 256, 512, 1024, 2048, 4096]\n",
            "[1900, 1904, 1908, 1912, 1916, 1920, 1924, 1928, 1932, 1936]\n",
            "['3.1', '3.14', '3.142', '3.1416', '3.14159']\n",
            "['BUFFY', 'buffy', 5]\n",
            "['IS', 'is', 2]\n",
            "['AWESOME', 'awesome', 7]\n",
            "['AND', 'and', 3]\n",
            "['A', 'a', 1]\n",
            "['VAMPIRE', 'vampire', 7]\n",
            "['SLAYER', 'slayer', 6]\n"
          ]
        }
      ]
    },
    {
      "cell_type": "code",
      "source": [
        "def test1():\n",
        "    l = []\n",
        "    for i in range(1000):\n",
        "        l = l + [i]\n",
        "\n",
        "def test2():\n",
        "    l = []\n",
        "    for i in range(1000):\n",
        "        l.append(i)\n",
        "\n",
        "def test3():\n",
        "    l = [i for i in range(1000)]\n",
        "\n",
        "def test4():\n",
        "    l = list(range(1000))\n",
        "\n",
        "if __name__ == '__main__':\n",
        "    import timeit\n",
        "    t1 = timeit.Timer(\"test1()\", \"from __main__ import test1\")\n",
        "    print(\"concat \", t1.timeit(number=1000), \"milliseconds\")\n",
        "    t2 = timeit.Timer(\"test2()\", \"from __main__ import test2\")\n",
        "    print(\"append \", t2.timeit(number=1000), \"milliseconds\")\n",
        "    t3 = timeit.Timer(\"test3()\", \"from __main__ import test3\")\n",
        "    print(\"comprehension \", t3.timeit(number=1000), \"milliseconds\")\n",
        "    t4 = timeit.Timer(\"test4()\", \"from __main__ import test4\")\n",
        "    print(\"list range \", t4.timeit(number=1000), \"milliseconds\")"
      ],
      "metadata": {
        "colab": {
          "base_uri": "https://localhost:8080/"
        },
        "id": "MA8FdbzMQQcq",
        "outputId": "e5f8ec5c-4b91-4841-bf15-ffe4a3414e17"
      },
      "execution_count": null,
      "outputs": [
        {
          "output_type": "stream",
          "name": "stdout",
          "text": [
            "concat  0.9888642220012116 milliseconds\n",
            "append  0.12334141300016199 milliseconds\n",
            "comprehension  0.0708426840010361 milliseconds\n",
            "list range  0.02712866900037625 milliseconds\n"
          ]
        }
      ]
    },
    {
      "cell_type": "code",
      "source": [
        ""
      ],
      "metadata": {
        "id": "23MKE00GSa6O"
      },
      "execution_count": null,
      "outputs": []
    }
  ]
}