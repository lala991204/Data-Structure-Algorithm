{
  "nbformat": 4,
  "nbformat_minor": 0,
  "metadata": {
    "colab": {
      "name": "1.4_convert_from_decimal_larger_bases.ipynb",
      "provenance": [],
      "authorship_tag": "ABX9TyMYaMhsWnZbOiunYkcK4r9C",
      "include_colab_link": true
    },
    "kernelspec": {
      "name": "python3",
      "display_name": "Python 3"
    },
    "language_info": {
      "name": "python"
    }
  },
  "cells": [
    {
      "cell_type": "markdown",
      "metadata": {
        "id": "view-in-github",
        "colab_type": "text"
      },
      "source": [
        "<a href=\"https://colab.research.google.com/github/lala991204/Data-Structure-Algorithm/blob/master/1_4_convert_from_decimal_larger_bases.ipynb\" target=\"_parent\"><img src=\"https://colab.research.google.com/assets/colab-badge.svg\" alt=\"Open In Colab\"/></a>"
      ]
    },
    {
      "cell_type": "code",
      "execution_count": 2,
      "metadata": {
        "colab": {
          "base_uri": "https://localhost:8080/"
        },
        "id": "f_wYXtsuw2sB",
        "outputId": "d43d2af5-1b72-4215-c9dd-a823392e6d79"
      },
      "outputs": [
        {
          "output_type": "stream",
          "name": "stdout",
          "text": [
            "테스트 통과!\n"
          ]
        }
      ],
      "source": [
        "# \"base > 10\"인 경우 \"10이상의 숫자\"를 나타낼 때 문자 이용(A:10, B:11, C:12)\n",
        "# 10진법 수를 20이하의 진법으로 변환하는 함수\n",
        "def convert_from_decimal_larger_bases(number, base):\n",
        "    strings = \"0123456789ABCDEFGHIJ\"\n",
        "    result = \"\"\n",
        "    while number > 0:\n",
        "        digit = number % base\n",
        "        result = strings[digit] + result\n",
        "        number = number // base\n",
        "    return result\n",
        "\n",
        "def test_convert_from_decimal_larger_bases():\n",
        "    number, base = 31, 16\n",
        "    assert(convert_from_decimal_larger_bases(number, base) == \"1F\")\n",
        "    print(\"테스트 통과!\")\n",
        "\n",
        "if __name__ == \"__main__\":\n",
        "    test_convert_from_decimal_larger_bases()"
      ]
    },
    {
      "cell_type": "code",
      "source": [
        "strings = \"0123456789ABCDEFGHIJ\"\n",
        "result = \"\"\n",
        "result = strings[3] + result\n",
        "result"
      ],
      "metadata": {
        "colab": {
          "base_uri": "https://localhost:8080/",
          "height": 36
        },
        "id": "46g4CGWbx-g3",
        "outputId": "9a1411e5-ec06-426b-c84c-6a5e58cb14fe"
      },
      "execution_count": 3,
      "outputs": [
        {
          "output_type": "execute_result",
          "data": {
            "application/vnd.google.colaboratory.intrinsic+json": {
              "type": "string"
            },
            "text/plain": [
              "'3'"
            ]
          },
          "metadata": {},
          "execution_count": 3
        }
      ]
    },
    {
      "cell_type": "code",
      "source": [
        "strings[3]"
      ],
      "metadata": {
        "colab": {
          "base_uri": "https://localhost:8080/",
          "height": 36
        },
        "id": "hDqn-2nszNN8",
        "outputId": "9f10faaa-9459-4032-bdd8-6f006ac45c66"
      },
      "execution_count": 5,
      "outputs": [
        {
          "output_type": "execute_result",
          "data": {
            "application/vnd.google.colaboratory.intrinsic+json": {
              "type": "string"
            },
            "text/plain": [
              "'3'"
            ]
          },
          "metadata": {},
          "execution_count": 5
        }
      ]
    },
    {
      "cell_type": "code",
      "source": [
        "\"\" + '3'"
      ],
      "metadata": {
        "colab": {
          "base_uri": "https://localhost:8080/",
          "height": 36
        },
        "id": "AO5dBiKjzIyz",
        "outputId": "1fd9cee7-d9d7-4822-b8ca-980c2660f976"
      },
      "execution_count": 6,
      "outputs": [
        {
          "output_type": "execute_result",
          "data": {
            "application/vnd.google.colaboratory.intrinsic+json": {
              "type": "string"
            },
            "text/plain": [
              "'3'"
            ]
          },
          "metadata": {},
          "execution_count": 6
        }
      ]
    },
    {
      "cell_type": "code",
      "source": [
        "'F' + '3'"
      ],
      "metadata": {
        "colab": {
          "base_uri": "https://localhost:8080/",
          "height": 36
        },
        "id": "O8Lgj1FbzSe0",
        "outputId": "d7e0bfdb-57c3-4531-abe1-f7c3a45921e7"
      },
      "execution_count": 8,
      "outputs": [
        {
          "output_type": "execute_result",
          "data": {
            "application/vnd.google.colaboratory.intrinsic+json": {
              "type": "string"
            },
            "text/plain": [
              "'F3'"
            ]
          },
          "metadata": {},
          "execution_count": 8
        }
      ]
    },
    {
      "cell_type": "code",
      "source": [
        ""
      ],
      "metadata": {
        "id": "cwptsRcV0kDS"
      },
      "execution_count": null,
      "outputs": []
    }
  ]
}