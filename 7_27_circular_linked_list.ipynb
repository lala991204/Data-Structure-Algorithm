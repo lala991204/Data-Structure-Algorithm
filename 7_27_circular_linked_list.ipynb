{
  "nbformat": 4,
  "nbformat_minor": 0,
  "metadata": {
    "colab": {
      "name": "7.27_circular_linked_list.ipynb",
      "provenance": [],
      "collapsed_sections": [],
      "toc_visible": true,
      "mount_file_id": "1Zk9K6pkpHFr-P4LpWL9TYcpE0TVRSbDq",
      "authorship_tag": "ABX9TyNyh9TaMPYrNW26NOoH2Mt5",
      "include_colab_link": true
    },
    "kernelspec": {
      "name": "python3",
      "display_name": "Python 3"
    },
    "language_info": {
      "name": "python"
    }
  },
  "cells": [
    {
      "cell_type": "markdown",
      "metadata": {
        "id": "view-in-github",
        "colab_type": "text"
      },
      "source": [
        "<a href=\"https://colab.research.google.com/github/lala991204/Data-Structure-Algorithm/blob/master/7_27_circular_linked_list.ipynb\" target=\"_parent\"><img src=\"https://colab.research.google.com/assets/colab-badge.svg\" alt=\"Open In Colab\"/></a>"
      ]
    },
    {
      "cell_type": "code",
      "execution_count": null,
      "metadata": {
        "colab": {
          "base_uri": "https://localhost:8080/"
        },
        "id": "vtoZGeuSgtnn",
        "outputId": "9736d2ce-829c-43ae-890d-4aea5eb3acca"
      },
      "outputs": [
        {
          "output_type": "stream",
          "name": "stdout",
          "text": [
            "/content/drive/MyDrive/Colab Notebooks/github/Data Structure and Algorithm\n"
          ]
        }
      ],
      "source": [
        "%cd /content/drive/MyDrive/Colab Notebooks/github/Data Structure and Algorithm"
      ]
    },
    {
      "cell_type": "markdown",
      "source": [
        "head와 tail이 연결된 연결 리스트를 '원형 연결 리스트(circular linked list)'라 한다. 다음은 어떤 연결 리스트가 원형 연결 리스트인지 여부를 확인하는 함수이다.(두 포인터 사용)"
      ],
      "metadata": {
        "id": "8mfzJDvDk6jo"
      }
    },
    {
      "cell_type": "code",
      "source": [
        "from linkedlist_fifo_py import LinkedListFIFO\n",
        "from node_py import Node\n",
        "\n",
        "class CircularLinkedListFIFO(LinkedListFIFO):\n",
        "    def _add(self, value):\n",
        "        self.length += 1\n",
        "        node = Node(value, self.head)       # 새로 들어온 값을 Node(value, pointer)형태로 저장. 즉, 마지막 노드가 다시 첫 번째 노드를 가리키도록.\n",
        "        if self.tail:\n",
        "            self.tail.pointer = node          # tail과 head는 연결되어 있으므로.(새로 들어온 노드 입장에서는 이전 포인터가 되는 것임)\n",
        "        self.tail = node       # 새로 들어온 노드는 tail이  됨.(linkedlist_fifo는 tail쪽으로 채워지므로!)\n",
        "    \n",
        "\n",
        "def isCircularll(ll):\n",
        "    p1 = ll.head\n",
        "    p2 = ll.head\n",
        "\n",
        "    while p2:\n",
        "        try:\n",
        "            p1 = p1.pointer\n",
        "            p2 = p2.pointer.pointer\n",
        "        except:\n",
        "            break\n",
        "            \n",
        "        if p1 == p2:            # 원형 연결 리스트의 경우에는 head, tail를 각각 가리키면 '같은 곳을 가리킨다'고 해석됨\n",
        "            return True\n",
        "    return False\n",
        "    \n",
        "def test_isCircularll():\n",
        "    ll = LinkedListFIFO()\n",
        "    for i in range(10):\n",
        "        ll.addNode(i)\n",
        "    assert(isCircularll(ll) is False)\n",
        "\n",
        "    lcirc = CircularLinkedListFIFO()\n",
        "    for i in range(10):\n",
        "        lcirc.addNode(i)\n",
        "    assert(isCircularll(lcirc) is True)\n",
        "\n",
        "    print(\"테스트 통과!\")\n",
        "\n",
        "\n",
        "if __name__ == \"__main__\":\n",
        "    test_isCircularll()"
      ],
      "metadata": {
        "colab": {
          "base_uri": "https://localhost:8080/"
        },
        "id": "R8u8Qv9yg3wL",
        "outputId": "d7031586-fe50-4d92-9891-0cd1ed8c0f46"
      },
      "execution_count": null,
      "outputs": [
        {
          "output_type": "stream",
          "name": "stdout",
          "text": [
            "테스트 통과!\n"
          ]
        }
      ]
    },
    {
      "cell_type": "code",
      "source": [
        ""
      ],
      "metadata": {
        "id": "3HyePj7qhyOj"
      },
      "execution_count": null,
      "outputs": []
    }
  ]
}