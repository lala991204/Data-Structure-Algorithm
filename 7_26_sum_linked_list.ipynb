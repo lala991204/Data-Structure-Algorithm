{
  "nbformat": 4,
  "nbformat_minor": 0,
  "metadata": {
    "colab": {
      "name": "7.26_sum_linked_list.ipynb",
      "provenance": [],
      "collapsed_sections": [],
      "toc_visible": true,
      "mount_file_id": "1wP-Zhjd1Mca3MbAI380bWoMsVCriXGhO",
      "authorship_tag": "ABX9TyP9UxzNtD6bBD9C61Xcg1rP",
      "include_colab_link": true
    },
    "kernelspec": {
      "name": "python3",
      "display_name": "Python 3"
    },
    "language_info": {
      "name": "python"
    }
  },
  "cells": [
    {
      "cell_type": "markdown",
      "metadata": {
        "id": "view-in-github",
        "colab_type": "text"
      },
      "source": [
        "<a href=\"https://colab.research.google.com/github/lala991204/Data-Structure-Algorithm/blob/master/7_26_sum_linked_list.ipynb\" target=\"_parent\"><img src=\"https://colab.research.google.com/assets/colab-badge.svg\" alt=\"Open In Colab\"/></a>"
      ]
    },
    {
      "cell_type": "code",
      "execution_count": null,
      "metadata": {
        "colab": {
          "base_uri": "https://localhost:8080/"
        },
        "id": "Wz_3h2RndznF",
        "outputId": "d9a761d9-c30f-474d-c350-6c23f8eb055f"
      },
      "outputs": [
        {
          "output_type": "stream",
          "name": "stdout",
          "text": [
            "/content/drive/MyDrive/Colab Notebooks/github/Data Structure and Algorithm\n"
          ]
        }
      ],
      "source": [
        "%cd /content/drive/MyDrive/Colab Notebooks/github/Data Structure and Algorithm"
      ]
    },
    {
      "cell_type": "markdown",
      "source": [
        "연결 리스트의 각 항목(원소)은 양의 정수라고 가정한다. 예를 들어, 한 연결리스트에 순서대로 1,7,6,2가 추가되었다면, 이 연결리스트의 숫자는 2671이다. 다음은 두 연결 리스트의 숫자를 더하여 숫자 결과를 출력하는 코드를 작성해보자."
      ],
      "metadata": {
        "id": "hEN__I81kirT"
      }
    },
    {
      "cell_type": "code",
      "source": [
        "from linkedlist_fifo_py import LinkedListFIFO\n",
        "from node_py import Node\n",
        "\n",
        "class LinkedListFIFOYield(LinkedListFIFO):     # linkedlistfifo는 head쪽부터 채워짐\n",
        "    def _printList(self):\n",
        "        node = self.head         # head부터 (FIFO이므로!)\n",
        "        while node:\n",
        "            yield node.value     # 값을 하나씩 도출\n",
        "            node = node.pointer\n",
        "\n",
        "def sumlls(l1, l2):\n",
        "    lsum = LinkedListFIFOYield()\n",
        "    dig1 = l1.head       # 각각의 일의 자리 수부터 더함.\n",
        "    dig2 = l2.head\n",
        "    pointer = 0\n",
        "\n",
        "    while dig1 and dig2:\n",
        "        d1 = dig1.value\n",
        "        d2 = dig2.value\n",
        "        sum_d = d1 + d2 + pointer\n",
        "        if sum_d > 9:\n",
        "            pointer = sum_d // 10    # 이전 덧셈이 10 이상이면 다음 계산 때 pointer 값이 1씩 늘어남.(ex:덧셈할 때 10 넘으면 1씩 더해지는 원리!)\n",
        "            lsum.addNode(sum_d % 10)   # 저장될 때는 십의 자리 수는 제외하고 저장.\n",
        "        else:\n",
        "            lsum.addNode(sum_d)\n",
        "            pointer = 0\n",
        "\n",
        "        dig1 = dig1.pointer\n",
        "        dig2 = dig2.pointer\n",
        "\n",
        "\n",
        "    if dig1:         # dig1이 자리 수가 더 많으면 남아 있는 부분 마저 계산함\n",
        "        sum_d = pointer + dig1.value\n",
        "        if sum_d > 9:\n",
        "            lsum.addNode(sum_d % 10)\n",
        "        else:\n",
        "            lsum.addNode(sum_d)\n",
        "        dig1 = dig1.pointer\n",
        "\n",
        "    if dig2:         # dig2가 자리 수가 더 많으면 남아 있는 부분 마저 계산함\n",
        "        sum_d = pointer + dig2.value\n",
        "        if sum_d > 9:\n",
        "            lsum.addNode(sum_d % 10)\n",
        "        else:\n",
        "            lsum.addNode(sum_d)\n",
        "        dig2 = dig2.pointer\n",
        "\n",
        "    return lsum\n",
        "\n",
        "\n",
        "if __name__ == \"__main__\":\n",
        "    l1 = LinkedListFIFOYield()      # 2671\n",
        "    l1.addNode(1)\n",
        "    l1.addNode(7)\n",
        "    l1.addNode(6)\n",
        "    l1.addNode(2)\n",
        "\n",
        "    l2 = LinkedListFIFOYield()    # 455\n",
        "    l2.addNode(5)\n",
        "    l2.addNode(5)\n",
        "    l2.addNode(4) \n",
        "\n",
        "    lsum = sumlls(l1, l2)\n",
        "    l = list(lsum._printList()) \n",
        "    for i in reversed(l):\n",
        "        print(i, end=\"\")        # 나란히 출력되도록\n",
        "    print()"
      ],
      "metadata": {
        "colab": {
          "base_uri": "https://localhost:8080/"
        },
        "id": "vNyMU5gEejs3",
        "outputId": "55a54acf-0c6c-44bb-fd58-d78a505ec340"
      },
      "execution_count": null,
      "outputs": [
        {
          "output_type": "stream",
          "name": "stdout",
          "text": [
            "3126\n"
          ]
        }
      ]
    },
    {
      "cell_type": "markdown",
      "source": [
        "참고: 메모리 효율 측면에서도 이 두가지 방식은 큰 차이를 보인다. return은 모든 결과 값을 메모리에 올려놓아야 하는 반면에, yield는 결과 값을 하나씩 메모리에 올려놓습니다."
      ],
      "metadata": {
        "id": "kkARmNCdm9yZ"
      }
    },
    {
      "cell_type": "code",
      "source": [
        ""
      ],
      "metadata": {
        "id": "-jk_5DlUgJ__"
      },
      "execution_count": null,
      "outputs": []
    }
  ]
}