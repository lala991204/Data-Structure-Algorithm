{
  "nbformat": 4,
  "nbformat_minor": 0,
  "metadata": {
    "colab": {
      "name": "7.12_hash_table.ipynb",
      "provenance": [],
      "collapsed_sections": [],
      "mount_file_id": "1p-zPEEN1HIq-eg6Tw-gpKnJ31jTQiDt0",
      "authorship_tag": "ABX9TyO0DoFxzZSh/DY1hfdkesyW",
      "include_colab_link": true
    },
    "kernelspec": {
      "name": "python3",
      "display_name": "Python 3"
    },
    "language_info": {
      "name": "python"
    }
  },
  "cells": [
    {
      "cell_type": "markdown",
      "metadata": {
        "id": "view-in-github",
        "colab_type": "text"
      },
      "source": [
        "<a href=\"https://colab.research.google.com/github/lala991204/Data-Structure-Algorithm/blob/master/7_12_hash_table.ipynb\" target=\"_parent\"><img src=\"https://colab.research.google.com/assets/colab-badge.svg\" alt=\"Open In Colab\"/></a>"
      ]
    },
    {
      "cell_type": "code",
      "execution_count": null,
      "metadata": {
        "colab": {
          "base_uri": "https://localhost:8080/"
        },
        "id": "56HKkwgZ-RTW",
        "outputId": "b3797fba-9335-4c4a-d92f-72e57cb3b65f"
      },
      "outputs": [
        {
          "output_type": "stream",
          "name": "stdout",
          "text": [
            "/content/drive/MyDrive/Colab Notebooks/github/Data Structure and Algorithm\n"
          ]
        }
      ],
      "source": [
        "%cd /content/drive/MyDrive/Colab Notebooks/github/Data Structure and Algorithm"
      ]
    },
    {
      "cell_type": "markdown",
      "source": [
        "hash table은 key를 value에 연결하여 하나의 key가 0 또는 1개의 값과 연관됨.\n",
        "각 key는 hash function을 계산할 수 있어야함."
      ],
      "metadata": {
        "id": "PmiiQt08GidK"
      }
    },
    {
      "cell_type": "markdown",
      "source": [
        "hash table은 hash bucket의 배열로 구성되는데, 예를 들어 해시 값이 42이고 5개의 버킷이 있을 때 나머지 연산(mod)을 이용하여 버킷 2(=42 mod 5)에 매핑함."
      ],
      "metadata": {
        "id": "5OakSQypHQjh"
      }
    },
    {
      "cell_type": "markdown",
      "source": [
        "두 개의 키가 동일한 bucket에 hash될 때, 문제가 발생하는데 이를 hash collision이라 함. 이를 처리하는 방법 중 하나는 각 bucket에 대해 key-value 쌍의 연결 리스트를 저장하는 것임."
      ],
      "metadata": {
        "id": "KeXJQQrcHe4v"
      }
    },
    {
      "cell_type": "code",
      "source": [
        "from linkedlist_fifo_py import LinkedListFIFO\n",
        "\n",
        "class HashTableLL(object):\n",
        "    def __init__(self, size):\n",
        "        self.size = size       # the number of bucket\n",
        "        self.slots = []\n",
        "        self._createHashTable()\n",
        "\n",
        "    def _createHashTable(self):\n",
        "        for i in range(self.size):\n",
        "            self.slots.append(LinkedListFIFO())\n",
        "    \n",
        "    def _find(self, item):\n",
        "        return item % self.size   # (hash value) mod (the number of bucket) => mapping on bucket\n",
        "\n",
        "    def _add(self, item):\n",
        "        index = self._find(item)        # 해당 value에 대응되는 bucket 찾은 후,\n",
        "        self.slots[index].addNode(item)           # 그 bucket에서 해당 value를 추가함.\n",
        "\n",
        "    def _delete(self, item):\n",
        "        index = self._find(item)      # 해당 value에 대응되는 bucket를 찾은 후,\n",
        "        self.slots[index].deleteNodeByValue(item)      # 그 bucket에서 해당 value를 제거함.\n",
        "\n",
        "    def _print(self):\n",
        "        for i in range(self.size):    # bucket 수만큼 해당 bucket에 들어있는 values 출력.\n",
        "            print(\"슬롯(slot) {0}:\".format(i))\n",
        "            self.slots[i]._printList()\n",
        "\n",
        "\n",
        "def test_hash_tables():\n",
        "    H1 = HashTableLL(3)     # size = 3\n",
        "    for i in range(0, 20):  # 0~19까지 수를 넣음.\n",
        "        H1._add(i)\n",
        "    H1._print()     # slot 0: 나머지 0, slot 1: 나머지 1, slot 2: 나머지 2\n",
        "    print(\"\\n항목 0,1,2를 삭제합니다.\")\n",
        "    H1._delete(0)\n",
        "    H1._delete(1)\n",
        "    H1._delete(2)\n",
        "    H1._print()\n",
        "\n",
        "if __name__ == \"__main__\":\n",
        "    test_hash_tables()"
      ],
      "metadata": {
        "colab": {
          "base_uri": "https://localhost:8080/"
        },
        "id": "hofHtWdH_e_k",
        "outputId": "407ffb6d-9125-41fc-a1cd-0634116cb8de"
      },
      "execution_count": null,
      "outputs": [
        {
          "output_type": "stream",
          "name": "stdout",
          "text": [
            "슬롯(slot) 0:\n",
            "0 3 6 9 12 15 18 \n",
            "슬롯(slot) 1:\n",
            "1 4 7 10 13 16 19 \n",
            "슬롯(slot) 2:\n",
            "2 5 8 11 14 17 \n",
            "\n",
            "항목 0,1,2를 삭제합니다.\n",
            "슬롯(slot) 0:\n",
            "3 6 9 12 15 18 \n",
            "슬롯(slot) 1:\n",
            "4 7 10 13 16 19 \n",
            "슬롯(slot) 2:\n",
            "5 8 11 14 17 \n"
          ]
        }
      ]
    },
    {
      "cell_type": "code",
      "source": [
        ""
      ],
      "metadata": {
        "id": "HIE9g18vAx6X"
      },
      "execution_count": null,
      "outputs": []
    }
  ]
}