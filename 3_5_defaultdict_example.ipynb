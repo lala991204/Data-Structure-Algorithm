{
  "nbformat": 4,
  "nbformat_minor": 0,
  "metadata": {
    "colab": {
      "name": "3.5_defaultdict_example.ipynb",
      "provenance": [],
      "collapsed_sections": [],
      "authorship_tag": "ABX9TyMnETKzxYzqp59YElDoenJl",
      "include_colab_link": true
    },
    "kernelspec": {
      "name": "python3",
      "display_name": "Python 3"
    },
    "language_info": {
      "name": "python"
    }
  },
  "cells": [
    {
      "cell_type": "markdown",
      "metadata": {
        "id": "view-in-github",
        "colab_type": "text"
      },
      "source": [
        "<a href=\"https://colab.research.google.com/github/lala991204/Data-Structure-Algorithm/blob/master/3_5_defaultdict_example.ipynb\" target=\"_parent\"><img src=\"https://colab.research.google.com/assets/colab-badge.svg\" alt=\"Open In Colab\"/></a>"
      ]
    },
    {
      "cell_type": "code",
      "execution_count": 4,
      "metadata": {
        "colab": {
          "base_uri": "https://localhost:8080/"
        },
        "id": "4zB3gRUwfWNL",
        "outputId": "c906b0ed-b7e8-43c7-b916-a6e41ed64cda"
      },
      "outputs": [
        {
          "output_type": "stream",
          "name": "stdout",
          "text": [
            "a hello\n",
            "b world\n",
            "c !\n",
            "\n",
            "hello\n",
            "hello\n"
          ]
        }
      ],
      "source": [
        "## 딕셔너리 순회\n",
        "d = dict(c = \"!\", b = \"world\", a = \"hello\")\n",
        "for key in sorted(d.keys()):\n",
        "    print(key, d[key])\n",
        "print()\n",
        "\n",
        "\n",
        "## 딕셔너리 분기\n",
        "def hello():\n",
        "    print(\"hello\")\n",
        "\n",
        "def world():\n",
        "    print(\"world\")\n",
        "\n",
        "action = \"h\"\n",
        "if action == \"h\":\n",
        "    hello()\n",
        "elif action == \"w\":\n",
        "    world()\n",
        "\n",
        "functions = dict(h=hello, w=world)       # 효율적\n",
        "functions[action]()"
      ]
    },
    {
      "cell_type": "code",
      "source": [
        "from collections import defaultdict\n",
        "\n",
        "def defaultdict_example():\n",
        "    pairs = {(\"a\", 1), (\"b\", 2), (\"c\", 3)}\n",
        "\n",
        "    # 일반 딕셔너리\n",
        "    d1 = {}\n",
        "    for key, value in pairs:\n",
        "        if key not in d1:\n",
        "            d1[key] = []\n",
        "        d1[key].append(value)\n",
        "    print(d1)\n",
        "\n",
        "    # defaultdict\n",
        "    d2 = defaultdict(list)\n",
        "    for key, value in pairs:\n",
        "        d2[key].append(value)\n",
        "    print(d2)\n",
        "\n",
        "if __name__ == \"__main__\":\n",
        "    defaultdict_example()"
      ],
      "metadata": {
        "colab": {
          "base_uri": "https://localhost:8080/"
        },
        "id": "hVeu0cQjf4sf",
        "outputId": "022ec564-4cf9-4b4f-941f-56447e6ae626"
      },
      "execution_count": 5,
      "outputs": [
        {
          "output_type": "stream",
          "name": "stdout",
          "text": [
            "{'c': [3], 'a': [1], 'b': [2]}\n",
            "defaultdict(<class 'list'>, {'c': [3], 'a': [1], 'b': [2]})\n"
          ]
        }
      ]
    },
    {
      "cell_type": "code",
      "source": [
        ""
      ],
      "metadata": {
        "id": "KUiQwHYoheyB"
      },
      "execution_count": null,
      "outputs": []
    }
  ]
}