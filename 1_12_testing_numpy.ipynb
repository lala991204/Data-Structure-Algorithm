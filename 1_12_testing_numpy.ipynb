{
  "nbformat": 4,
  "nbformat_minor": 0,
  "metadata": {
    "colab": {
      "name": "1.12_testing_numpy.ipynb",
      "provenance": [],
      "collapsed_sections": [],
      "authorship_tag": "ABX9TyN8WvTbDHsWNZdjMvHahEZL",
      "include_colab_link": true
    },
    "kernelspec": {
      "name": "python3",
      "display_name": "Python 3"
    },
    "language_info": {
      "name": "python"
    }
  },
  "cells": [
    {
      "cell_type": "markdown",
      "metadata": {
        "id": "view-in-github",
        "colab_type": "text"
      },
      "source": [
        "<a href=\"https://colab.research.google.com/github/lala991204/Data-Structure-Algorithm/blob/master/1_12_testing_numpy.ipynb\" target=\"_parent\"><img src=\"https://colab.research.google.com/assets/colab-badge.svg\" alt=\"Open In Colab\"/></a>"
      ]
    },
    {
      "cell_type": "code",
      "execution_count": 1,
      "metadata": {
        "colab": {
          "base_uri": "https://localhost:8080/"
        },
        "id": "8osF5-gaoIAt",
        "outputId": "3186bf5c-c8ef-4a28-bbdb-790282825c7f"
      },
      "outputs": [
        {
          "output_type": "stream",
          "name": "stdout",
          "text": [
            "[1 2 3]\n",
            "[2 4 6]\n",
            "[11 12 13]\n",
            "[1.         1.41421356 1.73205081]\n",
            "[ 0.54030231 -0.41614684 -0.9899925 ]\n",
            "[-2 -2 -2]\n",
            "[ 1 10 10]\n",
            "[[1 2 3]\n",
            " [3 4 5]\n",
            " [1 2 3]]\n",
            "[[1 3 1]\n",
            " [2 4 2]\n",
            " [3 5 3]]\n",
            "[[0. 0. 0. 0. 0. 0. 0. 0. 0. 0.]\n",
            " [0. 0. 0. 0. 0. 0. 0. 0. 0. 0.]\n",
            " [0. 0. 0. 0. 0. 0. 0. 0. 0. 0.]\n",
            " [0. 0. 0. 0. 0. 0. 0. 0. 0. 0.]\n",
            " [0. 0. 0. 0. 0. 0. 0. 0. 0. 0.]\n",
            " [0. 0. 0. 0. 0. 0. 0. 0. 0. 0.]\n",
            " [0. 0. 0. 0. 0. 0. 0. 0. 0. 0.]\n",
            " [0. 0. 0. 0. 0. 0. 0. 0. 0. 0.]\n",
            " [0. 0. 0. 0. 0. 0. 0. 0. 0. 0.]\n",
            " [0. 0. 0. 0. 0. 0. 0. 0. 0. 0.]]\n",
            "[[1. 1. 1. 1. 1. 1. 1. 1. 1. 1.]\n",
            " [1. 1. 1. 1. 1. 1. 1. 1. 1. 1.]\n",
            " [1. 1. 1. 1. 1. 1. 1. 1. 1. 1.]\n",
            " [1. 1. 1. 1. 1. 1. 1. 1. 1. 1.]\n",
            " [1. 1. 1. 1. 1. 1. 1. 1. 1. 1.]\n",
            " [1. 1. 1. 1. 1. 1. 1. 1. 1. 1.]\n",
            " [1. 1. 1. 1. 1. 1. 1. 1. 1. 1.]\n",
            " [1. 1. 1. 1. 1. 1. 1. 1. 1. 1.]\n",
            " [1. 1. 1. 1. 1. 1. 1. 1. 1. 1.]\n",
            " [1. 1. 1. 1. 1. 1. 1. 1. 1. 1.]]\n",
            "[10. 10. 10. 10. 10. 10. 10. 10. 10. 10.]\n",
            "[2. 2. 2. 2. 2. 2. 2. 2. 2. 2.]\n"
          ]
        }
      ],
      "source": [
        "import numpy as np\n",
        "\n",
        "def testing_numpy():\n",
        "    '''tests many features of numpy '''\n",
        "    ax = np.array([1,2,3])\n",
        "    ay = np.array([3,4,5])\n",
        "    print(ax)\n",
        "    print(ax*2)\n",
        "    print(ax+10)\n",
        "    print(np.sqrt(ax))\n",
        "    print(np.cos(ax))\n",
        "    print(ax - ay)\n",
        "    print(np.where(ax<2, ax, 10))    # ax의 원소가 2보다 작으면 원소 그대로 반환, 2보다 크거나 같으면 10을 반환.\n",
        "\n",
        "    m = np.matrix([ax, ay, ax])\n",
        "    print(m)\n",
        "    print(m.T)\n",
        "\n",
        "    grid1 = np.zeros(shape=(10,10), dtype=float)\n",
        "    grid2 = np.ones(shape=(10,10), dtype=float)\n",
        "    print(grid1)\n",
        "    print(grid2)\n",
        "    print(grid1[1] + 10)\n",
        "    print(grid2[:,2]*2)\n",
        "\n",
        "if __name__ == \"__main__\":\n",
        "    testing_numpy()"
      ]
    },
    {
      "cell_type": "code",
      "source": [
        ""
      ],
      "metadata": {
        "id": "fC7Wa0PypJQn"
      },
      "execution_count": null,
      "outputs": []
    }
  ]
}