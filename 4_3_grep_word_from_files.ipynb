{
  "nbformat": 4,
  "nbformat_minor": 0,
  "metadata": {
    "colab": {
      "name": "4.3_grep_word_from_files.ipynb",
      "provenance": [],
      "collapsed_sections": [],
      "authorship_tag": "ABX9TyO2epX1y+xrOwi+tOUVOOU4",
      "include_colab_link": true
    },
    "kernelspec": {
      "name": "python3",
      "display_name": "Python 3"
    },
    "language_info": {
      "name": "python"
    }
  },
  "cells": [
    {
      "cell_type": "markdown",
      "metadata": {
        "id": "view-in-github",
        "colab_type": "text"
      },
      "source": [
        "<a href=\"https://colab.research.google.com/github/lala991204/Data-Structure-Algorithm/blob/master/4_3_grep_word_from_files.ipynb\" target=\"_parent\"><img src=\"https://colab.research.google.com/assets/colab-badge.svg\" alt=\"Open In Colab\"/></a>"
      ]
    },
    {
      "cell_type": "code",
      "execution_count": null,
      "metadata": {
        "colab": {
          "base_uri": "https://localhost:8080/"
        },
        "id": "Luh3KDFaylNs",
        "outputId": "5aab1d84-1561-44f3-d1ae-b63acc24072b"
      },
      "outputs": [
        {
          "output_type": "stream",
          "name": "stdout",
          "text": [
            "0\n",
            "1\n",
            "2\n",
            "3\n",
            "--------------------\n",
            "1\n",
            "3\n",
            "5\n",
            "7\n",
            "9\n",
            "for문 종료!\n"
          ]
        }
      ],
      "source": [
        "for i in range(10):\n",
        "    if i == 4:\n",
        "        break\n",
        "    print(i)\n",
        "else:\n",
        "    print(\"for문 종료!\")      # break를 만나면 이를 출력하지 못함. for문을 완전히 빠져나가므로.\n",
        "\n",
        "print(\"-\"*20)\n",
        "\n",
        "for i in range(10):\n",
        "    if i % 2 == 0:\n",
        "        continue         # 반복문 계속 진행.\n",
        "    print(i)\n",
        "else:\n",
        "    print(\"for문 종료!\")      # 반복할 게 없으면 이를 출력함."
      ]
    },
    {
      "cell_type": "code",
      "source": [
        "import sys\n",
        "def grep_word_from_files():\n",
        "    word = sys.argv[1]\n",
        "    for filename in sys.argv[2:]:\n",
        "        with open(filename) as file:\n",
        "            for lino, line in enumerate(file, start=1):\n",
        "                if word in line:\n",
        "                    print(\"{0}:{1}:{2:.40}\".format(filename, lino, line.rstrip()))\n",
        "\n",
        "if __name__ == \"__main__\":\n",
        "    if len(sys.argv) < 2:\n",
        "        print(\"Usage: python {0} [word] [file ...]\".format(sys.argv[0]))\n",
        "        sys.exit()\n",
        "    else:\n",
        "        grep_word_from_files()"
      ],
      "metadata": {
        "id": "dtvHyPy3y_CL"
      },
      "execution_count": 21,
      "outputs": []
    }
  ]
}