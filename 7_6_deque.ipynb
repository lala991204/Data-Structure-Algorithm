{
  "nbformat": 4,
  "nbformat_minor": 0,
  "metadata": {
    "colab": {
      "name": "7.6_deque.ipynb",
      "provenance": [],
      "collapsed_sections": [],
      "toc_visible": true,
      "mount_file_id": "1lWTZ1QZCRYjCw9xXtrycx1HTZKpwcMvc",
      "authorship_tag": "ABX9TyMfd4ktr/28rF1FrGwWUWdb",
      "include_colab_link": true
    },
    "kernelspec": {
      "name": "python3",
      "display_name": "Python 3"
    },
    "language_info": {
      "name": "python"
    }
  },
  "cells": [
    {
      "cell_type": "markdown",
      "metadata": {
        "id": "view-in-github",
        "colab_type": "text"
      },
      "source": [
        "<a href=\"https://colab.research.google.com/github/lala991204/Data-Structure-Algorithm/blob/master/7_6_deque.ipynb\" target=\"_parent\"><img src=\"https://colab.research.google.com/assets/colab-badge.svg\" alt=\"Open In Colab\"/></a>"
      ]
    },
    {
      "cell_type": "markdown",
      "source": [
        "import할 파일을 만든 후 '.py'로 다운로드한 파일을 같은 폴더에 저장한다.\n",
        "'.py'파일 import 시에는 먼저, 드라이브 마운트 시킨다."
      ],
      "metadata": {
        "id": "6hF8Kf9Dh-dL"
      }
    },
    {
      "cell_type": "code",
      "source": [
        "!pwd      # 현재 colab의 위치"
      ],
      "metadata": {
        "colab": {
          "base_uri": "https://localhost:8080/"
        },
        "id": "luOPNez7cDLK",
        "outputId": "df02db8d-97c6-49ed-80e3-92847effb65c"
      },
      "execution_count": null,
      "outputs": [
        {
          "output_type": "stream",
          "name": "stdout",
          "text": [
            "/content/drive/My Drive/Colab Notebooks/github/Data Structure and Algorithm\n"
          ]
        }
      ]
    },
    {
      "cell_type": "code",
      "source": [
        "# colab의 위치를 현재 작업하는 폴더로 이동\n",
        "%cd /content/drive/MyDrive/Colab Notebooks/github/Data Structure and Algorithm"
      ],
      "metadata": {
        "colab": {
          "base_uri": "https://localhost:8080/"
        },
        "id": "kp7-VNUycDHm",
        "outputId": "09144cba-0185-4b19-c647-561b4c41d384"
      },
      "execution_count": null,
      "outputs": [
        {
          "output_type": "stream",
          "name": "stdout",
          "text": [
            "/content/drive/MyDrive/Colab Notebooks/github/Data Structure and Algorithm\n"
          ]
        }
      ]
    },
    {
      "cell_type": "code",
      "source": [
        "!pwd"
      ],
      "metadata": {
        "colab": {
          "base_uri": "https://localhost:8080/"
        },
        "id": "b-DCDiTLcnqz",
        "outputId": "eb91b268-f1f5-4652-fb23-64f443a575b5"
      },
      "execution_count": 120,
      "outputs": [
        {
          "output_type": "stream",
          "name": "stdout",
          "text": [
            "/content/drive/MyDrive/Colab Notebooks/github/Data Structure and Algorithm\n"
          ]
        }
      ]
    },
    {
      "cell_type": "code",
      "source": [
        "!ls     # 현재 위치에 존재하는 파일들 확인 가능 "
      ],
      "metadata": {
        "colab": {
          "base_uri": "https://localhost:8080/"
        },
        "id": "cvinpnWycq-p",
        "outputId": "c33d99c8-b420-4de3-9663-d2b0cc4b7184"
      },
      "execution_count": 121,
      "outputs": [
        {
          "output_type": "stream",
          "name": "stdout",
          "text": [
            "1.10_finding_prime.ipynb\n",
            "1.11_generate_prime.ipynb\n",
            "1.12_testing_numpy.ipynb\n",
            "1.13_testing_numpy_speed.ipynb\n",
            "1.1_testing_floats.ipynb\n",
            "1.2_convert_to_decimal.ipynb\n",
            "1.3_convert_from_decimal.ipynb\n",
            "1.4_convert_from_decimal_larger_bases.ipynb\n",
            "1.5_convert_dec_to_any_base_rec.ipynb\n",
            "1.6_finding_gcd.ipynb\n",
            "1.7_testing_random.ipynb\n",
            "1.8_find_fibonacci_seq.ipynb\n",
            "1.9_find_fibonacci_by_generator.ipynb\n",
            "2.10_combination.ipynb\n",
            "2.11_palindrome.ipynb\n",
            "2.1_count_unique_words.ipynb\n",
            "2.2_runtime_lists_with_timeit_module.ipynb\n",
            "2.3_reversing_string.ipynb\n",
            "2.4_reversing_words.ipynb\n",
            "2.5_reversing_words.ipynb\n",
            "2.6_reversing_words.ipynb\n",
            "2.7_reversing_words.ipynb\n",
            "2.8_simple_str_compression.ipynb\n",
            "2.9_permutation.ipynb\n",
            "3.10_is_anagram_using_ord.ipynb\n",
            "3.11_find_dice_probabilities.ipynb\n",
            "3.12_delete_duplicate_char_str.ipynb\n",
            "3.1_set_operations_with_lists.ipynb\n",
            "3.2_set_operations_with_dicts.ipynb\n",
            "3.3_setdefault_example.ipynb\n",
            "3.4_runtime_dicts_with_timeit_module.ipynb\n",
            "3.5_defaultdict_example.ipynb\n",
            "3.6_orderedDict_example.ipynb\n",
            "3.7_counterDict_example.ipynb\n",
            "3.8_find_top_N_recurring_words.ipynb\n",
            "3.9_is_anagram.ipynb\n",
            "4.1_sys_example.ipynb\n",
            "4.2_fib_generator.ipynb\n",
            "4.3_grep_word_from_files.ipynb\n",
            "4.4_remove_blank_lines.ipynb\n",
            "4.5_remove_blank_lines_with.ipynb\n",
            "4.6_change_ext_file.ipynb\n",
            "5.1_hash_and_eq_NO.ipynb\n",
            "5.2_hash_and_eq_NO.ipynb\n",
            "5.3_hash_and_eq_OK.ipynb\n",
            "5.4_benchmark_decorator.ipynb\n",
            "5.5_class_and_static_decorator.ipynb\n",
            "5.6_observer_pattern_with_set.ipynb\n",
            "5.7_observer_pattern_with_dict.ipynb\n",
            "5.8_observer_pattern_with_event.ipynb\n",
            "6.1_threading_with_queue.ipynb\n",
            "6.2_threading_mutex.ipynb\n",
            "6.3_threading_semaphore.ipynb\n",
            "6.4_threading_with_condition.ipynb\n",
            "6.5_using_time_module.ipynb\n",
            "6.6_doctest_factorial.ipynb\n",
            "7.1_stack.ipynb\n",
            "7.2_stack_with_node.ipynb\n",
            "7.3_queue.ipynb\n",
            "7.4_queue_from_two_stacks.ipynb\n",
            "7.5_linked_queue.ipynb\n",
            "7.6_deque.ipynb\n",
            "__pycache__\n",
            "queue.py\n",
            "queue_py.py\n",
            "stack.py\n",
            "stack_py.py\n"
          ]
        }
      ]
    },
    {
      "cell_type": "code",
      "execution_count": null,
      "metadata": {
        "colab": {
          "base_uri": "https://localhost:8080/"
        },
        "id": "jj-rD7EDRa1d",
        "outputId": "458e757f-7579-41a0-de34-9e69a8820643"
      },
      "outputs": [
        {
          "output_type": "stream",
          "name": "stdout",
          "text": [
            "데크(Deque)가 비었나요? True\n",
            "데크에 숫자 0~9를 추가합니다.\n",
            "데크 크기: 10\n",
            "peek: 0\n",
            "dequeue: 0\n",
            "peek: 1\n",
            "데크가 비었나요? False\n",
            "\n",
            "데크: [9, 8, 7, 6, 5, 4, 3, 2, 1]\n",
            "dequeue: 9\n",
            "peek: 1\n",
            "데크: [8, 7, 6, 5, 4, 3, 2, 1]\n",
            "enqueu_back(50)을 수행합니다.\n",
            "peek: 50\n",
            "데크: [8, 7, 6, 5, 4, 3, 2, 1, 50]\n"
          ]
        }
      ],
      "source": [
        "from queue_py import Queue\n",
        "\n",
        "class Deque(Queue):\n",
        "    def enqueue_back(self,item):\n",
        "        self.items.append(item)\n",
        "    \n",
        "    def dequeue_front(self):\n",
        "        value = self.items.pop(0)\n",
        "        if value is not None:\n",
        "            return value\n",
        "        else:\n",
        "            print(\"Deque is empty.\")\n",
        "    \n",
        "    \n",
        "\n",
        "if __name__ == \"__main__\":\n",
        "    deque = Deque()\n",
        "    print(\"데크(Deque)가 비었나요? {0}\".format(deque.isEmpty()))\n",
        "    print(\"데크에 숫자 0~9를 추가합니다.\")\n",
        "    for i in range(10):\n",
        "        deque.enqueue(i)\n",
        "    print(\"데크 크기: {0}\".format(deque.size()))\n",
        "    print(\"peek: {0}\".format(deque.peek()))\n",
        "    print(\"dequeue: {0}\".format(deque.dequeue()))\n",
        "    print(\"peek: {0}\".format(deque.peek()))\n",
        "    print(\"데크가 비었나요? {0}\".format(deque.isEmpty()))\n",
        "    print()\n",
        "    print(\"데크: {0}\".format(deque))\n",
        "    print(\"dequeue: {0}\".format(deque.dequeue_front()))\n",
        "    print(\"peek: {0}\".format(deque.peek()))\n",
        "    print(\"데크: {0}\".format(deque))\n",
        "    print(\"enqueu_back(50)을 수행합니다.\")\n",
        "    deque.enqueue_back(50)\n",
        "    print(\"peek: {0}\".format(deque.peek()))\n",
        "    print(\"데크: {0}\".format(deque))"
      ]
    },
    {
      "cell_type": "markdown",
      "source": [
        "끝이 아닌 다른 위치에 있는 항목을 삽입하거나 제거할 때는 비효율적임(리스트의 insert() 사용하므로). 한편, 아래와 같이 파이썬 collections 패키지의 deque 모듈 사용하면 해결됨."
      ],
      "metadata": {
        "id": "-LCgZkgGm5sQ"
      }
    },
    {
      "cell_type": "code",
      "source": [
        "from collections import deque\n",
        "q = deque([\"버피\", \"잰더\", \"윌로\"])\n",
        "print(q)\n",
        "\n",
        "q.append('자일스')\n",
        "print(q)\n",
        "\n",
        "print(q.popleft())\n",
        "print(q.pop())\n",
        "print(q)\n",
        "\n",
        "q.appendleft('엔젤')\n",
        "print(q)"
      ],
      "metadata": {
        "id": "gFH8efc5Xaex",
        "colab": {
          "base_uri": "https://localhost:8080/"
        },
        "outputId": "4d59105f-a271-42ba-9cfc-d5e6eccda1cc"
      },
      "execution_count": 118,
      "outputs": [
        {
          "output_type": "stream",
          "name": "stdout",
          "text": [
            "deque(['버피', '잰더', '윌로'])\n",
            "deque(['버피', '잰더', '윌로', '자일스'])\n",
            "버피\n",
            "자일스\n",
            "deque(['잰더', '윌로'])\n",
            "deque(['엔젤', '잰더', '윌로'])\n"
          ]
        }
      ]
    },
    {
      "cell_type": "markdown",
      "source": [
        "q = deque(maxlen=4) 같이 데크의 크기 지정 가능함."
      ],
      "metadata": {
        "id": "5YYSuicNob5R"
      }
    },
    {
      "cell_type": "code",
      "source": [
        "# 양수이면 오른쪽으로, 음수이면 왼쪽으로 이동\n",
        "print(q)\n",
        "\n",
        "q.rotate(1)\n",
        "print(q)\n",
        "\n",
        "q.rotate(2)\n",
        "print(q)\n",
        "\n",
        "q.rotate(3)\n",
        "print(q)\n",
        "\n",
        "q.rotate(4)\n",
        "print(q)\n",
        "\n",
        "q.rotate(-1)\n",
        "print(q)\n",
        "\n",
        "q.rotate(-2)\n",
        "print(q)"
      ],
      "metadata": {
        "colab": {
          "base_uri": "https://localhost:8080/"
        },
        "id": "1RlpiijTnNQy",
        "outputId": "61d6d3bc-9920-4ca4-9155-94f98889bc5f"
      },
      "execution_count": 119,
      "outputs": [
        {
          "output_type": "stream",
          "name": "stdout",
          "text": [
            "deque(['엔젤', '잰더', '윌로'])\n",
            "deque(['윌로', '엔젤', '잰더'])\n",
            "deque(['엔젤', '잰더', '윌로'])\n",
            "deque(['엔젤', '잰더', '윌로'])\n",
            "deque(['윌로', '엔젤', '잰더'])\n",
            "deque(['엔젤', '잰더', '윌로'])\n",
            "deque(['윌로', '엔젤', '잰더'])\n"
          ]
        }
      ]
    },
    {
      "cell_type": "markdown",
      "source": [
        "collections 패키지의 deque 모듈은 동적 배열이 아닌 이중 연결 리스트를 기반으로 한다."
      ],
      "metadata": {
        "id": "dhRmb_zApFPE"
      }
    },
    {
      "cell_type": "code",
      "source": [
        ""
      ],
      "metadata": {
        "id": "hTgCIoFoo6rp"
      },
      "execution_count": null,
      "outputs": []
    }
  ]
}