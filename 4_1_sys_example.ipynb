{
  "nbformat": 4,
  "nbformat_minor": 0,
  "metadata": {
    "colab": {
      "name": "4.1_sys_example.ipynb",
      "provenance": [],
      "collapsed_sections": [],
      "authorship_tag": "ABX9TyOFmNBng641qoKeNJpdYJHF",
      "include_colab_link": true
    },
    "kernelspec": {
      "name": "python3",
      "display_name": "Python 3"
    },
    "language_info": {
      "name": "python"
    }
  },
  "cells": [
    {
      "cell_type": "markdown",
      "metadata": {
        "id": "view-in-github",
        "colab_type": "text"
      },
      "source": [
        "<a href=\"https://colab.research.google.com/github/lala991204/Data-Structure-Algorithm/blob/master/4_1_sys_example.ipynb\" target=\"_parent\"><img src=\"https://colab.research.google.com/assets/colab-badge.svg\" alt=\"Open In Colab\"/></a>"
      ]
    },
    {
      "cell_type": "code",
      "execution_count": null,
      "metadata": {
        "colab": {
          "base_uri": "https://localhost:8080/"
        },
        "id": "ZhpHyqSFHF0b",
        "outputId": "bf2f70d6-155a-40be-8da0-2b6ca1befe09"
      },
      "outputs": [
        {
          "output_type": "stream",
          "name": "stdout",
          "text": [
            "[5]\n",
            "[5, 7]\n",
            "[5, 7, 2]\n",
            "\n",
            "[5]\n",
            "[7]\n",
            "[2]\n"
          ]
        }
      ],
      "source": [
        "def append(number, number_list=[]):     # 나쁜 예 # 모듈 생성 시에 가변 객체를 기본값으로 사용해서는 안 됨.\n",
        "    number_list.append(number)\n",
        "    return number_list\n",
        "\n",
        "print(append(5))\n",
        "print(append(7))\n",
        "print(append(2))\n",
        "print()\n",
        "\n",
        "def append(number, number_list=None):  # 좋은 예\n",
        "    if number_list is None:\n",
        "        number_list = []\n",
        "    number_list.append(number)\n",
        "    return number_list\n",
        "\n",
        "print(append(5))\n",
        "print(append(7))\n",
        "print(append(2))"
      ]
    },
    {
      "cell_type": "markdown",
      "source": [
        "패키지(package)는 모듈과 __init__.py 파일이 있는 디렉터리이다.\n",
        "파이썬은 __init__.py 파일이 있는 디렉터리를 패키지로 취급한다. 모듈 검색 경로 중 string과 같이 흔한 이름의 디렉터리에 유효한 모듈이 들어 있는 경우 이러한 모듈이 검색되지 않는 문제를 방지하기 위해서이다."
      ],
      "metadata": {
        "id": "a6eti1gex485"
      }
    },
    {
      "cell_type": "markdown",
      "source": [
        "파이썬은 모듈을 import할 때마다 __name__이라는 변수를 만들고, 모듈 이름을 저장한다."
      ],
      "metadata": {
        "id": "tA9c5s3KBz1o"
      }
    },
    {
      "cell_type": "code",
      "source": [
        "hello = \"hello\"\n",
        "def world():\n",
        "    return \"world\"\n",
        "\n",
        "if __name__ == \"__main__\":\n",
        "    print(\"{0} 직접 실행됨\".format(__name__))\n",
        "else:\n",
        "    print(\"{0} 임포트 됨\".format(__name__))"
      ],
      "metadata": {
        "colab": {
          "base_uri": "https://localhost:8080/"
        },
        "id": "LeYbl_ZHIHFv",
        "outputId": "b0d7d52f-5333-44c8-822d-f4a62f8aa5da"
      },
      "execution_count": null,
      "outputs": [
        {
          "output_type": "stream",
          "name": "stdout",
          "text": [
            "__main__ 직접 실행됨\n"
          ]
        }
      ]
    },
    {
      "cell_type": "code",
      "source": [
        "import sys\n",
        "\n",
        "# sys.path는 인터프리터가 모듈을 검색할 경로를 담은 문자열 리스트 (path 변수는 PYTHONPATH 환경변수 또는 내장된 기본값 경로로 초기화 됨.)\n",
        "sys.path \n",
        "\n",
        "# sys.path.append('모듈_디렉터리_경로')"
      ],
      "metadata": {
        "colab": {
          "base_uri": "https://localhost:8080/"
        },
        "id": "9DMpnTRZuMtD",
        "outputId": "16bdf4e2-fb33-441e-b415-6ed3131a7900"
      },
      "execution_count": 10,
      "outputs": [
        {
          "output_type": "execute_result",
          "data": {
            "text/plain": [
              "['',\n",
              " '/content',\n",
              " '/env/python',\n",
              " '/usr/lib/python37.zip',\n",
              " '/usr/lib/python3.7',\n",
              " '/usr/lib/python3.7/lib-dynload',\n",
              " '/usr/local/lib/python3.7/dist-packages',\n",
              " '/usr/lib/python3/dist-packages',\n",
              " '/usr/local/lib/python3.7/dist-packages/IPython/extensions',\n",
              " '/root/.ipython',\n",
              " '모듈_디렉터리_경로',\n",
              " '모듈_디렉터리_경로']"
            ]
          },
          "metadata": {},
          "execution_count": 10
        }
      ]
    },
    {
      "cell_type": "code",
      "source": [
        "import sys\n",
        "def main():\n",
        "    for arg in sys.argv[1:]:      # sys.argv 변수를 사용하면 명령 줄에 전달된 인수를 프로그램 내에서 사용 가능함.\n",
        "        print(arg)\n",
        "\n",
        "if __name__ == \"__main__\":\n",
        "    main()"
      ],
      "metadata": {
        "colab": {
          "base_uri": "https://localhost:8080/"
        },
        "id": "-OfenPUeLciv",
        "outputId": "c31ed4f3-8168-4964-8b48-410a8489fc66"
      },
      "execution_count": 6,
      "outputs": [
        {
          "output_type": "stream",
          "name": "stdout",
          "text": [
            "-f\n",
            "/root/.local/share/jupyter/runtime/kernel-b620f774-ea39-448f-b2d5-5df26b5aa05d.json\n"
          ]
        }
      ]
    },
    {
      "cell_type": "code",
      "source": [
        "import sys\n",
        "dir(sys)   # 모듈이 정의하는 모든 유형의 이름(모듈, 변수, 함수)을 찾는 데 사용됨. 이름 기준으로 정렬된 문자열 리스트 반환."
      ],
      "metadata": {
        "colab": {
          "base_uri": "https://localhost:8080/"
        },
        "id": "EA88RZtMuR5W",
        "outputId": "ccc64445-bc24-44f5-e2d1-fb1b47f81d7f"
      },
      "execution_count": 7,
      "outputs": [
        {
          "output_type": "execute_result",
          "data": {
            "text/plain": [
              "['__breakpointhook__',\n",
              " '__displayhook__',\n",
              " '__doc__',\n",
              " '__excepthook__',\n",
              " '__interactivehook__',\n",
              " '__loader__',\n",
              " '__name__',\n",
              " '__package__',\n",
              " '__spec__',\n",
              " '__stderr__',\n",
              " '__stdin__',\n",
              " '__stdout__',\n",
              " '_clear_type_cache',\n",
              " '_current_frames',\n",
              " '_debugmallocstats',\n",
              " '_framework',\n",
              " '_getframe',\n",
              " '_git',\n",
              " '_home',\n",
              " '_xoptions',\n",
              " 'abiflags',\n",
              " 'api_version',\n",
              " 'argv',\n",
              " 'base_exec_prefix',\n",
              " 'base_prefix',\n",
              " 'breakpointhook',\n",
              " 'builtin_module_names',\n",
              " 'byteorder',\n",
              " 'call_tracing',\n",
              " 'callstats',\n",
              " 'copyright',\n",
              " 'displayhook',\n",
              " 'dont_write_bytecode',\n",
              " 'exc_info',\n",
              " 'excepthook',\n",
              " 'exec_prefix',\n",
              " 'executable',\n",
              " 'exit',\n",
              " 'flags',\n",
              " 'float_info',\n",
              " 'float_repr_style',\n",
              " 'get_asyncgen_hooks',\n",
              " 'get_coroutine_origin_tracking_depth',\n",
              " 'get_coroutine_wrapper',\n",
              " 'getallocatedblocks',\n",
              " 'getcheckinterval',\n",
              " 'getdefaultencoding',\n",
              " 'getdlopenflags',\n",
              " 'getfilesystemencodeerrors',\n",
              " 'getfilesystemencoding',\n",
              " 'getprofile',\n",
              " 'getrecursionlimit',\n",
              " 'getrefcount',\n",
              " 'getsizeof',\n",
              " 'getswitchinterval',\n",
              " 'gettrace',\n",
              " 'hash_info',\n",
              " 'hexversion',\n",
              " 'implementation',\n",
              " 'int_info',\n",
              " 'intern',\n",
              " 'is_finalizing',\n",
              " 'last_traceback',\n",
              " 'last_type',\n",
              " 'last_value',\n",
              " 'maxsize',\n",
              " 'maxunicode',\n",
              " 'meta_path',\n",
              " 'modules',\n",
              " 'path',\n",
              " 'path_hooks',\n",
              " 'path_importer_cache',\n",
              " 'platform',\n",
              " 'prefix',\n",
              " 'ps1',\n",
              " 'ps2',\n",
              " 'ps3',\n",
              " 'set_asyncgen_hooks',\n",
              " 'set_coroutine_origin_tracking_depth',\n",
              " 'set_coroutine_wrapper',\n",
              " 'setcheckinterval',\n",
              " 'setdlopenflags',\n",
              " 'setprofile',\n",
              " 'setrecursionlimit',\n",
              " 'setswitchinterval',\n",
              " 'settrace',\n",
              " 'stderr',\n",
              " 'stdin',\n",
              " 'stdout',\n",
              " 'thread_info',\n",
              " 'version',\n",
              " 'version_info',\n",
              " 'warnoptions']"
            ]
          },
          "metadata": {},
          "execution_count": 7
        }
      ]
    },
    {
      "cell_type": "code",
      "source": [
        ""
      ],
      "metadata": {
        "id": "2zpeBC3SuR76"
      },
      "execution_count": null,
      "outputs": []
    }
  ]
}