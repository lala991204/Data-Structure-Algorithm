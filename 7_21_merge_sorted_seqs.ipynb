{
  "nbformat": 4,
  "nbformat_minor": 0,
  "metadata": {
    "colab": {
      "name": "7.21_merge_sorted_seqs.ipynb",
      "provenance": [],
      "collapsed_sections": [],
      "toc_visible": true,
      "authorship_tag": "ABX9TyMe8T+Nyp6vFMmiKeH7Fe+u",
      "include_colab_link": true
    },
    "kernelspec": {
      "name": "python3",
      "display_name": "Python 3"
    },
    "language_info": {
      "name": "python"
    }
  },
  "cells": [
    {
      "cell_type": "markdown",
      "metadata": {
        "id": "view-in-github",
        "colab_type": "text"
      },
      "source": [
        "<a href=\"https://colab.research.google.com/github/lala991204/Data-Structure-Algorithm/blob/master/7_21_merge_sorted_seqs.ipynb\" target=\"_parent\"><img src=\"https://colab.research.google.com/assets/colab-badge.svg\" alt=\"Open In Colab\"/></a>"
      ]
    },
    {
      "cell_type": "markdown",
      "source": [
        "heapq 모듈을 이용하여 정렬된 두 시퀀스를 적은 비용으로 병합해보자."
      ],
      "metadata": {
        "id": "ZQhu6_r1OOFE"
      }
    },
    {
      "cell_type": "code",
      "execution_count": null,
      "metadata": {
        "colab": {
          "base_uri": "https://localhost:8080/"
        },
        "id": "2_4AwJpbWJsd",
        "outputId": "22f65fa5-94a1-4d9f-c139-8ceaf0674c81"
      },
      "outputs": [
        {
          "output_type": "stream",
          "name": "stdout",
          "text": [
            "테스트 통과!\n"
          ]
        }
      ],
      "source": [
        "import heapq\n",
        "\n",
        "def merge_sorted_seqs(seq1, seq2):\n",
        "    result = []\n",
        "    for c in heapq.merge(seq1, seq2):\n",
        "        result.append(c)\n",
        "    return result\n",
        "\n",
        "def test_merge_sorted_seq():\n",
        "    seq1 = [1, 2, 3, 8, 9, 10]\n",
        "    seq2 = [2, 3, 4, 5, 6, 7, 9]\n",
        "    seq3 = seq1 + seq2            # 리스트 합침\n",
        "    assert(merge_sorted_seqs(seq1, seq2) == sorted(seq3))\n",
        "    print(\"테스트 통과!\")\n",
        "\n",
        "if __name__ == \"__main__\":\n",
        "    test_merge_sorted_seq()"
      ]
    },
    {
      "cell_type": "code",
      "source": [
        ""
      ],
      "metadata": {
        "id": "0GjvHrQFWq_a"
      },
      "execution_count": null,
      "outputs": []
    }
  ]
}