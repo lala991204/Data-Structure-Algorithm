{
  "nbformat": 4,
  "nbformat_minor": 0,
  "metadata": {
    "colab": {
      "name": "3.11_find_dice_probabilities.ipynb",
      "provenance": [],
      "collapsed_sections": [],
      "authorship_tag": "ABX9TyOGfUhAX3YRznA7M7k1PEB0",
      "include_colab_link": true
    },
    "kernelspec": {
      "name": "python3",
      "display_name": "Python 3"
    },
    "language_info": {
      "name": "python"
    }
  },
  "cells": [
    {
      "cell_type": "markdown",
      "metadata": {
        "id": "view-in-github",
        "colab_type": "text"
      },
      "source": [
        "<a href=\"https://colab.research.google.com/github/lala991204/Data-Structure-Algorithm/blob/master/3_11_find_dice_probabilities.ipynb\" target=\"_parent\"><img src=\"https://colab.research.google.com/assets/colab-badge.svg\" alt=\"Open In Colab\"/></a>"
      ]
    },
    {
      "cell_type": "code",
      "execution_count": 3,
      "metadata": {
        "colab": {
          "base_uri": "https://localhost:8080/"
        },
        "id": "A26KS-jKscWw",
        "outputId": "cce67f7b-bce3-4b6d-e797-29f93f380b11"
      },
      "outputs": [
        {
          "output_type": "stream",
          "name": "stdout",
          "text": [
            "[4, [[1, 4], [2, 3], [3, 2], [4, 1]]]\n",
            "테스트 통과!\n"
          ]
        }
      ],
      "source": [
        "from collections import Counter, defaultdict\n",
        "\n",
        "def find_dice_probabilities(S, n_faces=6):\n",
        "    if S > 2 * n_faces or S < 2:         # 주사위 합계는 2이상, 12이하 이므로\n",
        "        return None\n",
        "\n",
        "    cdict = Counter()\n",
        "    ddict = defaultdict(list)\n",
        "\n",
        "    # 두 주사위의 합을 모두 더해서 딕셔너리에 넣는다.\n",
        "    for dice1 in range(1, n_faces+1):\n",
        "        for dice2 in range(1, n_faces+1):\n",
        "            t = [dice1, dice2]\n",
        "            cdict[dice1 + dice2] += 1\n",
        "            ddict[dice1 + dice2].append(t)\n",
        "\n",
        "    return [cdict[S], ddict[S]]\n",
        "\n",
        "def test_find_dice_probabilities():\n",
        "    n_faces = 6\n",
        "    S = 5\n",
        "    results = find_dice_probabilities(S, n_faces)     \n",
        "    print(results)\n",
        "    assert(results[0] == len(results[1]))         # 경로의 개수대로 카운팅 잘 했는지 확인\n",
        "    print(\"테스트 통과!\")\n",
        "\n",
        "if __name__ == \"__main__\":\n",
        "    test_find_dice_probabilities()"
      ]
    },
    {
      "cell_type": "code",
      "source": [
        ""
      ],
      "metadata": {
        "id": "40T3bVyitbiw"
      },
      "execution_count": null,
      "outputs": []
    }
  ]
}