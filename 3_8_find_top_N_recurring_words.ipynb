{
  "nbformat": 4,
  "nbformat_minor": 0,
  "metadata": {
    "colab": {
      "name": "3.8_find_top_N_recurring_words.ipynb",
      "provenance": [],
      "collapsed_sections": [],
      "authorship_tag": "ABX9TyNKuGAEpH9ewFAStvg6A6Vt",
      "include_colab_link": true
    },
    "kernelspec": {
      "name": "python3",
      "display_name": "Python 3"
    },
    "language_info": {
      "name": "python"
    }
  },
  "cells": [
    {
      "cell_type": "markdown",
      "metadata": {
        "id": "view-in-github",
        "colab_type": "text"
      },
      "source": [
        "<a href=\"https://colab.research.google.com/github/lala991204/Data-Structure-Algorithm/blob/master/3_8_find_top_N_recurring_words.ipynb\" target=\"_parent\"><img src=\"https://colab.research.google.com/assets/colab-badge.svg\" alt=\"Open In Colab\"/></a>"
      ]
    },
    {
      "cell_type": "code",
      "execution_count": 2,
      "metadata": {
        "colab": {
          "base_uri": "https://localhost:8080/"
        },
        "id": "JcExv3AHo9rj",
        "outputId": "d2252e5b-41ad-47db-d487-5c6ba2ad000a"
      },
      "outputs": [
        {
          "output_type": "stream",
          "name": "stdout",
          "text": [
            "테스트 통과!\n"
          ]
        }
      ],
      "source": [
        "# 문자열에서 가장 많이 나오는 단어와 그 횟수 찾기\n",
        "from collections import Counter\n",
        "\n",
        "def find_top_N_recurring_words(seq, N):\n",
        "    dcounter = Counter()\n",
        "    for word in seq.split():\n",
        "        dcounter[word] += 1\n",
        "    return dcounter.most_common(N)       # 최빈값 N개를 리스트에 담긴 튜플 형태로 반환\n",
        "\n",
        "def test_find_top_N_recurring_words():\n",
        "    seq = \"버피 에인절 몬스터 잰더 윌로 버피 몬스터 슈퍼 버피 에인절\"\n",
        "    N = 3\n",
        "    assert(find_top_N_recurring_words(seq, N) ==\n",
        "           [(\"버피\", 3), (\"에인절\", 2), (\"몬스터\", 2)])\n",
        "    print(\"테스트 통과!\")\n",
        "\n",
        "if __name__ == \"__main__\":\n",
        "    test_find_top_N_recurring_words()"
      ]
    },
    {
      "cell_type": "code",
      "source": [
        "seq = \"버피 에인절 몬스터 잰더 윌로 버피 몬스터 슈퍼 버피 에인절\"\n",
        "seq.split()"
      ],
      "metadata": {
        "colab": {
          "base_uri": "https://localhost:8080/"
        },
        "id": "FJajuZVYp_v_",
        "outputId": "9edb46fb-1604-450a-e44d-da3d8a061902"
      },
      "execution_count": 1,
      "outputs": [
        {
          "output_type": "execute_result",
          "data": {
            "text/plain": [
              "['버피', '에인절', '몬스터', '잰더', '윌로', '버피', '몬스터', '슈퍼', '버피', '에인절']"
            ]
          },
          "metadata": {},
          "execution_count": 1
        }
      ]
    },
    {
      "cell_type": "code",
      "source": [
        ""
      ],
      "metadata": {
        "id": "PGpmkcOvynCt"
      },
      "execution_count": null,
      "outputs": []
    }
  ]
}