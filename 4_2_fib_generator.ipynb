{
  "nbformat": 4,
  "nbformat_minor": 0,
  "metadata": {
    "colab": {
      "name": "4.2_fib_generator.ipynb",
      "provenance": [],
      "collapsed_sections": [],
      "toc_visible": true,
      "authorship_tag": "ABX9TyPO4W+iakDy3NIR3QkJa00W",
      "include_colab_link": true
    },
    "kernelspec": {
      "name": "python3",
      "display_name": "Python 3"
    },
    "language_info": {
      "name": "python"
    }
  },
  "cells": [
    {
      "cell_type": "markdown",
      "metadata": {
        "id": "view-in-github",
        "colab_type": "text"
      },
      "source": [
        "<a href=\"https://colab.research.google.com/github/lala991204/Data-Structure-Algorithm/blob/master/4_2_fib_generator.ipynb\" target=\"_parent\"><img src=\"https://colab.research.google.com/assets/colab-badge.svg\" alt=\"Open In Colab\"/></a>"
      ]
    },
    {
      "cell_type": "markdown",
      "source": [
        "파이썬 if문은 다른 언어의 switch문 또는 case문을 대체한다."
      ],
      "metadata": {
        "id": "EeMwKqGHE8IF"
      }
    },
    {
      "cell_type": "code",
      "execution_count": 1,
      "metadata": {
        "colab": {
          "base_uri": "https://localhost:8080/"
        },
        "id": "DnbktPaFucqW",
        "outputId": "afa443c5-1a88-4e97-f29c-058fd32d3eaa"
      },
      "outputs": [
        {
          "output_type": "stream",
          "name": "stdout",
          "text": [
            "숫자를 입력하세요: -7\n",
            "음수를 입력하여 x를 0으로 변경했습니다.\n"
          ]
        }
      ],
      "source": [
        "x = int(input(\"숫자를 입력하세요: \"))\n",
        "if x < 0:\n",
        "    x = 0\n",
        "    print(\"음수를 입력하여 x를 0으로 변경했습니다.\")\n",
        "elif x == 0:\n",
        "    print(\"0이 입력되었습니다.\")\n",
        "elif x == 1:\n",
        "    print(\"1이 입력되었습니다.\")\n",
        "else:\n",
        "    print(\"2이상의 숫자가 입력되었습니다.\")"
      ]
    },
    {
      "cell_type": "code",
      "source": [
        "names = ['버피', '윌로', '잰더', '자일스']\n",
        "for name in names:\n",
        "    print(name)"
      ],
      "metadata": {
        "colab": {
          "base_uri": "https://localhost:8080/"
        },
        "id": "PAmQioDWFLTW",
        "outputId": "2eab25c1-5c43-4eff-d685-cae1df779f3b"
      },
      "execution_count": 3,
      "outputs": [
        {
          "output_type": "stream",
          "name": "stdout",
          "text": [
            "버피\n",
            "윌로\n",
            "잰더\n",
            "자일스\n"
          ]
        }
      ]
    },
    {
      "cell_type": "code",
      "source": [
        "string1, string2, string3 = '', '괴물', '외계인'\n",
        "# string1, string2, string3 = '', '외계인', '괴물'\n",
        "non_null = string1 or string2 or string3\n",
        "non_null"
      ],
      "metadata": {
        "colab": {
          "base_uri": "https://localhost:8080/",
          "height": 35
        },
        "id": "a9VD6vgdu9B9",
        "outputId": "1ee80f03-3ee0-427f-e464-6eb309bfd644"
      },
      "execution_count": 6,
      "outputs": [
        {
          "output_type": "execute_result",
          "data": {
            "text/plain": [
              "'괴물'"
            ],
            "application/vnd.google.colaboratory.intrinsic+json": {
              "type": "string"
            }
          },
          "metadata": {},
          "execution_count": 6
        }
      ]
    },
    {
      "cell_type": "markdown",
      "source": [
        "파이썬에서 generator는 iterator를 작성하는 편리한 방법이다. 이때 yield 키워드를 사용하면 편리하다."
      ],
      "metadata": {
        "id": "eBnPI8WGH09f"
      }
    },
    {
      "cell_type": "markdown",
      "source": [
        "호출자가 메서드를 호출할 때, return 키워드는 반환값을 반환하고 메서드를 종료한 후, 호출자에게 제어를 반환하는 반면 yield 키워드는 각 반환값을 호출자에게 반환하고, 반환값이 모두 소진되었을 때만 메서드가 종료된다.(코드 실행 중에 값 반환)"
      ],
      "metadata": {
        "id": "jlFVX6ANIPEa"
      }
    },
    {
      "cell_type": "markdown",
      "source": [
        "시퀀스를 반환하거나 반복문을 사용하는 함수를 다룰 때, 제너레이터를 고려할 수 있다."
      ],
      "metadata": {
        "id": "tSpuFbQUIy3q"
      }
    },
    {
      "cell_type": "code",
      "source": [
        "a = [1,2,3]\n",
        "def f(a):\n",
        "    while a:\n",
        "        yield a.pop()"
      ],
      "metadata": {
        "id": "c0VZmmHzweMl"
      },
      "execution_count": 7,
      "outputs": []
    },
    {
      "cell_type": "code",
      "source": [
        "def fib_generator():\n",
        "    a, b = 0, 1\n",
        "    while True:\n",
        "        yield b\n",
        "        a, b = b, a+b\n",
        "\n",
        "if __name__ == \"__main__\":\n",
        "    fib = fib_generator()\n",
        "    print(next(fib))     # 다음 값을 반환하는 메서드\n",
        "    print(next(fib))\n",
        "    print(next(fib))\n",
        "    print(next(fib))"
      ],
      "metadata": {
        "colab": {
          "base_uri": "https://localhost:8080/"
        },
        "id": "ge-2RHDUxYD2",
        "outputId": "0b416a9c-8728-4d36-8731-50e2e802d833"
      },
      "execution_count": null,
      "outputs": [
        {
          "output_type": "stream",
          "name": "stdout",
          "text": [
            "1\n",
            "1\n",
            "2\n",
            "3\n"
          ]
        }
      ]
    },
    {
      "cell_type": "code",
      "source": [
        ""
      ],
      "metadata": {
        "id": "66RwxucFxdNF"
      },
      "execution_count": null,
      "outputs": []
    }
  ]
}