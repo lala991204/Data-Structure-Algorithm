{
  "nbformat": 4,
  "nbformat_minor": 0,
  "metadata": {
    "colab": {
      "name": "2.10_combination.ipynb",
      "provenance": [],
      "collapsed_sections": [],
      "authorship_tag": "ABX9TyNW+Dw9+IMzdEoaEVHix3Tx",
      "include_colab_link": true
    },
    "kernelspec": {
      "name": "python3",
      "display_name": "Python 3"
    },
    "language_info": {
      "name": "python"
    }
  },
  "cells": [
    {
      "cell_type": "markdown",
      "metadata": {
        "id": "view-in-github",
        "colab_type": "text"
      },
      "source": [
        "<a href=\"https://colab.research.google.com/github/lala991204/Data-Structure-Algorithm/blob/master/2_10_combination.ipynb\" target=\"_parent\"><img src=\"https://colab.research.google.com/assets/colab-badge.svg\" alt=\"Open In Colab\"/></a>"
      ]
    },
    {
      "cell_type": "markdown",
      "source": [
        "조합: 순열과 달리 순서를 고려하지 않음."
      ],
      "metadata": {
        "id": "Y4-ngDbkk3eO"
      }
    },
    {
      "cell_type": "code",
      "source": [
        "def combinations(s):\n",
        "    if len(s) < 2:\n",
        "        return s\n",
        "    res = []\n",
        "    for i, c in enumerate(s):\n",
        "        res.append(c)     ## 추가된 부분\n",
        "        for j in combinations(s[:i] + s[i+1:]):\n",
        "            res.append(c + j)\n",
        "    return res\n",
        "\n",
        "if __name__ == \"__main__\":\n",
        "    result = combinations(\"abc\")\n",
        "    print(result)"
      ],
      "metadata": {
        "id": "uA32YGno9d3O",
        "outputId": "c9186c59-d655-42fb-eebc-8815f632517b",
        "colab": {
          "base_uri": "https://localhost:8080/"
        }
      },
      "execution_count": 1,
      "outputs": [
        {
          "output_type": "stream",
          "name": "stdout",
          "text": [
            "['a', 'ab', 'abc', 'ac', 'acb', 'b', 'ba', 'bac', 'bc', 'bca', 'c', 'ca', 'cab', 'cb', 'cba']\n"
          ]
        }
      ]
    },
    {
      "cell_type": "code",
      "source": [
        ""
      ],
      "metadata": {
        "id": "VW4M03m29hlb"
      },
      "execution_count": null,
      "outputs": []
    }
  ]
}