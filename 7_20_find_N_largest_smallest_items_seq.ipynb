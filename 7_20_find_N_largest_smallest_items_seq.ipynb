{
  "nbformat": 4,
  "nbformat_minor": 0,
  "metadata": {
    "colab": {
      "name": "7.20_find_N_largest_smallest_items_seq.ipynb",
      "provenance": [],
      "collapsed_sections": [],
      "toc_visible": true,
      "mount_file_id": "1uWU_jfU0fSvHDzpheEKiyxe-hZkbu9kA",
      "authorship_tag": "ABX9TyN12bakDF08BMEqJ/FFbL2j",
      "include_colab_link": true
    },
    "kernelspec": {
      "name": "python3",
      "display_name": "Python 3"
    },
    "language_info": {
      "name": "python"
    }
  },
  "cells": [
    {
      "cell_type": "markdown",
      "metadata": {
        "id": "view-in-github",
        "colab_type": "text"
      },
      "source": [
        "<a href=\"https://colab.research.google.com/github/lala991204/Data-Structure-Algorithm/blob/master/7_20_find_N_largest_smallest_items_seq.ipynb\" target=\"_parent\"><img src=\"https://colab.research.google.com/assets/colab-badge.svg\" alt=\"Open In Colab\"/></a>"
      ]
    },
    {
      "cell_type": "markdown",
      "source": [
        "heapq 모듈을 이용하여 시퀀스에서 N개의 가장 큰 항목과 가장 작은 항목을 찾아보자."
      ],
      "metadata": {
        "id": "9NJrtImzN7lC"
      }
    },
    {
      "cell_type": "code",
      "source": [
        "import heapq\n",
        "\n",
        "def find_N_largest_items_seq(seq, N):\n",
        "    return heapq.nlargest(N, seq)\n",
        "\n",
        "def find_N_smallest_items_seq(seq, N):\n",
        "    return heapq.nsmallest(N, seq)\n",
        "\n",
        "def find_smallest_items_seq_heap(seq):\n",
        "    heapq.heapify(seq)\n",
        "    return heapq.heappop(seq)\n",
        "\n",
        "def find_smallest_items_seq(seq):\n",
        "    return min(seq)\n",
        "\n",
        "def find_N_smallest_items_seq_sorted(seq, N):\n",
        "    return sorted(seq)[:N]\n",
        "\n",
        "def find_N_largest_items_seq_sorted(seq, N):\n",
        "    return sorted(seq)[len(seq)-N:]\n",
        "\n",
        "def test_find_N_largest_smallest_items_seq():\n",
        "    seq = [1, 3, 2, 8, 6, 10, 9]\n",
        "    N = 3\n",
        "    assert(find_N_largest_items_seq(seq, N) == [10, 9, 8])        # 가장 큰 것부터 나열\n",
        "    assert(find_N_largest_items_seq_sorted(seq, N) == [8, 9, 10])      # 오름차순 형태로 정렬\n",
        "    assert(find_N_smallest_items_seq(seq, N) == [1, 2, 3])       # 가장 작은 것부터 나열\n",
        "    assert(find_N_smallest_items_seq_sorted(seq, N) == [1, 2, 3])      # 오름차순 형태로 정렬\n",
        "    assert(find_smallest_items_seq(seq) == 1)       # seq에서 가장 작은 원소\n",
        "    assert(find_smallest_items_seq_heap(seq) == 1)      # heapq를 이용하여 heqppop!(가장 작은 원소)\n",
        "\n",
        "    print(\"테스트 통과!\")\n",
        "\n",
        "if __name__ == \"__main__\":\n",
        "    test_find_N_largest_smallest_items_seq()"
      ],
      "metadata": {
        "colab": {
          "base_uri": "https://localhost:8080/"
        },
        "id": "DjrzFRpvT_Hu",
        "outputId": "d9f163b6-a838-480f-d36e-c0f6133dfc9c"
      },
      "execution_count": null,
      "outputs": [
        {
          "output_type": "stream",
          "name": "stdout",
          "text": [
            "테스트 통과!\n"
          ]
        }
      ]
    },
    {
      "cell_type": "code",
      "source": [
        ""
      ],
      "metadata": {
        "id": "azUFKQXZT_KO"
      },
      "execution_count": null,
      "outputs": []
    }
  ]
}