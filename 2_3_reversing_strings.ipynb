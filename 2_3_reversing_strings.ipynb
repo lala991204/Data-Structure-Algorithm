{
  "nbformat": 4,
  "nbformat_minor": 0,
  "metadata": {
    "colab": {
      "name": "2.3_reversing_strings.ipynb",
      "provenance": [],
      "authorship_tag": "ABX9TyOqGb6zGeG6tdzMRnBxQ1ES",
      "include_colab_link": true
    },
    "kernelspec": {
      "name": "python3",
      "display_name": "Python 3"
    },
    "language_info": {
      "name": "python"
    }
  },
  "cells": [
    {
      "cell_type": "markdown",
      "metadata": {
        "id": "view-in-github",
        "colab_type": "text"
      },
      "source": [
        "<a href=\"https://colab.research.google.com/github/lala991204/Data-Structure-Algorithm/blob/master/2_3_reversing_strings.ipynb\" target=\"_parent\"><img src=\"https://colab.research.google.com/assets/colab-badge.svg\" alt=\"Open In Colab\"/></a>"
      ]
    },
    {
      "cell_type": "code",
      "execution_count": 5,
      "metadata": {
        "colab": {
          "base_uri": "https://localhost:8080/"
        },
        "id": "XOc8IBRI3iY7",
        "outputId": "31b022b7-fa83-43c7-b8ee-c4aa810e3960"
      },
      "outputs": [
        {
          "output_type": "stream",
          "name": "stdout",
          "text": [
            "olleh\n",
            "\n",
            "olleh\n",
            "\n"
          ]
        }
      ],
      "source": [
        "def revert(string):\n",
        "\n",
        "    return string[::-1]\n",
        "\n",
        "def reverse_string_inplace(s):\n",
        "    if s:\n",
        "        s = s[-1] + reverse_string_inplace(s[:-1])\n",
        "\n",
        "    return s\n",
        "\n",
        "s = 'hello'\n",
        "print(revert(s))\n",
        "print(revert(''))\n",
        "\n",
        "print(reverse_string_inplace(s))\n",
        "print(reverse_string_inplace(''))"
      ]
    },
    {
      "cell_type": "code",
      "source": [
        ""
      ],
      "metadata": {
        "id": "YbwiNfBF4d3T"
      },
      "execution_count": null,
      "outputs": []
    }
  ]
}