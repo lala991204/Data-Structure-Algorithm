{
  "nbformat": 4,
  "nbformat_minor": 0,
  "metadata": {
    "colab": {
      "name": "2.8_simple_str_compression.ipynb",
      "provenance": [],
      "collapsed_sections": [],
      "authorship_tag": "ABX9TyOS3Nr08JAHD3YFTjni6lVu",
      "include_colab_link": true
    },
    "kernelspec": {
      "name": "python3",
      "display_name": "Python 3"
    },
    "language_info": {
      "name": "python"
    }
  },
  "cells": [
    {
      "cell_type": "markdown",
      "metadata": {
        "id": "view-in-github",
        "colab_type": "text"
      },
      "source": [
        "<a href=\"https://colab.research.google.com/github/lala991204/Data-Structure-Algorithm/blob/master/2_8_simple_str_compression.ipynb\" target=\"_parent\"><img src=\"https://colab.research.google.com/assets/colab-badge.svg\" alt=\"Open In Colab\"/></a>"
      ]
    },
    {
      "cell_type": "code",
      "execution_count": 1,
      "metadata": {
        "id": "c5AEmb607a1P",
        "colab": {
          "base_uri": "https://localhost:8080/"
        },
        "outputId": "1b040c18-a929-493b-d64d-ddc9b0443535"
      },
      "outputs": [
        {
          "output_type": "stream",
          "name": "stdout",
          "text": [
            "a2b2c5a3\n"
          ]
        }
      ],
      "source": [
        "def str_compression(s):\n",
        "    count, last = 1, \"\"   # count='1'로, last='공백'으로 초기화함\n",
        "    list_aux = []\n",
        "    for i, c in enumerate(s):     # s의 각 문자에 해당하는 인덱스 값과 문자를 넣어줌.\n",
        "        if last == c:          # 마지막으로 기억된 값 'last'와 들어오는 값 'c'와 일치하는지 체크\n",
        "            count += 1         # 같으면 count 늘리기\n",
        "        else:\n",
        "            if i != 0:         # 같지않으면 현 count를 입력함.(대신 i==0 즉, 첫 문자 값이 아니라는 전제)\n",
        "                list_aux.append(str(count))     \n",
        "            list_aux.append(c)      # 현 문자를 저장\n",
        "            count = 1           # 다시 count 값을 1로 초기화\n",
        "            last = c            # 현 문자를 last 값으로 저장\n",
        "    list_aux.append(str(count))  # 마지막 문자에 다다를 때는 count 저장\n",
        "    return \"\".join(list_aux)\n",
        "\n",
        "if __name__ == \"__main__\":\n",
        "    result = str_compression(\"aabbcccccaaa\")\n",
        "    print(result)"
      ]
    },
    {
      "cell_type": "code",
      "source": [
        ""
      ],
      "metadata": {
        "id": "VLMbDxz58C0D"
      },
      "execution_count": null,
      "outputs": []
    }
  ]
}