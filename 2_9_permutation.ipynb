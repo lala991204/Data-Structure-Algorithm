{
  "nbformat": 4,
  "nbformat_minor": 0,
  "metadata": {
    "colab": {
      "name": "2.9_permutation.ipynb",
      "provenance": [],
      "collapsed_sections": [],
      "authorship_tag": "ABX9TyMYLTL1rHRLNgkzpO7jjzTA",
      "include_colab_link": true
    },
    "kernelspec": {
      "name": "python3",
      "display_name": "Python 3"
    },
    "language_info": {
      "name": "python"
    }
  },
  "cells": [
    {
      "cell_type": "markdown",
      "metadata": {
        "id": "view-in-github",
        "colab_type": "text"
      },
      "source": [
        "<a href=\"https://colab.research.google.com/github/lala991204/Data-Structure-Algorithm/blob/master/2_9_permutation.ipynb\" target=\"_parent\"><img src=\"https://colab.research.google.com/assets/colab-badge.svg\" alt=\"Open In Colab\"/></a>"
      ]
    },
    {
      "cell_type": "markdown",
      "source": [
        "길이 n의 문자열에서 n개 문자를 모두 선택하는 경우의 문자열을 나열해보자."
      ],
      "metadata": {
        "id": "-JkoMZ7oecZM"
      }
    },
    {
      "cell_type": "code",
      "source": [
        "import itertools\n",
        "\n",
        "def perm(s):\n",
        "    if len(s) < 2:\n",
        "        return s\n",
        "    res = []\n",
        "    for i, c in enumerate(s):      # 해당 문자의 인덱스와 문자 값 순서대로 \n",
        "        for cc in perm(s[:i] + s[i+1:]):     # c에서 선택되지 않은 부분의 문자끼리 다시 순열 진행--> if c = '0' , then cc = '12' or '21'\n",
        "            res.append(c + cc)\n",
        "    return res\n",
        "\n",
        "def perm2(s):\n",
        "    res = itertools.permutations(s)       # tuple 형태로 나옴 (ex: ('0','1','2'))\n",
        "    return [\"\".join(i) for i in res]      # 이를 join해줌으로써 아래와 같이 출력 가능함 (ex:'012')\n",
        "\n",
        "if __name__ == \"__main__\":\n",
        "    val = \"012\"\n",
        "    print(perm(val))\n",
        "    print(perm2(val))"
      ],
      "metadata": {
        "colab": {
          "base_uri": "https://localhost:8080/"
        },
        "id": "RV7lQG8uZts9",
        "outputId": "ad90635a-857c-4b17-ba21-7e5bc5e64232"
      },
      "execution_count": 1,
      "outputs": [
        {
          "output_type": "stream",
          "name": "stdout",
          "text": [
            "['012', '021', '102', '120', '201', '210']\n",
            "['012', '021', '102', '120', '201', '210']\n"
          ]
        }
      ]
    },
    {
      "cell_type": "code",
      "source": [
        "for r in itertools.permutations('012'):\n",
        "    print(r)"
      ],
      "metadata": {
        "colab": {
          "base_uri": "https://localhost:8080/"
        },
        "id": "3s9cmU8cjjZG",
        "outputId": "7eeb3bc8-c156-4d64-87aa-627e58801769"
      },
      "execution_count": 8,
      "outputs": [
        {
          "output_type": "stream",
          "name": "stdout",
          "text": [
            "('0', '1', '2')\n",
            "('0', '2', '1')\n",
            "('1', '0', '2')\n",
            "('1', '2', '0')\n",
            "('2', '0', '1')\n",
            "('2', '1', '0')\n"
          ]
        }
      ]
    },
    {
      "cell_type": "code",
      "source": [
        ""
      ],
      "metadata": {
        "id": "Y2HnN_COjx-7"
      },
      "execution_count": null,
      "outputs": []
    }
  ]
}