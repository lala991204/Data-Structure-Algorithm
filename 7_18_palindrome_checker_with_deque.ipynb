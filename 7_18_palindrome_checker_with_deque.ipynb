{
  "nbformat": 4,
  "nbformat_minor": 0,
  "metadata": {
    "colab": {
      "name": "7.18_palindrome_checker_with_deque.ipynb",
      "provenance": [],
      "collapsed_sections": [],
      "toc_visible": true,
      "mount_file_id": "1lfhPT0isKY94Cut1xusFg-LultTdwN2R",
      "authorship_tag": "ABX9TyPK7OIsMCGU2v+wCgxM5I0R",
      "include_colab_link": true
    },
    "kernelspec": {
      "name": "python3",
      "display_name": "Python 3"
    },
    "language_info": {
      "name": "python"
    }
  },
  "cells": [
    {
      "cell_type": "markdown",
      "metadata": {
        "id": "view-in-github",
        "colab_type": "text"
      },
      "source": [
        "<a href=\"https://colab.research.google.com/github/lala991204/Data-Structure-Algorithm/blob/master/7_18_palindrome_checker_with_deque.ipynb\" target=\"_parent\"><img src=\"https://colab.research.google.com/assets/colab-badge.svg\" alt=\"Open In Colab\"/></a>"
      ]
    },
    {
      "cell_type": "code",
      "source": [
        "%cd /content/drive/MyDrive/Colab Notebooks/github/Data Structure and Algorithm "
      ],
      "metadata": {
        "colab": {
          "base_uri": "https://localhost:8080/"
        },
        "id": "lrXjw_8J-Ztl",
        "outputId": "19ef16c9-3b81-449f-fa39-8e14e2539f3b"
      },
      "execution_count": null,
      "outputs": [
        {
          "output_type": "stream",
          "name": "stdout",
          "text": [
            "/content/drive/MyDrive/Colab Notebooks/github/Data Structure and Algorithm\n"
          ]
        }
      ]
    },
    {
      "cell_type": "markdown",
      "source": [
        "deque(데크)를 이용하면 문장이 회문(앞,뒤에서 읽어도 동일한 단어나 구)인지 쉽게 확인 가능하다."
      ],
      "metadata": {
        "id": "tqVA7JylGcxZ"
      }
    },
    {
      "cell_type": "code",
      "execution_count": null,
      "metadata": {
        "colab": {
          "base_uri": "https://localhost:8080/"
        },
        "id": "zJtVStr2-Smw",
        "outputId": "b151fdd0-6697-49ea-dd0f-daae223ac0fc"
      },
      "outputs": [
        {
          "output_type": "stream",
          "name": "stdout",
          "text": [
            "(True, True)\n",
            "(False, False)\n"
          ]
        }
      ],
      "source": [
        "import string\n",
        "import collections\n",
        "from deque_py import Deque\n",
        "\n",
        "STRIP = string.whitespace + string.punctuation + \"\\\"'\"      # 공백/C 로케일에서 구두점 문자로 간주하는 모든 ASCII 문자를 포함하는 문자열\n",
        "\n",
        "def palindrome_checker_with_deque(str1):\n",
        "    d1 = Deque()\n",
        "    d2 = collections.deque()\n",
        "\n",
        "    for s in str1.lower():       # 소문자로 모두 통일한 후\n",
        "        if s not in STRIP:   # 공백, 구두점 등을 제외하는 경우\n",
        "            d2.append(s)\n",
        "            d1.enqueue(s)\n",
        "    \n",
        "    eq1 = True\n",
        "    while d1.size() > 1 and eq1:\n",
        "        if d1.dequeue_front() != d1.dequeue():     # 앞에서 꺼낸 것과 뒤에서 꺼내던(원래 방식) 것과 문자열이 일치하지 않으면\n",
        "            eq1 = False\n",
        "    \n",
        "    eq2 = True\n",
        "    while len(d2) > 1 and eq2:\n",
        "        if d2.pop() != d2.popleft():     # 앞에서 꺼낸 것과 뒤에서 꺼내던(원래 방식) 것과 문자열이 일치하지 않으면\n",
        "            eq2 = False\n",
        "    \n",
        "    return eq1, eq2\n",
        "\n",
        "if __name__ == \"__main__\":\n",
        "    str1 = \"Madam Im Adam\"\n",
        "    str2 = \"Buffy is a Slayer\"\n",
        "    print(palindrome_checker_with_deque(str1))\n",
        "    print(palindrome_checker_with_deque(str2))"
      ]
    },
    {
      "cell_type": "code",
      "source": [
        ""
      ],
      "metadata": {
        "id": "ssDW-3Ob_XN2"
      },
      "execution_count": null,
      "outputs": []
    }
  ]
}