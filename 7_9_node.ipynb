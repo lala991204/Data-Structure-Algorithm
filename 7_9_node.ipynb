{
  "nbformat": 4,
  "nbformat_minor": 0,
  "metadata": {
    "colab": {
      "name": "7.9_node.ipynb",
      "provenance": [],
      "collapsed_sections": [],
      "toc_visible": true,
      "authorship_tag": "ABX9TyPX64D4qQyANPiB1ezhYOWK",
      "include_colab_link": true
    },
    "kernelspec": {
      "name": "python3",
      "display_name": "Python 3"
    },
    "language_info": {
      "name": "python"
    }
  },
  "cells": [
    {
      "cell_type": "markdown",
      "metadata": {
        "id": "view-in-github",
        "colab_type": "text"
      },
      "source": [
        "<a href=\"https://colab.research.google.com/github/lala991204/Data-Structure-Algorithm/blob/master/7_9_node.ipynb\" target=\"_parent\"><img src=\"https://colab.research.google.com/assets/colab-badge.svg\" alt=\"Open In Colab\"/></a>"
      ]
    },
    {
      "cell_type": "markdown",
      "source": [
        "연결 리스트(linked list)는 값과 다음 노드에 대한 포인터(참조)가 포함된 노드로 이루어진 선형 리스트이다. 마지막 노드는 null값(파이썬에서는 None)을 갖는다."
      ],
      "metadata": {
        "id": "5IyIJg8nRNBf"
      }
    },
    {
      "cell_type": "markdown",
      "source": [
        "연결 리스트로 스택(새 항목을 head에 추가), 큐(새 항목을 tail에 추가)를 구현하기 전에 다음 노드 클래스를 만들자."
      ],
      "metadata": {
        "id": "utd0bUHaRfjG"
      }
    },
    {
      "cell_type": "code",
      "execution_count": 2,
      "metadata": {
        "colab": {
          "base_uri": "https://localhost:8080/"
        },
        "id": "iuwz8Hp2z1TY",
        "outputId": "3d3cbac5-1e37-4024-cd6e-2027b53d0554"
      },
      "outputs": [
        {
          "output_type": "stream",
          "name": "stdout",
          "text": [
            "a\n",
            "b\n",
            "aa\n",
            "e\n"
          ]
        }
      ],
      "source": [
        "class Node(object):\n",
        "    def __init__(self, value=None, pointer=None):\n",
        "        self.value = value\n",
        "        self.pointer = pointer\n",
        "\n",
        "    def getData(self):\n",
        "        return self.value\n",
        "    \n",
        "    def getNext(self):\n",
        "        return self.pointer\n",
        "\n",
        "    def setData(self, newdata):\n",
        "        self.value = newdata\n",
        "    \n",
        "    def setNext(self, newpointer):\n",
        "        self.pointer = newpointer\n",
        "\n",
        "\n",
        "if __name__ == \"__main__\":\n",
        "    L = Node(\"a\", Node(\"b\", Node(\"c\", Node(\"d\"))))\n",
        "    assert(L.pointer.pointer.value == \"c\")\n",
        "\n",
        "    print(L.getData())\n",
        "    print(L.getNext().getData())  # 다음 노드에 대한 값 출력\n",
        "    L.setData(\"aa\")\n",
        "    L.setNext(Node(\"e\"))   # 다음 노드는 Node(\"e\")를 가리킴\n",
        "    print(L.getData())\n",
        "    print(L.getNext().getData())"
      ]
    },
    {
      "cell_type": "code",
      "source": [
        ""
      ],
      "metadata": {
        "id": "PO5bmYtg0xoA"
      },
      "execution_count": null,
      "outputs": []
    }
  ]
}