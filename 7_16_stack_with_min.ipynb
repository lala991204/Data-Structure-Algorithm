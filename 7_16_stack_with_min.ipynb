{
  "nbformat": 4,
  "nbformat_minor": 0,
  "metadata": {
    "colab": {
      "name": "7.16_stack_with_min.ipynb",
      "provenance": [],
      "collapsed_sections": [],
      "toc_visible": true,
      "mount_file_id": "1AG8MHH-UHDYpnsVSJYMXLteGZogmB0BJ",
      "authorship_tag": "ABX9TyNErTBkMJjyvqTJjVAhFJ3l",
      "include_colab_link": true
    },
    "kernelspec": {
      "name": "python3",
      "display_name": "Python 3"
    },
    "language_info": {
      "name": "python"
    }
  },
  "cells": [
    {
      "cell_type": "markdown",
      "metadata": {
        "id": "view-in-github",
        "colab_type": "text"
      },
      "source": [
        "<a href=\"https://colab.research.google.com/github/lala991204/Data-Structure-Algorithm/blob/master/7_16_stack_with_min.ipynb\" target=\"_parent\"><img src=\"https://colab.research.google.com/assets/colab-badge.svg\" alt=\"Open In Colab\"/></a>"
      ]
    },
    {
      "cell_type": "code",
      "execution_count": null,
      "metadata": {
        "colab": {
          "base_uri": "https://localhost:8080/"
        },
        "id": "ntPdl2VA51D6",
        "outputId": "5bf0bfa9-126a-4241-8b9b-62dbd5752790"
      },
      "outputs": [
        {
          "output_type": "stream",
          "name": "stdout",
          "text": [
            "/content/drive/MyDrive/Colab Notebooks/github/Data Structure and Algorithm\n"
          ]
        }
      ],
      "source": [
        "%cd /content/drive/MyDrive/Colab Notebooks/github/Data Structure and Algorithm"
      ]
    },
    {
      "cell_type": "markdown",
      "source": [
        "스택에서 최솟값 O(1)로 조회하기(모든 요소 조회할 필요없이)"
      ],
      "metadata": {
        "id": "IkIIr4vpBBrT"
      }
    },
    {
      "cell_type": "code",
      "source": [
        "from stack_py import Stack\n",
        "\n",
        "class NodeWithMin(object):\n",
        "    def __init__(self, value=None, minimum=None):\n",
        "        self.value = value\n",
        "        self.minimum = minimum\n",
        "\n",
        "class StackMin(Stack):\n",
        "    def __init__(self):\n",
        "        self.items = []\n",
        "        self.minimum = None\n",
        "\n",
        "    def push(self, value):\n",
        "        if self.isEmpty() or self.minimum > value:      # 비어있거나 현 minimum 값보다 작으면\n",
        "            self.minimum = value\n",
        "        self.items.append(NodeWithMin(value, self.minimum))      # 한 노드에 value, minimum 값 묶어서 저장!\n",
        "    \n",
        "    def peek(self):\n",
        "        return self.items[-1].value     # 가장 마지막에 넣은 노드의 value 값\n",
        "\n",
        "    def peekMinimum(self):\n",
        "        return self.items[-1].minimum      # 가장 마지막에 넣은 노드의 minimum 값\n",
        "    \n",
        "    def pop(self):\n",
        "        item = self.items.pop()\n",
        "        if item:     \n",
        "            if item.value == self.minimum:     # 위에서 pop한 value가 minimum이었다면, 그 다음으로 작은 값을 minimum으로 대체!\n",
        "                self.minimum = self.peekMinimum()\n",
        "            return item.value\n",
        "        else:\n",
        "            print(\"Stack is empty.\")\n",
        "    \n",
        "    def __repr__(self):\n",
        "        aux = []\n",
        "        for i in self.items:\n",
        "            aux.append(i.value)\n",
        "        return repr(aux)\n",
        "\n",
        "if __name__ == \"__main__\":\n",
        "    stack = StackMin()\n",
        "    print(\"스택이 비었나요? {0}\".format(stack.isEmpty()))\n",
        "    print(\"스택에 숫자 10~1과 1~4를 추가합니다.\")\n",
        "    for i in range(10, 0, -1):    # 1씩 감소하며 push!\n",
        "        stack.push(i)\n",
        "    for i in range(1, 5):\n",
        "        stack.push(i)\n",
        "    print(stack)\n",
        "\n",
        "    print(\"스택 크기: {0}\".format(stack.size()))\n",
        "    print(\"peek: {0}\".format(stack.peek()))\n",
        "    print(\"peekMinimum: {0}\".format(stack.peekMinimum()))\n",
        "    print(\"pop: {0}\".format(stack.pop()))\n",
        "    print(\"peek: {0}\".format(stack.peek()))\n",
        "    print(\"peekMinimum: {0}\".format(stack.peekMinimum()))\n",
        "    print(\"스택이 비었나요? {0}\".format(stack.isEmpty()))\n",
        "    print(stack)"
      ],
      "metadata": {
        "colab": {
          "base_uri": "https://localhost:8080/"
        },
        "id": "_ag56ydk6VDI",
        "outputId": "dfb84ab8-ac5c-4f15-de4f-59d4999a8e53"
      },
      "execution_count": null,
      "outputs": [
        {
          "output_type": "stream",
          "name": "stdout",
          "text": [
            "스택이 비었나요? True\n",
            "스택에 숫자 10~1과 1~4를 추가합니다.\n",
            "[10, 9, 8, 7, 6, 5, 4, 3, 2, 1, 1, 2, 3, 4]\n",
            "스택 크기: 14\n",
            "peek: 4\n",
            "peekMinimum: 1\n",
            "pop: 4\n",
            "peek: 3\n",
            "peekMinimum: 1\n",
            "스택이 비었나요? False\n",
            "[10, 9, 8, 7, 6, 5, 4, 3, 2, 1, 1, 2, 3]\n"
          ]
        }
      ]
    },
    {
      "cell_type": "code",
      "source": [
        ""
      ],
      "metadata": {
        "id": "JtNfTlPd8f-p"
      },
      "execution_count": null,
      "outputs": []
    }
  ]
}