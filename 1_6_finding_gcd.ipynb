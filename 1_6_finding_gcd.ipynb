{
  "nbformat": 4,
  "nbformat_minor": 0,
  "metadata": {
    "colab": {
      "name": "1.6_finding_gcd.ipynb",
      "provenance": [],
      "authorship_tag": "ABX9TyNuuYC+5ZZ6RHubxvVcxgup",
      "include_colab_link": true
    },
    "kernelspec": {
      "name": "python3",
      "display_name": "Python 3"
    },
    "language_info": {
      "name": "python"
    }
  },
  "cells": [
    {
      "cell_type": "markdown",
      "metadata": {
        "id": "view-in-github",
        "colab_type": "text"
      },
      "source": [
        "<a href=\"https://colab.research.google.com/github/lala991204/Data-Structure-Algorithm/blob/master/1_6_finding_gcd.ipynb\" target=\"_parent\"><img src=\"https://colab.research.google.com/assets/colab-badge.svg\" alt=\"Open In Colab\"/></a>"
      ]
    },
    {
      "cell_type": "code",
      "execution_count": 1,
      "metadata": {
        "colab": {
          "base_uri": "https://localhost:8080/"
        },
        "id": "qx6IBpiX8RAv",
        "outputId": "b0301055-a856-4dac-d9f4-d47993c6817d"
      },
      "outputs": [
        {
          "output_type": "stream",
          "name": "stdout",
          "text": [
            "테스트 통과!\n"
          ]
        }
      ],
      "source": [
        "def finding_gcd(a, b):\n",
        "    while(b != 0):\n",
        "        result = b\n",
        "        a, b = b, a % b\n",
        "    return result\n",
        "\n",
        "def test_finding_gcd():\n",
        "    number1 = 21\n",
        "    number2 = 12\n",
        "    assert(finding_gcd(number1, number2) == 3)\n",
        "    print(\"테스트 통과!\")\n",
        "\n",
        "if __name__ == \"__main__\":\n",
        "    test_finding_gcd()"
      ]
    },
    {
      "cell_type": "code",
      "source": [
        ""
      ],
      "metadata": {
        "id": "wlD9cUUP8vKt"
      },
      "execution_count": null,
      "outputs": []
    }
  ]
}