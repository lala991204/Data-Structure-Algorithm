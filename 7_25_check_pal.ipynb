{
  "nbformat": 4,
  "nbformat_minor": 0,
  "metadata": {
    "colab": {
      "name": "7.25_check_pal.ipynb",
      "provenance": [],
      "collapsed_sections": [],
      "mount_file_id": "163A0KEsjwoIWUD81wHESuZnGXsWu2RDK",
      "authorship_tag": "ABX9TyNyqi7dezRecWsGjUR7Yx0E",
      "include_colab_link": true
    },
    "kernelspec": {
      "name": "python3",
      "display_name": "Python 3"
    },
    "language_info": {
      "name": "python"
    }
  },
  "cells": [
    {
      "cell_type": "markdown",
      "metadata": {
        "id": "view-in-github",
        "colab_type": "text"
      },
      "source": [
        "<a href=\"https://colab.research.google.com/github/lala991204/Data-Structure-Algorithm/blob/master/7_25_check_pal.ipynb\" target=\"_parent\"><img src=\"https://colab.research.google.com/assets/colab-badge.svg\" alt=\"Open In Colab\"/></a>"
      ]
    },
    {
      "cell_type": "code",
      "execution_count": 2,
      "metadata": {
        "colab": {
          "base_uri": "https://localhost:8080/"
        },
        "id": "vM3URKqnchbJ",
        "outputId": "7c21c723-522b-4f94-9fe2-4e7e5a290d8c"
      },
      "outputs": [
        {
          "output_type": "stream",
          "name": "stdout",
          "text": [
            "/content/drive/MyDrive/Colab Notebooks/github/Data Structure and Algorithm\n"
          ]
        }
      ],
      "source": [
        "%cd /content/drive/MyDrive/Colab Notebooks/github/Data Structure and Algorithm"
      ]
    },
    {
      "cell_type": "markdown",
      "source": [
        "다음 연결리스트가 회문인지 확인해보자."
      ],
      "metadata": {
        "id": "hWiJTUxIdqo1"
      }
    },
    {
      "cell_type": "code",
      "source": [
        "from linkedlist_fifo_py import LinkedListFIFO\n",
        "from node_py import Node\n",
        "\n",
        "def isPal(l1):\n",
        "    if len(l1) < 2:    \n",
        "        return True\n",
        "    if l1[0] != l1[-1]:   # 앞, 뒤에 있는 원소끼리 비교\n",
        "        return False\n",
        "    return isPal(l1[1:-1])   # 위에서 비교한 원소 두 개 제외하고 다시 진행.\n",
        "\n",
        "def checkllPal(ll):\n",
        "    node = ll.head     # head문 부터 탐색\n",
        "    l = []\n",
        "    while node is not None:  \n",
        "        l.append(node.value)\n",
        "        node = node.pointer\n",
        "\n",
        "    return isPal(l)\n",
        "\n",
        "def test_checkllPal():\n",
        "    ll = LinkedListFIFO()\n",
        "    l1 = [1, 2, 3, 2, 1]\n",
        "    for i in l1:\n",
        "        ll.addNode(i)\n",
        "    assert(checkllPal(ll) is True)\n",
        "\n",
        "    ll.addNode(2)\n",
        "    ll.addNode(3)\n",
        "    # ll._printList()      # 1 2 3 2 1 2 3\n",
        "    assert(checkllPal(ll) is False)\n",
        "\n",
        "    print(\"테스트 통과!\")\n",
        "\n",
        "if __name__ == \"__main__\":\n",
        "    test_checkllPal()"
      ],
      "metadata": {
        "colab": {
          "base_uri": "https://localhost:8080/"
        },
        "id": "TbgyMf6icxi6",
        "outputId": "14af43b1-b132-4443-d569-7cd330de484b"
      },
      "execution_count": 4,
      "outputs": [
        {
          "output_type": "stream",
          "name": "stdout",
          "text": [
            "1 2 3 2 1 2 3 \n",
            "테스트 통과!\n"
          ]
        }
      ]
    },
    {
      "cell_type": "code",
      "source": [
        ""
      ],
      "metadata": {
        "id": "0coa3z54dreD"
      },
      "execution_count": null,
      "outputs": []
    }
  ]
}