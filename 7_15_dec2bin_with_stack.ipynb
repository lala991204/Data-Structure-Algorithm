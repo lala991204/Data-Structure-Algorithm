{
  "nbformat": 4,
  "nbformat_minor": 0,
  "metadata": {
    "colab": {
      "name": "7.15_dec2bin_with_stack.ipynb",
      "provenance": [],
      "collapsed_sections": [],
      "toc_visible": true,
      "mount_file_id": "1IIadwNMH5MAVV6_6so1rtle9aK2nuHwI",
      "authorship_tag": "ABX9TyNlRO8Xk6WhzjoobdwGi2m8",
      "include_colab_link": true
    },
    "kernelspec": {
      "name": "python3",
      "display_name": "Python 3"
    },
    "language_info": {
      "name": "python"
    }
  },
  "cells": [
    {
      "cell_type": "markdown",
      "metadata": {
        "id": "view-in-github",
        "colab_type": "text"
      },
      "source": [
        "<a href=\"https://colab.research.google.com/github/lala991204/Data-Structure-Algorithm/blob/master/7_15_dec2bin_with_stack.ipynb\" target=\"_parent\"><img src=\"https://colab.research.google.com/assets/colab-badge.svg\" alt=\"Open In Colab\"/></a>"
      ]
    },
    {
      "cell_type": "code",
      "execution_count": null,
      "metadata": {
        "colab": {
          "base_uri": "https://localhost:8080/"
        },
        "id": "hVJHA1Wh47m0",
        "outputId": "44b313db-17b4-480e-d864-d506b142285e"
      },
      "outputs": [
        {
          "output_type": "stream",
          "name": "stdout",
          "text": [
            "/content/drive/MyDrive/Colab Notebooks/github/Data Structure and Algorithm\n"
          ]
        }
      ],
      "source": [
        "%cd /content/drive/MyDrive/Colab Notebooks/github/Data Structure and Algorithm"
      ]
    },
    {
      "cell_type": "markdown",
      "source": [
        "스택을 이용하여 10진수를 2진수로 변환해보자."
      ],
      "metadata": {
        "id": "jx5_EI4lAdpk"
      }
    },
    {
      "cell_type": "code",
      "source": [
        "from stack_py import Stack\n",
        "\n",
        "def dec2bin_with_stack(decnum):\n",
        "    s = Stack()\n",
        "    str_aux = \"\"      # 빈 문자열\n",
        "\n",
        "    while decnum > 0:\n",
        "        dig = decnum % 2          # 2로 나눈 나머지\n",
        "        decnum = decnum // 2\n",
        "        s.push(dig)\n",
        "\n",
        "    while not s.isEmpty():\n",
        "        str_aux += str(s.pop())\n",
        "    \n",
        "    return str_aux\n",
        "\n",
        "if __name__ == \"__main__\":\n",
        "    decnum = 9\n",
        "    print(dec2bin_with_stack(decnum))"
      ],
      "metadata": {
        "colab": {
          "base_uri": "https://localhost:8080/"
        },
        "id": "RMESMt4M5FjG",
        "outputId": "ce407d98-618c-4234-94d2-d86cbe191a9a"
      },
      "execution_count": null,
      "outputs": [
        {
          "output_type": "stream",
          "name": "stdout",
          "text": [
            "1001\n"
          ]
        }
      ]
    },
    {
      "cell_type": "code",
      "source": [
        ""
      ],
      "metadata": {
        "id": "AZP0e14_5iP_"
      },
      "execution_count": null,
      "outputs": []
    }
  ]
}