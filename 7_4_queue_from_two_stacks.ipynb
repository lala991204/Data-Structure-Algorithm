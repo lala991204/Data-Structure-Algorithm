{
  "nbformat": 4,
  "nbformat_minor": 0,
  "metadata": {
    "colab": {
      "name": "7.4_queue_from_two_stacks.ipynb",
      "provenance": [],
      "collapsed_sections": [],
      "authorship_tag": "ABX9TyNr+VOtgZfPCDa5wkadeBGH",
      "include_colab_link": true
    },
    "kernelspec": {
      "name": "python3",
      "display_name": "Python 3"
    },
    "language_info": {
      "name": "python"
    }
  },
  "cells": [
    {
      "cell_type": "markdown",
      "metadata": {
        "id": "view-in-github",
        "colab_type": "text"
      },
      "source": [
        "<a href=\"https://colab.research.google.com/github/lala991204/Data-Structure-Algorithm/blob/master/7_4_queue_from_two_stacks.ipynb\" target=\"_parent\"><img src=\"https://colab.research.google.com/assets/colab-badge.svg\" alt=\"Open In Colab\"/></a>"
      ]
    },
    {
      "cell_type": "code",
      "execution_count": 1,
      "metadata": {
        "colab": {
          "base_uri": "https://localhost:8080/"
        },
        "id": "tuhkmC-MFz-i",
        "outputId": "6a893372-c516-42cd-bb3a-d0935f5c4533"
      },
      "outputs": [
        {
          "output_type": "stream",
          "name": "stdout",
          "text": [
            "큐가 비었나요? True\n",
            "큐에 숫자 0~9를 추가합니다.\n",
            "큐 크기: 10\n",
            "peek: 0\n",
            "dequeue: 0\n",
            "peek: 1\n",
            "큐가 비었나요?: False\n",
            "[9, 8, 7, 6, 5, 4, 3, 2, 1]\n"
          ]
        }
      ],
      "source": [
        "# 두 개의 스택(두 개의 리스트) 사용하면 효율적임 \n",
        "# --> insert 대신 입력받은 내용을 pop을 이용하여 뒤집어 또 다른 리스트에 넣어 진행.\n",
        "\n",
        "class Queue(object):\n",
        "    def __init__(self):\n",
        "        self.in_stack = []\n",
        "        self.out_stack = []\n",
        "\n",
        "    def _transfer(self):\n",
        "        while self.in_stack:          # in_stack의 내용물을 모두 out_stack으로 전달\n",
        "            self.out_stack.append(self.in_stack.pop())\n",
        "\n",
        "    def enqueue(self, item):\n",
        "        return self.in_stack.append(item)\n",
        "\n",
        "    def dequeue(self):\n",
        "        if not self.out_stack:       # in_stack으로부터 전달 받은 후, pop()\n",
        "            self._transfer()\n",
        "        if self.out_stack:\n",
        "            return self.out_stack.pop()\n",
        "        else:\n",
        "            print(\"Queue is empty!\")\n",
        "    \n",
        "    def size(self):\n",
        "        return len(self.in_stack) + len(self.out_stack)\n",
        "\n",
        "    def peek(self):\n",
        "        if not self.out_stack:        # in_stack으로부터 전달 받은 후, peek!\n",
        "            self._transfer()\n",
        "        if self.out_stack:\n",
        "            return self.out_stack[-1]\n",
        "        else:\n",
        "            print(\"Queue is empty!\")\n",
        "\n",
        "    def __repr__(self):\n",
        "        if not self.out_stack:\n",
        "            self._transfer()\n",
        "        if self.out_stack:\n",
        "            return repr(self.out_stack)\n",
        "        else:\n",
        "            print(\"Queue is empty!\")\n",
        "\n",
        "    def isEmpty(self):\n",
        "        return not (bool(self.in_stack) or bool(self.out_stack))      # 두 곳 모두 없으면 empty\n",
        "\n",
        "\n",
        "if __name__ == \"__main__\":\n",
        "    queue = Queue()\n",
        "    print(\"큐가 비었나요? {0}\".format(queue.isEmpty()))\n",
        "    print(\"큐에 숫자 0~9를 추가합니다.\")\n",
        "    for i in range(10):\n",
        "        queue.enqueue(i)\n",
        "    print(\"큐 크기: {0}\".format(queue.size()))\n",
        "    print(\"peek: {0}\".format(queue.peek()))\n",
        "    print(\"dequeue: {0}\".format(queue.dequeue()))\n",
        "    print(\"peek: {0}\".format(queue.peek()))\n",
        "    print(\"큐가 비었나요?: {0}\".format(queue.isEmpty()))\n",
        "    print(queue)"
      ]
    },
    {
      "cell_type": "code",
      "source": [
        ""
      ],
      "metadata": {
        "id": "LrJByiCAIN5f"
      },
      "execution_count": null,
      "outputs": []
    }
  ]
}