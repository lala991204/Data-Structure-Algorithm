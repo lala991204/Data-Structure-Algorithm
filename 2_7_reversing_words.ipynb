{
  "nbformat": 4,
  "nbformat_minor": 0,
  "metadata": {
    "colab": {
      "name": "2.7_reversing_words.ipynb",
      "provenance": [],
      "collapsed_sections": [],
      "authorship_tag": "ABX9TyNI457PIhXegp+O4BWwF//b",
      "include_colab_link": true
    },
    "kernelspec": {
      "name": "python3",
      "display_name": "Python 3"
    },
    "language_info": {
      "name": "python"
    }
  },
  "cells": [
    {
      "cell_type": "markdown",
      "metadata": {
        "id": "view-in-github",
        "colab_type": "text"
      },
      "source": [
        "<a href=\"https://colab.research.google.com/github/lala991204/Data-Structure-Algorithm/blob/master/2_7_reversing_words.ipynb\" target=\"_parent\"><img src=\"https://colab.research.google.com/assets/colab-badge.svg\" alt=\"Open In Colab\"/></a>"
      ]
    },
    {
      "cell_type": "code",
      "execution_count": 2,
      "metadata": {
        "colab": {
          "base_uri": "https://localhost:8080/"
        },
        "id": "SvRq0oDbP1U4",
        "outputId": "5f1d79cf-8d80-4432-ccaa-22c5b37724c6"
      },
      "outputs": [
        {
          "output_type": "stream",
          "name": "stdout",
          "text": [
            "재미있다 정말 알고리즘 파이썬\n",
            "재미있다 정말 알고리즘 파이썬\n"
          ]
        }
      ],
      "source": [
        "## 반복문 없이\n",
        "def reversing_words(str1):\n",
        "    words = str1.split(\" \")\n",
        "    rev_set = \" \".join(reversed(words))     # join과 reversed 같이 쓰는 경우\n",
        "    return rev_set\n",
        "\n",
        "def reversing_words2(str1):\n",
        "    words = str1.split(\" \")\n",
        "    words.reverse()\n",
        "    return \" \".join(words)      # join과 reversed 따로 쓰는 경우\n",
        "\n",
        "if __name__ == \"__main__\":\n",
        "    str1 = \"파이썬 알고리즘 정말 재미있다\"\n",
        "    str2 = reversing_words(str1)\n",
        "    str3 = reversing_words(str1)\n",
        "    print(str2)\n",
        "    print(str3)"
      ]
    },
    {
      "cell_type": "code",
      "source": [
        "str1 = \"파이썬 알고리즘 정말 재미있다\"\n",
        "str1.split(\" \")"
      ],
      "metadata": {
        "colab": {
          "base_uri": "https://localhost:8080/"
        },
        "id": "ltOSM0xmQCGo",
        "outputId": "3b5af4b7-30ca-40a6-819a-1176558c9ad6"
      },
      "execution_count": 3,
      "outputs": [
        {
          "output_type": "execute_result",
          "data": {
            "text/plain": [
              "['파이썬', '알고리즘', '정말', '재미있다']"
            ]
          },
          "metadata": {},
          "execution_count": 3
        }
      ]
    },
    {
      "cell_type": "code",
      "source": [
        ""
      ],
      "metadata": {
        "id": "JnNJMRoMRKbK"
      },
      "execution_count": null,
      "outputs": []
    }
  ]
}