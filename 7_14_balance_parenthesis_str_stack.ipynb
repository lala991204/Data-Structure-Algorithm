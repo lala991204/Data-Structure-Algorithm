{
  "nbformat": 4,
  "nbformat_minor": 0,
  "metadata": {
    "colab": {
      "name": "7.14_balance_parenthesis_str_stack.ipynb",
      "provenance": [],
      "collapsed_sections": [],
      "toc_visible": true,
      "mount_file_id": "1wjujMAsNGoXjyvmyfYZ9HmGZ-I11Hb9m",
      "authorship_tag": "ABX9TyPiAUw/wlJw6lcryg2EIzYA",
      "include_colab_link": true
    },
    "kernelspec": {
      "name": "python3",
      "display_name": "Python 3"
    },
    "language_info": {
      "name": "python"
    }
  },
  "cells": [
    {
      "cell_type": "markdown",
      "metadata": {
        "id": "view-in-github",
        "colab_type": "text"
      },
      "source": [
        "<a href=\"https://colab.research.google.com/github/lala991204/Data-Structure-Algorithm/blob/master/7_14_balance_parenthesis_str_stack.ipynb\" target=\"_parent\"><img src=\"https://colab.research.google.com/assets/colab-badge.svg\" alt=\"Open In Colab\"/></a>"
      ]
    },
    {
      "cell_type": "code",
      "execution_count": null,
      "metadata": {
        "colab": {
          "base_uri": "https://localhost:8080/"
        },
        "id": "3Azkamzy3gYP",
        "outputId": "fa2e5a4a-3843-4147-e28f-9ae3ab3b6367"
      },
      "outputs": [
        {
          "output_type": "stream",
          "name": "stdout",
          "text": [
            "/content/drive/MyDrive/Colab Notebooks/github/Data Structure and Algorithm\n"
          ]
        }
      ],
      "source": [
        "%cd /content/drive/MyDrive/Colab Notebooks/github/Data Structure and Algorithm"
      ]
    },
    {
      "cell_type": "markdown",
      "source": [
        "스택을 사용하면 괄호의 균형이 맞는지(여는 괄호와 닫는 괄호의 수가 일치하는지) 쉽게 확인 가능하다."
      ],
      "metadata": {
        "id": "R2VyOinA_Pwb"
      }
    },
    {
      "cell_type": "code",
      "source": [
        "from stack_py import Stack\n",
        "\n",
        "def balance_par_str_with_stack(str1):\n",
        "    s = Stack()\n",
        "    balanced = True\n",
        "    index = 0\n",
        "\n",
        "    while index < len(str1) and balanced:    # 문자열의 길이를 벗어나지 않고 밸런스가 맞는 동안 진행.\n",
        "        symbol = str1[index]\n",
        "\n",
        "        if symbol == \"(\":\n",
        "            s.push(symbol)\n",
        "\n",
        "        else:                    # symbol = \")\"가 들어있거나 처음부터 \"(\"가 들어있지 않으면\n",
        "            if s.isEmpty():\n",
        "                balanced = False\n",
        "            else:\n",
        "                s.pop()       # 괄호의 짝이 나오면 pop!!\n",
        "\n",
        "        index = index + 1\n",
        "    \n",
        "    if balanced and s.isEmpty():\n",
        "        return True       \n",
        "    \n",
        "    else:\n",
        "        return False\n",
        "\n",
        "if __name__ == \"__main__\":\n",
        "    print(balance_par_str_with_stack('((()))'))\n",
        "    print(balance_par_str_with_stack('(()'))"
      ],
      "metadata": {
        "colab": {
          "base_uri": "https://localhost:8080/"
        },
        "id": "2VeSHOYC4FMt",
        "outputId": "729e9509-505c-4c90-c3a3-1008b788dc15"
      },
      "execution_count": null,
      "outputs": [
        {
          "output_type": "stream",
          "name": "stdout",
          "text": [
            "True\n",
            "False\n"
          ]
        }
      ]
    },
    {
      "cell_type": "code",
      "source": [
        ""
      ],
      "metadata": {
        "id": "eaq4O-kq4xWj"
      },
      "execution_count": null,
      "outputs": []
    }
  ]
}