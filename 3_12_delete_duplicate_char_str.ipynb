{
  "nbformat": 4,
  "nbformat_minor": 0,
  "metadata": {
    "colab": {
      "name": "3.12_delete_duplicate_char_str.ipynb",
      "provenance": [],
      "collapsed_sections": [],
      "authorship_tag": "ABX9TyNMOKlI/ecc1FBfG97zBPb5",
      "include_colab_link": true
    },
    "kernelspec": {
      "name": "python3",
      "display_name": "Python 3"
    },
    "language_info": {
      "name": "python"
    }
  },
  "cells": [
    {
      "cell_type": "markdown",
      "metadata": {
        "id": "view-in-github",
        "colab_type": "text"
      },
      "source": [
        "<a href=\"https://colab.research.google.com/github/lala991204/Data-Structure-Algorithm/blob/master/3_12_delete_duplicate_char_str.ipynb\" target=\"_parent\"><img src=\"https://colab.research.google.com/assets/colab-badge.svg\" alt=\"Open In Colab\"/></a>"
      ]
    },
    {
      "cell_type": "code",
      "execution_count": 1,
      "metadata": {
        "colab": {
          "base_uri": "https://localhost:8080/"
        },
        "id": "cw91HmTMtnq1",
        "outputId": "4c407563-6f1d-4dc0-ba36-6d89a4706b7e"
      },
      "outputs": [
        {
          "output_type": "stream",
          "name": "stdout",
          "text": [
            "테스트 통과!\n"
          ]
        }
      ],
      "source": [
        "import string\n",
        "\n",
        "def delete_unique_word(str1):\n",
        "    table_c = {key: 0 for key in string.ascii_lowercase}     # a~z 소문자를 모두 모아둠\n",
        "    for i in str1:\n",
        "        table_c[i] += 1          # counting 후에\n",
        "    for key, value in table_c.items():\n",
        "        if value > 1:\n",
        "            str1 = str1.replace(key, \"\")         # 중복이 있다면, 해당 key 값을 제거\n",
        "    return str1\n",
        "\n",
        "def test_delete_unique_word():\n",
        "    str1 = \"google\"\n",
        "    assert(delete_unique_word(str1) == \"le\")\n",
        "    print(\"테스트 통과!\")\n",
        "\n",
        "if __name__ == \"__main__\":\n",
        "    test_delete_unique_word()"
      ]
    },
    {
      "cell_type": "code",
      "source": [
        ""
      ],
      "metadata": {
        "id": "AWLDUOkvuQA7"
      },
      "execution_count": null,
      "outputs": []
    }
  ]
}