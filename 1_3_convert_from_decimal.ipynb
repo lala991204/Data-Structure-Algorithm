{
  "nbformat": 4,
  "nbformat_minor": 0,
  "metadata": {
    "colab": {
      "name": "1.3_convert_from_decimal.ipynb",
      "provenance": [],
      "collapsed_sections": [],
      "authorship_tag": "ABX9TyOnVd8GaGF0Uc44BdvleM0w",
      "include_colab_link": true
    },
    "kernelspec": {
      "name": "python3",
      "display_name": "Python 3"
    },
    "language_info": {
      "name": "python"
    }
  },
  "cells": [
    {
      "cell_type": "markdown",
      "metadata": {
        "id": "view-in-github",
        "colab_type": "text"
      },
      "source": [
        "<a href=\"https://colab.research.google.com/github/lala991204/Data-Structure-Algorithm/blob/master/1_3_convert_from_decimal.ipynb\" target=\"_parent\"><img src=\"https://colab.research.google.com/assets/colab-badge.svg\" alt=\"Open In Colab\"/></a>"
      ]
    },
    {
      "cell_type": "code",
      "execution_count": 1,
      "metadata": {
        "colab": {
          "base_uri": "https://localhost:8080/"
        },
        "id": "6Zw0b_mohKH5",
        "outputId": "6f014897-8e8c-4d2e-8163-c1c765d0a579"
      },
      "outputs": [
        {
          "output_type": "stream",
          "name": "stdout",
          "text": [
            "테스트 통과!\n"
          ]
        }
      ],
      "source": [
        "# 10진수를 다른 진법으로 변환하는 함수 (2<=base<=10)\n",
        "def convert_from_decimal(number, base):\n",
        "    multiplier, result = 1, 0\n",
        "    while number > 0:\n",
        "        result += number % base * multiplier\n",
        "        multiplier *= 10\n",
        "        number = number // base\n",
        "    return result\n",
        "\n",
        "def test_convert_from_decimal():\n",
        "    number, base = 9, 2\n",
        "    assert(convert_from_decimal(number, base) == 1001)\n",
        "    print(\"테스트 통과!\")\n",
        "\n",
        "if __name__ == \"__main__\":\n",
        "    test_convert_from_decimal()"
      ]
    },
    {
      "cell_type": "code",
      "source": [
        ""
      ],
      "metadata": {
        "id": "bqMLqSfzlqlw"
      },
      "execution_count": null,
      "outputs": []
    }
  ]
}