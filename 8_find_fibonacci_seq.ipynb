{
  "nbformat": 4,
  "nbformat_minor": 0,
  "metadata": {
    "colab": {
      "name": "8_find_fibonacci_seq.ipynb",
      "provenance": [],
      "collapsed_sections": [],
      "toc_visible": true,
      "authorship_tag": "ABX9TyM3XJ8hH/KcFgKPqVKT25ht",
      "include_colab_link": true
    },
    "kernelspec": {
      "name": "python3",
      "display_name": "Python 3"
    },
    "language_info": {
      "name": "python"
    }
  },
  "cells": [
    {
      "cell_type": "markdown",
      "metadata": {
        "id": "view-in-github",
        "colab_type": "text"
      },
      "source": [
        "<a href=\"https://colab.research.google.com/github/lala991204/Data-Structure-Algorithm/blob/master/8_find_fibonacci_seq.ipynb\" target=\"_parent\"><img src=\"https://colab.research.google.com/assets/colab-badge.svg\" alt=\"Open In Colab\"/></a>"
      ]
    },
    {
      "cell_type": "code",
      "execution_count": null,
      "metadata": {
        "id": "S2hDLWwWq17r"
      },
      "outputs": [],
      "source": [
        "def find_fibonacci_seq_rec(n):\n",
        "    if n < 2:\n",
        "        return n\n",
        "    return find_fibonacci_seq_rec(n - 1) + find_fibonacci_seq_rec(n - 2)\n",
        "\n",
        "if __name__ == \"__main__\":\n",
        "    print(find_fibonacci_seq_rec(5))"
      ]
    }
  ]
}