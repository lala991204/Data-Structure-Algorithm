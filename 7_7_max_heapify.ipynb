{
  "nbformat": 4,
  "nbformat_minor": 0,
  "metadata": {
    "colab": {
      "name": "7.7_max_heapify.ipynb",
      "provenance": [],
      "collapsed_sections": [],
      "toc_visible": true,
      "authorship_tag": "ABX9TyO87n8i7/NSzN3cOmgJZjWo",
      "include_colab_link": true
    },
    "kernelspec": {
      "name": "python3",
      "display_name": "Python 3"
    },
    "language_info": {
      "name": "python"
    }
  },
  "cells": [
    {
      "cell_type": "markdown",
      "metadata": {
        "id": "view-in-github",
        "colab_type": "text"
      },
      "source": [
        "<a href=\"https://colab.research.google.com/github/lala991204/Data-Structure-Algorithm/blob/master/7_7_max_heapify.ipynb\" target=\"_parent\"><img src=\"https://colab.research.google.com/assets/colab-badge.svg\" alt=\"Open In Colab\"/></a>"
      ]
    },
    {
      "cell_type": "markdown",
      "source": [
        "우선순위 큐는 일반 스택과 큐와 비슷한 추상 데이터 타입이지만, 각 항목마다 연관된 우선순위가 있다.(힙을 사용하여 구현함)  \\\\\n",
        "두 항목의 우선순위가 같으면, 큐의 순서를 따른다."
      ],
      "metadata": {
        "id": "1uNDM4t3qwvt"
      }
    },
    {
      "cell_type": "markdown",
      "source": [
        "힙은 각 노드가 하위 노드보다 작은(or 큰) 이진 트리이다.\n",
        "일반적으로 리스트에서 가장 작은(or 가장 큰) 요소에 반복적으로 접근하는 프로그램에 유용하며, 최소(최대) 힙을 사용하면 가장 작은(가장 큰) 요소를 처리하는 시간복잡도는 O(1)이고 그 외의 조회,추가,수정을 처리하는 시간복잡도는 O(log n)이다."
      ],
      "metadata": {
        "id": "bGWRphT8q8l2"
      }
    },
    {
      "cell_type": "code",
      "execution_count": null,
      "metadata": {
        "colab": {
          "base_uri": "https://localhost:8080/"
        },
        "id": "dM0tjrH9mkzL",
        "outputId": "a68736b1-21b6-406b-f09b-f4835f4650c6"
      },
      "outputs": [
        {
          "output_type": "execute_result",
          "data": {
            "text/plain": [
              "[1, 4, 8, 6]"
            ]
          },
          "metadata": {},
          "execution_count": 4
        }
      ],
      "source": [
        "# heapq 모듈은 효율적으로 시퀀스를 힙으로 유지하면서 항목 삽입/제거 함수 제공\n",
        "# heapq.heapify()는 O(n) 시간에 리스트를 힙으로 변환 가능\n",
        "\n",
        "import heapq\n",
        "\n",
        "list1 = [4, 6, 8, 1]\n",
        "heapq.heapify(list1)\n",
        "list1"
      ]
    },
    {
      "cell_type": "code",
      "source": [
        "# 항목을 힙에 삽입\n",
        "h = []\n",
        "heapq.heappush(h, (1, 'food'))     # h: heap, (1, 'food'):item\n",
        "heapq.heappush(h, (2, 'have fun'))\n",
        "heapq.heappush(h, (3, 'work'))\n",
        "heapq.heappush(h, (4, 'study'))"
      ],
      "metadata": {
        "id": "YcFiEON5qXr3"
      },
      "execution_count": null,
      "outputs": []
    },
    {
      "cell_type": "code",
      "source": [
        "print(list1)\n",
        "print(heapq.heappop(list1))   # 힙에서 가장 작은 항목 제거하고 반환함\n",
        "print(list1)"
      ],
      "metadata": {
        "colab": {
          "base_uri": "https://localhost:8080/"
        },
        "id": "K9Vp8Ff0qzhW",
        "outputId": "92b6c798-515a-49a8-9e91-c4f8098badd9"
      },
      "execution_count": null,
      "outputs": [
        {
          "output_type": "stream",
          "name": "stdout",
          "text": [
            "[1, 4, 8, 6]\n",
            "1\n",
            "[4, 6, 8]\n"
          ]
        }
      ]
    },
    {
      "cell_type": "markdown",
      "source": [
        "heapq.heappushpop(heap, item)은 새 항목을 힙에 추가한 후, 가장 작은 항목을 제거하고 반환하며, heapq.heapreplace(heap, item)는 힙의 가장 작은 항목을 제거하고 반환한 후, 새 항목 추가함"
      ],
      "metadata": {
        "id": "k7CEhBxBtR1K"
      }
    },
    {
      "cell_type": "code",
      "source": [
        "# 여러 개의 정렬된 반복 가능한 객체를 병합하여 하나의 정렬된 이터레이터 반환\n",
        "for x in heapq.merge([1,3,5],[2,4,6]):\n",
        "    print(x)"
      ],
      "metadata": {
        "colab": {
          "base_uri": "https://localhost:8080/"
        },
        "id": "lGMAxCHVrBf_",
        "outputId": "4ad2aafd-c652-4ede-d73c-3a6bdc1a2a20"
      },
      "execution_count": null,
      "outputs": [
        {
          "output_type": "stream",
          "name": "stdout",
          "text": [
            "1\n",
            "2\n",
            "3\n",
            "4\n",
            "5\n",
            "6\n"
          ]
        }
      ]
    },
    {
      "cell_type": "markdown",
      "source": [
        "heapq.nlargest(n, iterable[, key])와 heapq.nsmallest(n, iterable[, key])는 데이터(반복 가능한 객체에 의해 정의된)에서 n개의 가장 큰 요소와 가장 작은 요소가 있는 리스트 반환함"
      ],
      "metadata": {
        "id": "b0QQII1ctkkf"
      }
    },
    {
      "cell_type": "code",
      "source": [
        "heapq.nlargest(1, [1,3,-4,10])"
      ],
      "metadata": {
        "colab": {
          "base_uri": "https://localhost:8080/"
        },
        "id": "9Ead4vnbtrou",
        "outputId": "d9e0db1e-771f-408c-abc6-94827a71ba63"
      },
      "execution_count": null,
      "outputs": [
        {
          "output_type": "execute_result",
          "data": {
            "text/plain": [
              "[10]"
            ]
          },
          "metadata": {},
          "execution_count": 22
        }
      ]
    },
    {
      "cell_type": "markdown",
      "source": [
        "# 최대 힙 구현하기"
      ],
      "metadata": {
        "id": "XnQUh2dsv2mf"
      }
    },
    {
      "cell_type": "code",
      "source": [
        "class Heapify(object):\n",
        "    def __init__(self, data=None):\n",
        "        self.data = data or []\n",
        "        for i in range(len(data)//2, -1, -1):   # 전체 배열의 길이의 1/2부터 0까지 1씩 감소하며 진행\n",
        "            self.__max_heapify__(i)\n",
        "    \n",
        "    def __repr__(self):\n",
        "        return repr(self.data)\n",
        "\n",
        "    def parent(self, i):\n",
        "# 비트연산자 '&'(각 자리끼리 비교/둘 다 1일때는 1, 나머지는 0)은 i가 2진수로 변환되고, '1' 역시 i의 길이만큼 앞에 0이 붙게 되며 이를 비교할 때 값이 0이면 False, 1이면 True.\n",
        "        if i & 1:  # 즉, 홀수이면, 2진수의 끝이 0, 짝수이면 1이되어 True는 홀수일 때!!\n",
        "            return i >> 1    # 비트 연산자 '>> 1'는 '*(1/2^1)'를 한 것과 동일  --> 몫\n",
        "        else:\n",
        "            return (i >> 1) - 1\n",
        "    \n",
        "    def left_child(self, i):\n",
        "        return (i << 1) + 1    # 비트 연산자 '<< 1'는 '*(2^1)'를 한 것과 동일\n",
        "\n",
        "    def right_child(self, i):\n",
        "        return (i << 1) + 2\n",
        "    \n",
        "    def __max_heapify__(self, i):\n",
        "        largest = i         # 현재 노드\n",
        "        left = self.left_child(i)\n",
        "        right = self.right_child(i)\n",
        "        n = len(self.data)\n",
        "\n",
        "        # 왼쪽 자식\n",
        "        largest = (left < n and self.data[left] > self.data[i]) and left or i      # 괄호 안에서 크기 비교한 후, 그 결과에 따라 뒤의 값 중 하나를 넣는 것인듯함.\n",
        "        # 오른쪽 자식\n",
        "        largest = (right < n and self.data[right] > self.data[largest]) and right or largest\n",
        "\n",
        "        # 현재 노드가 자식들보다 크다면 Skip, 자식이 크다면 Swap\n",
        "        if i is not largest:\n",
        "            self.data[i], self.data[largest] = self.data[largest], self.data[i]\n",
        "\n",
        "            # print(self.data)\n",
        "            self.__max_heapify__(largest)     # Swap 후에도 계속 진행(자식이 더 이상 없으면 )\n",
        "\n",
        "    ## 최대 힙에서 최대값 추출 및 삭제 과정\n",
        "    def extract_max(self):    \n",
        "        n = len(self.data)\n",
        "        max_element = self.data[0]     # 힙의 루트 노드 값을 따로 저장\n",
        "\n",
        "        self.data[0] = self.data[n-1]    # 첫 번째 노드에 마지막 노드 삽입\n",
        "        self.data = self.data[:n-1]      # 마지막 노드 제외하고 저장\n",
        "        self.__max_heapify__(0)          # 현재 0번째 노드보다 큰 값이 있는지 찾는다!(있으면 교환하고, 없으면 프로그램 종료)\n",
        "        return max_element        \n",
        "\n",
        "    def insert(self, item):\n",
        "        i = len(self.data)\n",
        "        self.data.append(item)   # 전달받은 item이 data에 저장되도록 함.\n",
        "        while (i != 0) and item > self.data[self.parent(i)]:   # 맨 꼭대기가 아니고, 부모보다 그 값이 크면 계속 진행함\n",
        "            print(self.data)\n",
        "            self.data[i] = self.data[self.parent(i)]    # Swap\n",
        "            i = self.parent(i)     # Swap\n",
        "        self.data[i] = item     # 찾은 최대 힙 자리에서 item을 insert함\n",
        "\n",
        "\n",
        "\n",
        "\n",
        "def test_heapify():\n",
        "    l1 = [3, 2, 5, 1, 7, 8, 2]\n",
        "    h = Heapify(l1)\n",
        "    assert(h.extract_max() == 8)\n",
        "    print(\"테스트 통과!\")\n",
        "\n",
        "    \n",
        "if __name__ == \"__main__\":\n",
        "    test_heapify()"
      ],
      "metadata": {
        "colab": {
          "base_uri": "https://localhost:8080/"
        },
        "id": "j5vcMbaQrHTb",
        "outputId": "86b81265-a5ec-4e47-b239-5327f3861d25"
      },
      "execution_count": 10,
      "outputs": [
        {
          "output_type": "stream",
          "name": "stdout",
          "text": [
            "테스트 통과!\n"
          ]
        }
      ]
    },
    {
      "cell_type": "code",
      "source": [
        ""
      ],
      "metadata": {
        "id": "jO5wSc_nN0MR"
      },
      "execution_count": null,
      "outputs": []
    }
  ]
}