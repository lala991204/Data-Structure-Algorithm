{
  "nbformat": 4,
  "nbformat_minor": 0,
  "metadata": {
    "colab": {
      "name": "1.9_find_fibonacci_by_generator.ipynb",
      "provenance": [],
      "authorship_tag": "ABX9TyOkN7fQ7Maiv5T37RDWyQsL",
      "include_colab_link": true
    },
    "kernelspec": {
      "name": "python3",
      "display_name": "Python 3"
    },
    "language_info": {
      "name": "python"
    }
  },
  "cells": [
    {
      "cell_type": "markdown",
      "metadata": {
        "id": "view-in-github",
        "colab_type": "text"
      },
      "source": [
        "<a href=\"https://colab.research.google.com/github/lala991204/Data-Structure-Algorithm/blob/master/1_9_find_fibonacci_by_generator.ipynb\" target=\"_parent\"><img src=\"https://colab.research.google.com/assets/colab-badge.svg\" alt=\"Open In Colab\"/></a>"
      ]
    },
    {
      "cell_type": "code",
      "execution_count": 3,
      "metadata": {
        "colab": {
          "base_uri": "https://localhost:8080/"
        },
        "id": "3xaJ2WQPEQ6E",
        "outputId": "bcc91b8b-ce70-4c06-e14e-af1841e28238"
      },
      "outputs": [
        {
          "output_type": "stream",
          "name": "stdout",
          "text": [
            "1 1 2 3 5 8 13 21 34 55 "
          ]
        }
      ],
      "source": [
        "# generator: python's sequence를 생성하는 객체\n",
        "# 제너레이터 사용해서 피보나치 수열 구하기\n",
        "def fib_generator():\n",
        "    a, b = 0, 1\n",
        "    while True:\n",
        "        yield b\n",
        "        a, b = b, a+b\n",
        "\n",
        "if __name__ == \"__main__\":\n",
        "    fg = fib_generator()\n",
        "    for _ in range(10):\n",
        "        print(next(fg), end=\" \")"
      ]
    },
    {
      "cell_type": "code",
      "source": [
        ""
      ],
      "metadata": {
        "id": "zC_YUl2kFSHh"
      },
      "execution_count": null,
      "outputs": []
    }
  ]
}