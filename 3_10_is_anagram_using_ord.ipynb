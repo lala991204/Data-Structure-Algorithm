{
  "nbformat": 4,
  "nbformat_minor": 0,
  "metadata": {
    "colab": {
      "name": "3.10_is_anagram_using_ord.ipynb",
      "provenance": [],
      "collapsed_sections": [],
      "authorship_tag": "ABX9TyPmUG54zNMbb+clQJy0iXpz",
      "include_colab_link": true
    },
    "kernelspec": {
      "name": "python3",
      "display_name": "Python 3"
    },
    "language_info": {
      "name": "python"
    }
  },
  "cells": [
    {
      "cell_type": "markdown",
      "metadata": {
        "id": "view-in-github",
        "colab_type": "text"
      },
      "source": [
        "<a href=\"https://colab.research.google.com/github/lala991204/Data-Structure-Algorithm/blob/master/3_10_is_anagram_using_ord.ipynb\" target=\"_parent\"><img src=\"https://colab.research.google.com/assets/colab-badge.svg\" alt=\"Open In Colab\"/></a>"
      ]
    },
    {
      "cell_type": "code",
      "execution_count": 2,
      "metadata": {
        "colab": {
          "base_uri": "https://localhost:8080/"
        },
        "id": "mb3HcEb4rD0x",
        "outputId": "96bd76e3-9b7c-4dff-b81d-ab895317ff22"
      },
      "outputs": [
        {
          "output_type": "stream",
          "name": "stdout",
          "text": [
            "테스트 통과!\n"
          ]
        }
      ],
      "source": [
        "# 두 문자열이 애너그램인지 확인하기(by 해시 함수의 속성)\n",
        "import string\n",
        "\n",
        "def hash_func(astring):\n",
        "    s = 0\n",
        "    for one in astring:\n",
        "        if one in string.whitespace:      # 공백으로 간주하는 모든 ASCII 문자를 포함하는 문자열. (인수가 유니코드 객체인지 확인)\n",
        "            continue\n",
        "        s = s + ord(one)     # ord(): 특정 한 문자를 아스키 코드 값으로 변환해줌.\n",
        "    return s\n",
        "\n",
        "\n",
        "def find_anagram_hash_function(word1, word2):\n",
        "    return hash_func(word1) == hash_func(word2)       # 문자열에서 모든 문자의 ord() 함수 결과가 같으면 두 문자열은 애너그램으로 판단.\n",
        "\n",
        "\n",
        "def test_find_anagram_hash_function():\n",
        "    word1 = \"buffy\"\n",
        "    word2 = \"bffyu\"\n",
        "    word3 = \"bffya\"\n",
        "    assert(find_anagram_hash_function(word1, word2) is True)\n",
        "    assert(find_anagram_hash_function(word1, word3) is False)\n",
        "    print(\"테스트 통과!\")\n",
        "\n",
        "if __name__ == \"__main__\":\n",
        "    test_find_anagram_hash_function()"
      ]
    },
    {
      "cell_type": "code",
      "source": [
        ""
      ],
      "metadata": {
        "id": "yIhAqdkCrzsC"
      },
      "execution_count": null,
      "outputs": []
    }
  ]
}