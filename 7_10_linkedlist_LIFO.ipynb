{
  "nbformat": 4,
  "nbformat_minor": 0,
  "metadata": {
    "colab": {
      "name": "7.10_linkedlist_LIFO.ipynb",
      "provenance": [],
      "collapsed_sections": [],
      "mount_file_id": "1ZL0D9poAcnM-U4B6DhlHMncqFHBdUwS3",
      "authorship_tag": "ABX9TyO62Lc4S75UAr7I+AlG/OlZ",
      "include_colab_link": true
    },
    "kernelspec": {
      "name": "python3",
      "display_name": "Python 3"
    },
    "language_info": {
      "name": "python"
    }
  },
  "cells": [
    {
      "cell_type": "markdown",
      "metadata": {
        "id": "view-in-github",
        "colab_type": "text"
      },
      "source": [
        "<a href=\"https://colab.research.google.com/github/lala991204/Data-Structure-Algorithm/blob/master/7_10_linkedlist_LIFO.ipynb\" target=\"_parent\"><img src=\"https://colab.research.google.com/assets/colab-badge.svg\" alt=\"Open In Colab\"/></a>"
      ]
    },
    {
      "cell_type": "code",
      "source": [
        "!pwd      # 현재 colab의 위치"
      ],
      "metadata": {
        "colab": {
          "base_uri": "https://localhost:8080/"
        },
        "id": "nUMmHq0s4SQh",
        "outputId": "fbc2bfcf-41f8-4225-be77-7aec950d2ca4"
      },
      "execution_count": null,
      "outputs": [
        {
          "output_type": "stream",
          "name": "stdout",
          "text": [
            "/content\n"
          ]
        }
      ]
    },
    {
      "cell_type": "code",
      "source": [
        "# colab의 위치를 현재 작업하는 폴더로 이동\n",
        "%cd /content/drive/MyDrive/Colab Notebooks/github/Data Structure and Algorithm"
      ],
      "metadata": {
        "colab": {
          "base_uri": "https://localhost:8080/"
        },
        "id": "UC3TfcUM4SNE",
        "outputId": "1972eda0-f442-4fe4-e9fe-9f7d51273072"
      },
      "execution_count": 3,
      "outputs": [
        {
          "output_type": "stream",
          "name": "stdout",
          "text": [
            "/content/drive/MyDrive/Colab Notebooks/github/Data Structure and Algorithm\n"
          ]
        }
      ]
    },
    {
      "cell_type": "code",
      "source": [
        "!pwd"
      ],
      "metadata": {
        "colab": {
          "base_uri": "https://localhost:8080/"
        },
        "id": "hkWBSGdQ4kiT",
        "outputId": "780bc6bc-1b55-4c94-bb6a-e8176f07049b"
      },
      "execution_count": 4,
      "outputs": [
        {
          "output_type": "stream",
          "name": "stdout",
          "text": [
            "/content/drive/MyDrive/Colab Notebooks/github/Data Structure and Algorithm\n"
          ]
        }
      ]
    },
    {
      "cell_type": "code",
      "execution_count": 7,
      "metadata": {
        "colab": {
          "base_uri": "https://localhost:8080/"
        },
        "id": "YqSzfPlo01Uo",
        "outputId": "101bcc87-8e7c-4092-aac9-d240582f7bf2"
      },
      "outputs": [
        {
          "output_type": "stream",
          "name": "stdout",
          "text": [
            "연결 리스트 출력:\n",
            "4 3 2 1 \n",
            "인덱스가 2인 노드 삭제 후, 연결 리스트 출력:\n",
            "4 3 1 \n",
            "값이 3인 노드 삭제 후, 연결 리스트 출력:\n",
            "4 1 \n",
            "값이 15인 노드 추가 후, 연결 리스트 출력:\n",
            "15 4 1 \n",
            "모든 노드 모두 삭제 후, 연결 리스트 출력:\n",
            "\n"
          ]
        }
      ],
      "source": [
        "from node_py import Node\n",
        "\n",
        "class LinkedListLIFO(object):\n",
        "    def __init__(self):\n",
        "        self.head = None      # 새 항목을 head에 추가할 것임.\n",
        "        self.length = 0\n",
        "\n",
        "    # 헤드부터 각 노드의 값을 출력한다.\n",
        "    def _printList(self):\n",
        "        node = self.head\n",
        "        while node:\n",
        "            print(node.value, end=\" \")\n",
        "            node = node.pointer\n",
        "        print()\n",
        "\n",
        "    # 이전 노드(prev)를 기반으로 노드(node)를 삭제한다.\n",
        "    def _delete(self, prev, node):\n",
        "        self.length -= 1\n",
        "        if not prev:\n",
        "            self.head = node.pointer\n",
        "        else:\n",
        "            prev.pointer = node.pointer\n",
        "\n",
        "    # 새 노드를 추가한다. 다음 노드로 헤드를 가리키고,\n",
        "    # 헤드는 새 노드를 가리킨다.\n",
        "    def _add(self, value):\n",
        "        self.length += 1\n",
        "        self.head = Node(value, self.head)\n",
        "\n",
        "    # 인덱스로 노드를 찾는다.\n",
        "    def _find(self, index):\n",
        "        prev = None\n",
        "        node = self.head\n",
        "        i = 0\n",
        "        while node and i < index:  # i == index 되기 전까지 진행됨.\n",
        "            prev = node\n",
        "            node = node.pointer\n",
        "            i += 1\n",
        "        return node, prev, i\n",
        "\n",
        "    # 값으로 노드를 찾는다.\n",
        "    def _find_by_value(self, value):\n",
        "        prev = None\n",
        "        node = self.head\n",
        "        found = False\n",
        "        while node and not found:  # 찾을 때까지\n",
        "            if node.value == value:\n",
        "                found = True\n",
        "            else:\n",
        "                prev = node\n",
        "                node = node.pointer\n",
        "        return node, prev, found\n",
        "\n",
        "    # 인덱스에 해당하는 노드를 찾아서 삭제한다.\n",
        "    def deleteNode(self, index):\n",
        "        node, prev, i = self._find(index)\n",
        "        if index == i:\n",
        "            self._delete(prev, node)\n",
        "        else:\n",
        "            print(f\"인덱스 {index}에 해당하는 노드가 없습니다.\")\n",
        "\n",
        "    # 값에 해당하는 노드를 찾아서 삭제한다.\n",
        "    def deleteNodeByValue(self, value):\n",
        "        node, prev, found = self._find_by_value(value)\n",
        "        if found:\n",
        "            self._delete(prev, node)\n",
        "        else:\n",
        "            print(f\"값 {value}에 해당하는 노드가 없습니다.\")\n",
        "\n",
        "\n",
        "if __name__ == \"__main__\":\n",
        "    ll = LinkedListLIFO()\n",
        "    for i in range(1, 5):\n",
        "        ll._add(i)\n",
        "    print(\"연결 리스트 출력:\")\n",
        "    ll._printList()\n",
        "    print(\"인덱스가 2인 노드 삭제 후, 연결 리스트 출력:\")\n",
        "    ll.deleteNode(2)\n",
        "    ll._printList()\n",
        "    print(\"값이 3인 노드 삭제 후, 연결 리스트 출력:\")\n",
        "    ll.deleteNodeByValue(3)\n",
        "    ll._printList()\n",
        "    print(\"값이 15인 노드 추가 후, 연결 리스트 출력:\")\n",
        "    ll._add(15)                        # 들어갈 때 앞쪽부터 들어가게 됨\n",
        "    ll._printList()\n",
        "    print(\"모든 노드 모두 삭제 후, 연결 리스트 출력:\")\n",
        "    for i in range(ll.length-1, -1, -1):   # 뒤에서부터 모두 삭제\n",
        "        ll.deleteNode(i)\n",
        "    ll._printList()"
      ]
    },
    {
      "cell_type": "code",
      "source": [
        ""
      ],
      "metadata": {
        "id": "czsTQO3UTjLZ"
      },
      "execution_count": null,
      "outputs": []
    }
  ]
}