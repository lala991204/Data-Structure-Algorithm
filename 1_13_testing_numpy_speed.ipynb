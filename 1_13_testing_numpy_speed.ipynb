{
  "nbformat": 4,
  "nbformat_minor": 0,
  "metadata": {
    "colab": {
      "name": "1.13_testing_numpy_speed.ipynb",
      "provenance": [],
      "authorship_tag": "ABX9TyN3A1D87lfeQFPT12nJPxPg",
      "include_colab_link": true
    },
    "kernelspec": {
      "name": "python3",
      "display_name": "Python 3"
    },
    "language_info": {
      "name": "python"
    }
  },
  "cells": [
    {
      "cell_type": "markdown",
      "metadata": {
        "id": "view-in-github",
        "colab_type": "text"
      },
      "source": [
        "<a href=\"https://colab.research.google.com/github/lala991204/Data-Structure-Algorithm/blob/master/1_13_testing_numpy_speed.ipynb\" target=\"_parent\"><img src=\"https://colab.research.google.com/assets/colab-badge.svg\" alt=\"Open In Colab\"/></a>"
      ]
    },
    {
      "cell_type": "code",
      "execution_count": 4,
      "metadata": {
        "colab": {
          "base_uri": "https://localhost:8080/"
        },
        "id": "xk1atGqDqjQq",
        "outputId": "5ea9a5a4-600f-4820-b733-c6209705b0d0"
      },
      "outputs": [
        {
          "output_type": "stream",
          "name": "stdout",
          "text": [
            "3.6177690029144287\n",
            "0.07063841819763184\n"
          ]
        }
      ],
      "source": [
        "import numpy\n",
        "import time\n",
        "\n",
        "def trad_version():\n",
        "    t1 = time.time()         # 스타트 시각\n",
        "    X = range(10000000)\n",
        "    Y = range(10000000)\n",
        "    Z = []\n",
        "    for i in range(len(X)):\n",
        "        Z.append(X[i]+Y[i])\n",
        "    return time.time() - t1    # '마지막 시각 - 스타트 시각' 즉, 걸린 시간 측정 값 반환\n",
        "\n",
        "def numpy_version():\n",
        "    t1 = time.time()\n",
        "    X = numpy.arange(10000000)\n",
        "    Y = numpy.arange(10000000)\n",
        "    Z = X + Y\n",
        "    return time.time() - t1\n",
        "\n",
        "if __name__ == \"__main__\":\n",
        "    print(trad_version())\n",
        "    print(numpy_version())\n",
        "\n",
        "# 넘파이 배열은 파이썬 리스트보다 훨씬 더 효율적임."
      ]
    },
    {
      "cell_type": "code",
      "source": [
        ""
      ],
      "metadata": {
        "id": "bxEK6wFVteKU"
      },
      "execution_count": null,
      "outputs": []
    }
  ]
}