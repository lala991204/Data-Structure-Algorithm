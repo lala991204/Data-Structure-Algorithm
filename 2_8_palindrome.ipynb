{
  "nbformat": 4,
  "nbformat_minor": 0,
  "metadata": {
    "colab": {
      "name": "2.8_palindrome.ipynb",
      "provenance": [],
      "authorship_tag": "ABX9TyPc1Hgm7VLOskNcRp1k7q8G",
      "include_colab_link": true
    },
    "kernelspec": {
      "name": "python3",
      "display_name": "Python 3"
    },
    "language_info": {
      "name": "python"
    }
  },
  "cells": [
    {
      "cell_type": "markdown",
      "metadata": {
        "id": "view-in-github",
        "colab_type": "text"
      },
      "source": [
        "<a href=\"https://colab.research.google.com/github/lala991204/Data-Structure-Algorithm/blob/master/2_8_palindrome.ipynb\" target=\"_parent\"><img src=\"https://colab.research.google.com/assets/colab-badge.svg\" alt=\"Open In Colab\"/></a>"
      ]
    },
    {
      "cell_type": "code",
      "execution_count": 1,
      "metadata": {
        "id": "jX8sbInW9mHr"
      },
      "outputs": [],
      "source": [
        "from collections import defaultdict\n",
        "\n",
        "def is_palindrome(array):\n",
        "    array = array.strip(' ')\n",
        "    if len(array) < 2:\n",
        "        \n",
        "        return True\n",
        "\n",
        "    if array[0] == array[-1]:\n",
        "        \n",
        "        return is_palindrome(array[1:-1])\n",
        "    \n",
        "    else:\n",
        "        \n",
        "        return False"
      ]
    },
    {
      "cell_type": "code",
      "source": [
        "print(is_palindrome('subi no onibus'))\n",
        "print(is_palindrome('helllo there'))\n",
        "print(is_palindrome('h'))\n",
        "print(is_palindrome(''))"
      ],
      "metadata": {
        "colab": {
          "base_uri": "https://localhost:8080/"
        },
        "id": "TK_hHUTC99Ir",
        "outputId": "b1d5f16c-f0eb-4ad0-ae1f-64b9cb7035ca"
      },
      "execution_count": 2,
      "outputs": [
        {
          "output_type": "stream",
          "name": "stdout",
          "text": [
            "True\n",
            "False\n",
            "True\n",
            "True\n"
          ]
        }
      ]
    },
    {
      "cell_type": "code",
      "source": [
        ""
      ],
      "metadata": {
        "id": "PWsdcVew-OWo"
      },
      "execution_count": null,
      "outputs": []
    }
  ]
}