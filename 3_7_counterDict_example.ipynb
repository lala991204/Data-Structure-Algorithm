{
  "nbformat": 4,
  "nbformat_minor": 0,
  "metadata": {
    "colab": {
      "name": "3.7_counterDict_example.ipynb",
      "provenance": [],
      "collapsed_sections": [],
      "authorship_tag": "ABX9TyN6Vc2yHP6XCaiXtMbvSPBC",
      "include_colab_link": true
    },
    "kernelspec": {
      "name": "python3",
      "display_name": "Python 3"
    },
    "language_info": {
      "name": "python"
    }
  },
  "cells": [
    {
      "cell_type": "markdown",
      "metadata": {
        "id": "view-in-github",
        "colab_type": "text"
      },
      "source": [
        "<a href=\"https://colab.research.google.com/github/lala991204/Data-Structure-Algorithm/blob/master/3_7_counterDict_example.ipynb\" target=\"_parent\"><img src=\"https://colab.research.google.com/assets/colab-badge.svg\" alt=\"Open In Colab\"/></a>"
      ]
    },
    {
      "cell_type": "code",
      "execution_count": 2,
      "metadata": {
        "colab": {
          "base_uri": "https://localhost:8080/"
        },
        "id": "6a94fHw1lLp4",
        "outputId": "ff19d4b2-ead8-42f0-9ad0-5b701fcdbaed"
      },
      "outputs": [
        {
          "output_type": "stream",
          "name": "stdout",
          "text": [
            "Counter({5: 4, 1: 3, 2: 3, 3: 1, 4: 1})\n",
            "Counter({1: 4, 2: 4, 5: 4, 3: 2, 4: 1})\n",
            "Counter({1: 5, 2: 4, 5: 4, 3: 3, 4: 2})\n",
            "\n",
            "Counter({1: 1, 4: 1, 3: 1})\n",
            "Counter({1: 6, 2: 4, 3: 4, 5: 4, 4: 3})\n",
            "Counter({1: 4, 2: 4, 5: 4, 3: 2, 4: 1})\n"
          ]
        }
      ],
      "source": [
        "from collections import Counter\n",
        "\n",
        "def counter_example():\n",
        "    '''항목의 발생 횟수를 매핑하는 딕셔너리를 생성한다. '''\n",
        "    seq1 = [1, 2, 3, 5, 1, 2, 5, 5, 2, 5, 1, 4]\n",
        "    seq_counts = Counter(seq1)\n",
        "    print(seq_counts)\n",
        "\n",
        "    '''항목의 발생 횟수를 수동으로 갱신하거나, update() 메서드를 사용할 수 있다.'''\n",
        "    seq2 = [1, 2, 3]\n",
        "    seq_counts.update(seq2)\n",
        "    print(seq_counts)\n",
        "\n",
        "    seq3 = [1, 4, 3]\n",
        "    for key in seq3:\n",
        "        seq_counts[key] += 1\n",
        "    print(seq_counts)\n",
        "    print()\n",
        "\n",
        "    ''' a+b, a-b 같은 셋 연산을 사용할 수 있다.'''\n",
        "    seq_counts_2 = Counter(seq3)\n",
        "    print(seq_counts_2)\n",
        "    print(seq_counts + seq_counts_2)\n",
        "    print(seq_counts - seq_counts_2)\n",
        "\n",
        "if __name__ == \"__main__\":\n",
        "    counter_example()"
      ]
    },
    {
      "cell_type": "code",
      "source": [
        ""
      ],
      "metadata": {
        "id": "jL4FGBL7mUJm"
      },
      "execution_count": null,
      "outputs": []
    }
  ]
}