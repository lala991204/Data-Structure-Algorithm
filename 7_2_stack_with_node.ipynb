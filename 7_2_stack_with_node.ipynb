{
  "nbformat": 4,
  "nbformat_minor": 0,
  "metadata": {
    "colab": {
      "name": "7.2_stack_with_node.ipynb",
      "provenance": [],
      "collapsed_sections": [],
      "authorship_tag": "ABX9TyN7EJyBM2mJsJSvCDl/gLSf",
      "include_colab_link": true
    },
    "kernelspec": {
      "name": "python3",
      "display_name": "Python 3"
    },
    "language_info": {
      "name": "python"
    }
  },
  "cells": [
    {
      "cell_type": "markdown",
      "metadata": {
        "id": "view-in-github",
        "colab_type": "text"
      },
      "source": [
        "<a href=\"https://colab.research.google.com/github/lala991204/Data-Structure-Algorithm/blob/master/7_2_stack_with_node.ipynb\" target=\"_parent\"><img src=\"https://colab.research.google.com/assets/colab-badge.svg\" alt=\"Open In Colab\"/></a>"
      ]
    },
    {
      "cell_type": "code",
      "execution_count": 2,
      "metadata": {
        "colab": {
          "base_uri": "https://localhost:8080/"
        },
        "id": "FtV0mgiM9Eor",
        "outputId": "28c530fb-dfd7-4087-b751-652064429049"
      },
      "outputs": [
        {
          "output_type": "stream",
          "name": "stdout",
          "text": [
            "스택이 비었나요? True\n",
            "스택에 숫자 0~9를 추가합니다.\n",
            "9 8 7 6 5 4 3 2 1 0 \n",
            "스택 크기: 10\n",
            "peek: 9\n",
            "pop: 9\n",
            "peek: 8\n",
            "스택이 비었나요? False\n",
            "8 7 6 5 4 3 2 1 0 \n"
          ]
        }
      ],
      "source": [
        "# 노드(객체)의 컨테이너 이용\n",
        "\n",
        "class Node(object):\n",
        "    def __init__(self, value=None, pointer=None):    # 값과 그 값을 넣을 위치(가리키는 곳)\n",
        "        self.value = value\n",
        "        self.pointer = pointer\n",
        "\n",
        "class Stack(object):\n",
        "    def __init__(self):\n",
        "        self.head = None\n",
        "        self.count = 0\n",
        "\n",
        "    def isEmpty(self):\n",
        "        return not bool(self.head)\n",
        "\n",
        "    def push(self, item):\n",
        "        self.head = Node(item, self.head)\n",
        "        self.count += 1\n",
        "\n",
        "    def pop(self):\n",
        "        if self.count > 0 and self.head:   \n",
        "            node = self.head\n",
        "            self.head = node.pointer\n",
        "            self.count -= 1\n",
        "            return node.value\n",
        "        else:\n",
        "            print(\"Stack is empty.\")\n",
        "\n",
        "    def peek(self):\n",
        "        if self.count > 0 and self.head:\n",
        "            return self.head.value\n",
        "        else:\n",
        "            print(\"Stack is empty.\")\n",
        "    \n",
        "    def size(self):\n",
        "        return self.count\n",
        "\n",
        "    def _printList(self):\n",
        "        node = self.head\n",
        "        while node:\n",
        "            print(node.value, end=\" \")   # 좌우방향으로 간격 띄워 출력\n",
        "            node = node.pointer\n",
        "        print()\n",
        "\n",
        "if __name__ == \"__main__\":\n",
        "    stack = Stack()\n",
        "    print(\"스택이 비었나요? {0}\".format(stack.isEmpty()))\n",
        "    print(\"스택에 숫자 0~9를 추가합니다.\")\n",
        "    for i in range(10):\n",
        "        stack.push(i)\n",
        "    stack._printList()\n",
        "    print(\"스택 크기: {0}\".format(stack.size()))\n",
        "    print(\"peek: {0}\".format(stack.peek()))\n",
        "    print(\"pop: {0}\".format(stack.pop()))\n",
        "    print(\"peek: {0}\".format(stack.peek()))\n",
        "    print(\"스택이 비었나요? {0}\".format(stack.isEmpty()))\n",
        "    stack._printList()"
      ]
    },
    {
      "cell_type": "code",
      "source": [
        ""
      ],
      "metadata": {
        "id": "oV6KNxepBF7d"
      },
      "execution_count": null,
      "outputs": []
    }
  ]
}