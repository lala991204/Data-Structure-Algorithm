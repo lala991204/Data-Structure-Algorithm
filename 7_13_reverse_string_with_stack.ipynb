{
  "nbformat": 4,
  "nbformat_minor": 0,
  "metadata": {
    "colab": {
      "name": "7.13_reverse_string_with_stack.ipynb",
      "provenance": [],
      "collapsed_sections": [],
      "toc_visible": true,
      "mount_file_id": "1EkizEDD7XLick1bHtDICse9cOhohqLoG",
      "authorship_tag": "ABX9TyMnnneCpP38OkLgLB7K9wmC",
      "include_colab_link": true
    },
    "kernelspec": {
      "name": "python3",
      "display_name": "Python 3"
    },
    "language_info": {
      "name": "python"
    }
  },
  "cells": [
    {
      "cell_type": "markdown",
      "metadata": {
        "id": "view-in-github",
        "colab_type": "text"
      },
      "source": [
        "<a href=\"https://colab.research.google.com/github/lala991204/Data-Structure-Algorithm/blob/master/7_13_reverse_string_with_stack.ipynb\" target=\"_parent\"><img src=\"https://colab.research.google.com/assets/colab-badge.svg\" alt=\"Open In Colab\"/></a>"
      ]
    },
    {
      "cell_type": "code",
      "execution_count": null,
      "metadata": {
        "colab": {
          "base_uri": "https://localhost:8080/"
        },
        "id": "taRTRkxS2QSq",
        "outputId": "da062dbe-a647-4bb8-d536-e7a5e20450e0"
      },
      "outputs": [
        {
          "output_type": "stream",
          "name": "stdout",
          "text": [
            "/content/drive/MyDrive/Colab Notebooks/github/Data Structure and Algorithm\n"
          ]
        }
      ],
      "source": [
        "%cd /content/drive/MyDrive/Colab Notebooks/github/Data Structure and Algorithm"
      ]
    },
    {
      "cell_type": "markdown",
      "source": [
        "스택은 데이터를 역순으로 정렬하거나 검색할 때 사용할 수 있다."
      ],
      "metadata": {
        "id": "6EpP67aG9y9F"
      }
    },
    {
      "cell_type": "code",
      "source": [
        "from stack_py import Stack\n",
        "\n",
        "def reverse_string_with_stack(str1):\n",
        "    s = Stack()\n",
        "    revStr = ''      # 빈 문자열\n",
        "\n",
        "    for c in str1:\n",
        "        s.push(c)\n",
        "    \n",
        "    while not s.isEmpty():\n",
        "        revStr += s.pop()\n",
        "\n",
        "    return revStr\n",
        "\n",
        "if __name__ == \"__main__\":\n",
        "    str1 = '버피는 천사다.'\n",
        "    print(str1)\n",
        "    print(reverse_string_with_stack(str1))"
      ],
      "metadata": {
        "colab": {
          "base_uri": "https://localhost:8080/"
        },
        "id": "Rv5_TZuV3Bwl",
        "outputId": "5c2ff4bd-276e-480b-a85f-e0c39c3f4a07"
      },
      "execution_count": null,
      "outputs": [
        {
          "output_type": "stream",
          "name": "stdout",
          "text": [
            "버피는 천사다.\n",
            ".다사천 는피버\n"
          ]
        }
      ]
    },
    {
      "cell_type": "code",
      "source": [
        ""
      ],
      "metadata": {
        "id": "9ooAyBY13ZK1"
      },
      "execution_count": null,
      "outputs": []
    }
  ]
}