{
  "nbformat": 4,
  "nbformat_minor": 0,
  "metadata": {
    "colab": {
      "name": "7.11_linkedlist_FIFO.ipynb",
      "provenance": [],
      "collapsed_sections": [],
      "mount_file_id": "11aek7_va-gwAfepQuDZtfKR5ZPDovIVY",
      "authorship_tag": "ABX9TyOA+PCNr0Kc7Dds7yfaG9nk",
      "include_colab_link": true
    },
    "kernelspec": {
      "name": "python3",
      "display_name": "Python 3"
    },
    "language_info": {
      "name": "python"
    }
  },
  "cells": [
    {
      "cell_type": "markdown",
      "metadata": {
        "id": "view-in-github",
        "colab_type": "text"
      },
      "source": [
        "<a href=\"https://colab.research.google.com/github/lala991204/Data-Structure-Algorithm/blob/master/7_11_linkedlist_FIFO.ipynb\" target=\"_parent\"><img src=\"https://colab.research.google.com/assets/colab-badge.svg\" alt=\"Open In Colab\"/></a>"
      ]
    },
    {
      "cell_type": "code",
      "source": [
        "# colab의 위치를 현재 작업하는 폴더로 이동\n",
        "%cd /content/drive/MyDrive/Colab Notebooks/github/Data Structure and Algorithm"
      ],
      "metadata": {
        "colab": {
          "base_uri": "https://localhost:8080/"
        },
        "id": "pehsoJFK9y03",
        "outputId": "d01d38b6-ba7a-4993-8e8a-154c9ff23115"
      },
      "execution_count": null,
      "outputs": [
        {
          "output_type": "stream",
          "name": "stdout",
          "text": [
            "/content/drive/MyDrive/Colab Notebooks/github/Data Structure and Algorithm\n"
          ]
        }
      ]
    },
    {
      "cell_type": "code",
      "execution_count": null,
      "metadata": {
        "colab": {
          "base_uri": "https://localhost:8080/"
        },
        "id": "oSUNlt2s6L3r",
        "outputId": "9017a72f-8977-45a0-bdea-8d15bc16597a"
      },
      "outputs": [
        {
          "output_type": "stream",
          "name": "stdout",
          "text": [
            "연결 리스트 출력:\n",
            "1 2 3 4 \n",
            "인덱스가 2인 노드 삭제 후, 연결 리스트 출력:\n",
            "1 2 4 \n",
            "값이 15인 노드 추가 후, 연결 리스트 출력:\n",
            "1 2 4 15 \n",
            "모든 노드 모두 삭제 후, 연결 리스트 출력:\n",
            "연결 리스트가 비었습니다.\n",
            "\n"
          ]
        }
      ],
      "source": [
        "from node_py import Node\n",
        "\n",
        "class LinkedListFIFO(object):\n",
        "    def __init__(self):\n",
        "        self.head = None  \n",
        "        self.length = 0\n",
        "        self.tail = None    # 새 항목을 tail에 추가할 것임.\n",
        "    \n",
        "    # 헤드부터 각 노드의 값을 출력한다.(FIFO 구조가 되도록, 즉 처음에 들어간 것부터 나오게/ 처음 들어간 방향쪽이 head임)\n",
        "    def _printList(self):          \n",
        "        node = self.head\n",
        "        while node:\n",
        "            print(node.value, end=\" \")\n",
        "            node = node.pointer\n",
        "        print()\n",
        "\n",
        "    # 첫 번째 위치에 노드를 추가한다.\n",
        "    def _addFist(self, value):\n",
        "        self.length = 1\n",
        "        node = Node(value)\n",
        "        self.head = node\n",
        "        self.tail = node\n",
        "\n",
        "    # 첫 번째 위치의 노드를 삭제한다.\n",
        "    def _deleteFirst(self):\n",
        "        self.length = 0\n",
        "        self.head = None\n",
        "        self.tail = None\n",
        "        print(\"연결 리스트가 비었습니다.\")\n",
        "    \n",
        "    # 새 노드를 추가한다. tail이 있다면, tail의 다음 노드는\n",
        "    # 새 노드를 가리키고, tail은 새 노드를 가리킨다.\n",
        "    def _add(self, value):\n",
        "        self.length += 1\n",
        "        node = Node(value)\n",
        "        if self.tail:\n",
        "            self.tail.pointer = node\n",
        "        self.tail = node\n",
        "\n",
        "    # 새 노드를 추가한다.\n",
        "    def addNode(self, value):\n",
        "        if not self.head:     # head가 없다면 첫 번째 위치에 노드 추가\n",
        "            self._addFist(value)\n",
        "        else:\n",
        "            self._add(value)\n",
        "\n",
        "    # 인덱스로 노드를 찾는다.\n",
        "    def _find(self, index):\n",
        "        prev = None\n",
        "        node = self.head\n",
        "        i = 0\n",
        "        while node and i < index:      # i==index 되기 전까지 진행\n",
        "            prev = node\n",
        "            node = node.pointer\n",
        "            i += 1\n",
        "        return node, prev, i\n",
        "\n",
        "    # 값으로 노드를 찾는다.\n",
        "    def _find_by_value(self, value):\n",
        "        prev = None\n",
        "        node = self.head\n",
        "        found = False\n",
        "        while node and not found:       # 찾을 때까지\n",
        "            if node.value == value:\n",
        "                found = True\n",
        "            else:\n",
        "                prev = node\n",
        "                node = node.pointer\n",
        "        return node, prev, found\n",
        "\n",
        "    # 인덱스에 해당하는 노드를 삭제한다.\n",
        "    def deleteNode(self, index):\n",
        "        if not self.head or not self.head.pointer:     # head와 head pointer가 존재하지 않으면 첫 번째 위치의 노드 삭제\n",
        "            self._deleteFirst()\n",
        "        else:\n",
        "            node, prev, i = self._find(index)\n",
        "            if i == index and node:\n",
        "                self.length -= 1 \n",
        "                if i == 0 or not prev:    # 0번째 인덱스인 경우 또는 prev가 없는 경우\n",
        "                    self.head = node.pointer\n",
        "                    self.tail = node.pointer\n",
        "                else:\n",
        "                    prev.pointer = node.pointer\n",
        "            else:\n",
        "                print(\"인덱스 {0}에 해당하는 노드가 없습니다.\".format(index))\n",
        "    \n",
        "\n",
        "    # 값에 해당하는 노드를 삭제한다.\n",
        "    def deleteNodeByValue(self, value):\n",
        "        if not self.head or not self.head.pointer:\n",
        "            self._deleteFirst()\n",
        "        else:\n",
        "            node, prev, i = self._find_by_value(value)\n",
        "            if node and node.value == value:\n",
        "                self.length -= 1\n",
        "                if i == 0 or not prev:\n",
        "                    self.head = node.pointer\n",
        "                    self.tail = node.pointer\n",
        "                else:\n",
        "                    prev.pointer = node.pointer\n",
        "            else:\n",
        "                print(\"값 {0}에 해당하는 노드가 없습니다.\".format(value))\n",
        "\n",
        "\n",
        "if __name__ == \"__main__\":\n",
        "    ll = LinkedListFIFO()\n",
        "    for i in range(1, 5):\n",
        "        ll.addNode(i)\n",
        "    print(\"연결 리스트 출력:\")\n",
        "    ll._printList()\n",
        "    print(\"인덱스가 2인 노드 삭제 후, 연결 리스트 출력:\")\n",
        "    ll.deleteNode(2)\n",
        "    ll._printList()\n",
        "    print(\"값이 15인 노드 추가 후, 연결 리스트 출력:\")\n",
        "    ll.addNode(15)\n",
        "    ll._printList()\n",
        "    print(\"모든 노드 모두 삭제 후, 연결 리스트 출력:\")\n",
        "    for i in range(ll.length-1, -1, -1): \n",
        "        ll.deleteNode(i)\n",
        "    ll._printList()"
      ]
    },
    {
      "cell_type": "code",
      "source": [
        ""
      ],
      "metadata": {
        "id": "nQSJ2jjk9x-k"
      },
      "execution_count": null,
      "outputs": []
    }
  ]
}